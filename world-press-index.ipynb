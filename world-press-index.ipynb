{
 "cells": [
  {
   "cell_type": "markdown",
   "id": "ancient-reminder",
   "metadata": {
    "papermill": {
     "duration": 0.019595,
     "end_time": "2021-06-22T09:02:16.339554",
     "exception": false,
     "start_time": "2021-06-22T09:02:16.319959",
     "status": "completed"
    },
    "tags": []
   },
   "source": [
    "# World Press Index"
   ]
  },
  {
   "cell_type": "markdown",
   "id": "aquatic-frequency",
   "metadata": {
    "papermill": {
     "duration": 0.017782,
     "end_time": "2021-06-22T09:02:16.375919",
     "exception": false,
     "start_time": "2021-06-22T09:02:16.358137",
     "status": "completed"
    },
    "tags": []
   },
   "source": [
    "According to wikipedia, the Press Freedom Index is an annual ranking of countries compiled and published by Reporters Without Borders since 2002 based upon the organisation's own assessment of the countries' press freedom records in the previous year. It intends to reflect the degree of freedom that journalists, news organisations, and netizens have in each country, and the efforts made by authorities to respect this freedom. Reporters Without Borders is careful to note that the index only deals with press freedom and does not measure the quality of journalism, nor does it look at human rights violations in general."
   ]
  },
  {
   "cell_type": "markdown",
   "id": "laughing-inclusion",
   "metadata": {
    "papermill": {
     "duration": 0.017691,
     "end_time": "2021-06-22T09:02:16.411705",
     "exception": false,
     "start_time": "2021-06-22T09:02:16.394014",
     "status": "completed"
    },
    "tags": []
   },
   "source": [
    "# Table of Content\n",
    "\n",
    "#### 1. [ Loading and Preparing Data](#section-one)\n",
    "#### 2. [ Country Based Observation](#section-two)\n",
    "#### 3. [ Continent Based Press Index](#section-three)\n",
    "#### 4. [ World map by Global Press Index](#section-four)"
   ]
  },
  {
   "cell_type": "code",
   "execution_count": 1,
   "id": "administrative-cornwall",
   "metadata": {
    "_kg_hide-input": true,
    "execution": {
     "iopub.execute_input": "2021-06-22T09:02:16.461142Z",
     "iopub.status.busy": "2021-06-22T09:02:16.460443Z",
     "iopub.status.idle": "2021-06-22T09:02:18.671040Z",
     "shell.execute_reply": "2021-06-22T09:02:18.670427Z",
     "shell.execute_reply.started": "2021-06-22T08:05:48.19053Z"
    },
    "papermill": {
     "duration": 2.241436,
     "end_time": "2021-06-22T09:02:18.671205",
     "exception": false,
     "start_time": "2021-06-22T09:02:16.429769",
     "status": "completed"
    },
    "tags": []
   },
   "outputs": [
    {
     "name": "stdout",
     "output_type": "stream",
     "text": [
      "/kaggle/input/world-press-index-20192021/World Press Index 2021.csv\n"
     ]
    }
   ],
   "source": [
    "import numpy as np \n",
    "import pandas as pd \n",
    "import matplotlib.pyplot as plt\n",
    "import seaborn as sns\n",
    "import pycountry\n",
    "import plotly.express as px\n",
    "import plotly.graph_objs as go\n",
    "\n",
    "import os\n",
    "for dirname, _, filenames in os.walk('/kaggle/input'):\n",
    "    for filename in filenames:\n",
    "        print(os.path.join(dirname, filename))"
   ]
  },
  {
   "cell_type": "markdown",
   "id": "tropical-simple",
   "metadata": {
    "papermill": {
     "duration": 0.017983,
     "end_time": "2021-06-22T09:02:18.708093",
     "exception": false,
     "start_time": "2021-06-22T09:02:18.690110",
     "status": "completed"
    },
    "tags": []
   },
   "source": [
    "<a id=\"section-one\"></a>\n",
    "# 1. Loading and Preparing Data"
   ]
  },
  {
   "cell_type": "code",
   "execution_count": 2,
   "id": "artificial-danger",
   "metadata": {
    "execution": {
     "iopub.execute_input": "2021-06-22T09:02:18.747693Z",
     "iopub.status.busy": "2021-06-22T09:02:18.747066Z",
     "iopub.status.idle": "2021-06-22T09:02:18.861150Z",
     "shell.execute_reply": "2021-06-22T09:02:18.860536Z",
     "shell.execute_reply.started": "2021-06-22T08:34:21.453883Z"
    },
    "papermill": {
     "duration": 0.13484,
     "end_time": "2021-06-22T09:02:18.861284",
     "exception": false,
     "start_time": "2021-06-22T09:02:18.726444",
     "status": "completed"
    },
    "tags": []
   },
   "outputs": [
    {
     "data": {
      "text/html": [
       "<div>\n",
       "<style scoped>\n",
       "    .dataframe tbody tr th:only-of-type {\n",
       "        vertical-align: middle;\n",
       "    }\n",
       "\n",
       "    .dataframe tbody tr th {\n",
       "        vertical-align: top;\n",
       "    }\n",
       "\n",
       "    .dataframe thead th {\n",
       "        text-align: right;\n",
       "    }\n",
       "</style>\n",
       "<table border=\"1\" class=\"dataframe\">\n",
       "  <thead>\n",
       "    <tr style=\"text-align: right;\">\n",
       "      <th></th>\n",
       "      <th>Abuse Score 2021</th>\n",
       "      <th>Underlying Situation Score 2021</th>\n",
       "      <th>Global Score 2021</th>\n",
       "      <th>Global Score 2020</th>\n",
       "      <th>Global Score 2019</th>\n",
       "    </tr>\n",
       "    <tr>\n",
       "      <th>Country Name</th>\n",
       "      <th></th>\n",
       "      <th></th>\n",
       "      <th></th>\n",
       "      <th></th>\n",
       "      <th></th>\n",
       "    </tr>\n",
       "  </thead>\n",
       "  <tbody>\n",
       "    <tr>\n",
       "      <th>Norway</th>\n",
       "      <td>0.00</td>\n",
       "      <td>6.72</td>\n",
       "      <td>6.72</td>\n",
       "      <td>7.84</td>\n",
       "      <td>7.82</td>\n",
       "    </tr>\n",
       "    <tr>\n",
       "      <th>Finland</th>\n",
       "      <td>0.00</td>\n",
       "      <td>6.99</td>\n",
       "      <td>6.99</td>\n",
       "      <td>7.93</td>\n",
       "      <td>7.90</td>\n",
       "    </tr>\n",
       "    <tr>\n",
       "      <th>Sweden</th>\n",
       "      <td>0.00</td>\n",
       "      <td>7.24</td>\n",
       "      <td>7.24</td>\n",
       "      <td>9.25</td>\n",
       "      <td>8.31</td>\n",
       "    </tr>\n",
       "    <tr>\n",
       "      <th>Denmark</th>\n",
       "      <td>0.00</td>\n",
       "      <td>8.57</td>\n",
       "      <td>8.57</td>\n",
       "      <td>8.13</td>\n",
       "      <td>9.87</td>\n",
       "    </tr>\n",
       "    <tr>\n",
       "      <th>Costa Rica</th>\n",
       "      <td>10.99</td>\n",
       "      <td>8.21</td>\n",
       "      <td>8.76</td>\n",
       "      <td>10.53</td>\n",
       "      <td>12.24</td>\n",
       "    </tr>\n",
       "  </tbody>\n",
       "</table>\n",
       "</div>"
      ],
      "text/plain": [
       "              Abuse Score 2021  Underlying Situation Score 2021  \\\n",
       "Country Name                                                      \n",
       "Norway                    0.00                             6.72   \n",
       "Finland                   0.00                             6.99   \n",
       "Sweden                    0.00                             7.24   \n",
       "Denmark                   0.00                             8.57   \n",
       "Costa Rica               10.99                             8.21   \n",
       "\n",
       "              Global Score 2021  Global Score 2020  Global Score 2019  \n",
       "Country Name                                                           \n",
       "Norway                     6.72               7.84               7.82  \n",
       "Finland                    6.99               7.93               7.90  \n",
       "Sweden                     7.24               9.25               8.31  \n",
       "Denmark                    8.57               8.13               9.87  \n",
       "Costa Rica                 8.76              10.53              12.24  "
      ]
     },
     "execution_count": 2,
     "metadata": {},
     "output_type": "execute_result"
    }
   ],
   "source": [
    "data = pd.read_csv(\"../input/world-press-index-20192021/World Press Index 2021.csv\").set_index(\"Country Name\")\n",
    "data.head()"
   ]
  },
  {
   "cell_type": "code",
   "execution_count": 3,
   "id": "alpine-logging",
   "metadata": {
    "execution": {
     "iopub.execute_input": "2021-06-22T09:02:18.905340Z",
     "iopub.status.busy": "2021-06-22T09:02:18.904486Z",
     "iopub.status.idle": "2021-06-22T09:02:18.908576Z",
     "shell.execute_reply": "2021-06-22T09:02:18.907926Z",
     "shell.execute_reply.started": "2021-06-22T08:35:33.88716Z"
    },
    "papermill": {
     "duration": 0.028163,
     "end_time": "2021-06-22T09:02:18.908712",
     "exception": false,
     "start_time": "2021-06-22T09:02:18.880549",
     "status": "completed"
    },
    "tags": []
   },
   "outputs": [
    {
     "data": {
      "text/plain": [
       "Index(['Norway', 'Finland', 'Sweden', 'Denmark', 'Costa Rica', 'Netherlands',\n",
       "       'Jamaica', 'New Zealand', 'Portugal', 'Switzerland',\n",
       "       ...\n",
       "       'Cuba', 'Laos', 'Syria', 'Iran', 'Vietnam', 'Djibouti', 'China',\n",
       "       'Turkmenistan', 'North Korea', 'Eritrea'],\n",
       "      dtype='object', name='Country Name', length=180)"
      ]
     },
     "execution_count": 3,
     "metadata": {},
     "output_type": "execute_result"
    }
   ],
   "source": [
    "data.index.unique()"
   ]
  },
  {
   "cell_type": "code",
   "execution_count": 4,
   "id": "flush-milan",
   "metadata": {
    "execution": {
     "iopub.execute_input": "2021-06-22T09:02:18.953516Z",
     "iopub.status.busy": "2021-06-22T09:02:18.952816Z",
     "iopub.status.idle": "2021-06-22T09:02:19.013354Z",
     "shell.execute_reply": "2021-06-22T09:02:19.013810Z",
     "shell.execute_reply.started": "2021-06-22T08:55:06.657236Z"
    },
    "papermill": {
     "duration": 0.086077,
     "end_time": "2021-06-22T09:02:19.013989",
     "exception": false,
     "start_time": "2021-06-22T09:02:18.927912",
     "status": "completed"
    },
    "tags": []
   },
   "outputs": [
    {
     "data": {
      "text/html": [
       "<div>\n",
       "<style scoped>\n",
       "    .dataframe tbody tr th:only-of-type {\n",
       "        vertical-align: middle;\n",
       "    }\n",
       "\n",
       "    .dataframe tbody tr th {\n",
       "        vertical-align: top;\n",
       "    }\n",
       "\n",
       "    .dataframe thead th {\n",
       "        text-align: right;\n",
       "    }\n",
       "</style>\n",
       "<table border=\"1\" class=\"dataframe\">\n",
       "  <thead>\n",
       "    <tr style=\"text-align: right;\">\n",
       "      <th></th>\n",
       "      <th>Abuse Score 2021</th>\n",
       "      <th>Underlying Situation Score 2021</th>\n",
       "      <th>Global Score 2021</th>\n",
       "      <th>Global Score 2020</th>\n",
       "      <th>Global Score 2019</th>\n",
       "      <th>iso_alpha</th>\n",
       "      <th>Country</th>\n",
       "    </tr>\n",
       "    <tr>\n",
       "      <th>Country Name</th>\n",
       "      <th></th>\n",
       "      <th></th>\n",
       "      <th></th>\n",
       "      <th></th>\n",
       "      <th></th>\n",
       "      <th></th>\n",
       "      <th></th>\n",
       "    </tr>\n",
       "  </thead>\n",
       "  <tbody>\n",
       "    <tr>\n",
       "      <th>Norway</th>\n",
       "      <td>0.00</td>\n",
       "      <td>6.72</td>\n",
       "      <td>6.72</td>\n",
       "      <td>7.84</td>\n",
       "      <td>7.82</td>\n",
       "      <td>NOR</td>\n",
       "      <td>Norway</td>\n",
       "    </tr>\n",
       "    <tr>\n",
       "      <th>Finland</th>\n",
       "      <td>0.00</td>\n",
       "      <td>6.99</td>\n",
       "      <td>6.99</td>\n",
       "      <td>7.93</td>\n",
       "      <td>7.90</td>\n",
       "      <td>FIN</td>\n",
       "      <td>Finland</td>\n",
       "    </tr>\n",
       "    <tr>\n",
       "      <th>Sweden</th>\n",
       "      <td>0.00</td>\n",
       "      <td>7.24</td>\n",
       "      <td>7.24</td>\n",
       "      <td>9.25</td>\n",
       "      <td>8.31</td>\n",
       "      <td>SWE</td>\n",
       "      <td>Sweden</td>\n",
       "    </tr>\n",
       "    <tr>\n",
       "      <th>Denmark</th>\n",
       "      <td>0.00</td>\n",
       "      <td>8.57</td>\n",
       "      <td>8.57</td>\n",
       "      <td>8.13</td>\n",
       "      <td>9.87</td>\n",
       "      <td>DNK</td>\n",
       "      <td>Denmark</td>\n",
       "    </tr>\n",
       "    <tr>\n",
       "      <th>Costa Rica</th>\n",
       "      <td>10.99</td>\n",
       "      <td>8.21</td>\n",
       "      <td>8.76</td>\n",
       "      <td>10.53</td>\n",
       "      <td>12.24</td>\n",
       "      <td>CRI</td>\n",
       "      <td>Costa Rica</td>\n",
       "    </tr>\n",
       "  </tbody>\n",
       "</table>\n",
       "</div>"
      ],
      "text/plain": [
       "              Abuse Score 2021  Underlying Situation Score 2021  \\\n",
       "Country Name                                                      \n",
       "Norway                    0.00                             6.72   \n",
       "Finland                   0.00                             6.99   \n",
       "Sweden                    0.00                             7.24   \n",
       "Denmark                   0.00                             8.57   \n",
       "Costa Rica               10.99                             8.21   \n",
       "\n",
       "              Global Score 2021  Global Score 2020  Global Score 2019  \\\n",
       "Country Name                                                            \n",
       "Norway                     6.72               7.84               7.82   \n",
       "Finland                    6.99               7.93               7.90   \n",
       "Sweden                     7.24               9.25               8.31   \n",
       "Denmark                    8.57               8.13               9.87   \n",
       "Costa Rica                 8.76              10.53              12.24   \n",
       "\n",
       "             iso_alpha     Country  \n",
       "Country Name                        \n",
       "Norway             NOR      Norway  \n",
       "Finland            FIN     Finland  \n",
       "Sweden             SWE      Sweden  \n",
       "Denmark            DNK     Denmark  \n",
       "Costa Rica         CRI  Costa Rica  "
      ]
     },
     "execution_count": 4,
     "metadata": {},
     "output_type": "execute_result"
    }
   ],
   "source": [
    "for country in data.index:\n",
    "    code = [value.alpha_3 for value in pycountry.countries if (value.name==country)]\n",
    "    if len(code)==0:\n",
    "        data.at[country,\"iso_alpha\"]= None\n",
    "        data.at[country,\"Country\"]= country\n",
    "    else:\n",
    "        data.at[country,\"iso_alpha\"]= code[0]\n",
    "        data.at[country,\"Country\"]= country\n",
    "\n",
    "data.head()"
   ]
  },
  {
   "cell_type": "code",
   "execution_count": 5,
   "id": "engaged-series",
   "metadata": {
    "execution": {
     "iopub.execute_input": "2021-06-22T09:02:19.056251Z",
     "iopub.status.busy": "2021-06-22T09:02:19.055657Z",
     "iopub.status.idle": "2021-06-22T09:02:19.064080Z",
     "shell.execute_reply": "2021-06-22T09:02:19.063574Z",
     "shell.execute_reply.started": "2021-06-22T08:05:50.441873Z"
    },
    "papermill": {
     "duration": 0.030504,
     "end_time": "2021-06-22T09:02:19.064223",
     "exception": false,
     "start_time": "2021-06-22T09:02:19.033719",
     "status": "completed"
    },
    "tags": []
   },
   "outputs": [
    {
     "data": {
      "text/plain": [
       "Abuse Score 2021                    0\n",
       "Underlying Situation Score 2021     0\n",
       "Global Score 2021                   0\n",
       "Global Score 2020                   0\n",
       "Global Score 2019                   0\n",
       "iso_alpha                          25\n",
       "Country                             0\n",
       "dtype: int64"
      ]
     },
     "execution_count": 5,
     "metadata": {},
     "output_type": "execute_result"
    }
   ],
   "source": [
    "data.isnull().sum()"
   ]
  },
  {
   "cell_type": "markdown",
   "id": "essential-butterfly",
   "metadata": {
    "papermill": {
     "duration": 0.019938,
     "end_time": "2021-06-22T09:02:19.104406",
     "exception": false,
     "start_time": "2021-06-22T09:02:19.084468",
     "status": "completed"
    },
    "tags": []
   },
   "source": [
    "iso_alpha code is missing for 25 countries."
   ]
  },
  {
   "cell_type": "markdown",
   "id": "consecutive-terrorist",
   "metadata": {
    "papermill": {
     "duration": 0.02027,
     "end_time": "2021-06-22T09:02:19.144749",
     "exception": false,
     "start_time": "2021-06-22T09:02:19.124479",
     "status": "completed"
    },
    "tags": []
   },
   "source": [
    "\n",
    "\n",
    "<a id=\"section-two\"></a>\n",
    "# 2. Country Based Observation"
   ]
  },
  {
   "cell_type": "code",
   "execution_count": 6,
   "id": "general-correlation",
   "metadata": {
    "execution": {
     "iopub.execute_input": "2021-06-22T09:02:19.220108Z",
     "iopub.status.busy": "2021-06-22T09:02:19.219411Z",
     "iopub.status.idle": "2021-06-22T09:02:19.424765Z",
     "shell.execute_reply": "2021-06-22T09:02:19.424115Z",
     "shell.execute_reply.started": "2021-06-22T08:29:05.852824Z"
    },
    "papermill": {
     "duration": 0.26019,
     "end_time": "2021-06-22T09:02:19.424901",
     "exception": false,
     "start_time": "2021-06-22T09:02:19.164711",
     "status": "completed"
    },
    "tags": []
   },
   "outputs": [
    {
     "data": {
      "image/png": "[encoded data removed]",
      "text/plain": [
       "<Figure size 720x432 with 1 Axes>"
      ]
     },
     "metadata": {
      "needs_background": "light"
     },
     "output_type": "display_data"
    }
   ],
   "source": [
    "plt.figure(figsize=(10,6))\n",
    "plt.style.use(\"fivethirtyeight\")\n",
    "sns.barplot(x=\"Global Score 2021\", y=\"Country\",  data=data.iloc[:10])\n",
    "plt.title(\"Countries having Low Press Index\")\n",
    "plt.ylabel(\"\")\n",
    "plt.xlabel(\"Global Score 2021\")\n",
    "plt.show()"
   ]
  },
  {
   "cell_type": "markdown",
   "id": "loaded-ozone",
   "metadata": {
    "papermill": {
     "duration": 0.020648,
     "end_time": "2021-06-22T09:02:19.467260",
     "exception": false,
     "start_time": "2021-06-22T09:02:19.446612",
     "status": "completed"
    },
    "tags": []
   },
   "source": [
    "### The lower the Global Score of the country, the better the rank of a country. Norway is the best country for journalists and journalism in general."
   ]
  },
  {
   "cell_type": "code",
   "execution_count": 7,
   "id": "proved-monaco",
   "metadata": {
    "execution": {
     "iopub.execute_input": "2021-06-22T09:02:19.548907Z",
     "iopub.status.busy": "2021-06-22T09:02:19.548247Z",
     "iopub.status.idle": "2021-06-22T09:02:19.718197Z",
     "shell.execute_reply": "2021-06-22T09:02:19.717662Z",
     "shell.execute_reply.started": "2021-06-22T08:29:24.748457Z"
    },
    "papermill": {
     "duration": 0.230218,
     "end_time": "2021-06-22T09:02:19.718350",
     "exception": false,
     "start_time": "2021-06-22T09:02:19.488132",
     "status": "completed"
    },
    "tags": []
   },
   "outputs": [
    {
     "data": {
      "image/png": "[encoded data removed]",
      "text/plain": [
       "<Figure size 720x432 with 1 Axes>"
      ]
     },
     "metadata": {},
     "output_type": "display_data"
    }
   ],
   "source": [
    "plt.figure(figsize=(10,6))\n",
    "plt.style.use(\"fivethirtyeight\")\n",
    "sns.barplot(x=\"Global Score 2021\", y=\"Country\",  data=data.iloc[-10:-1])\n",
    "plt.title(\"Countries having High Press Index\")\n",
    "plt.ylabel(\"\")\n",
    "plt.xlabel(\"Global Score 2021\")\n",
    "plt.show()"
   ]
  },
  {
   "cell_type": "markdown",
   "id": "ahead-regulation",
   "metadata": {
    "papermill": {
     "duration": 0.022368,
     "end_time": "2021-06-22T09:02:19.763027",
     "exception": false,
     "start_time": "2021-06-22T09:02:19.740659",
     "status": "completed"
    },
    "tags": []
   },
   "source": [
    "### On the other hand the higher the Global Score of the country the worst the condition on journalism."
   ]
  },
  {
   "cell_type": "markdown",
   "id": "excessive-tradition",
   "metadata": {
    "papermill": {
     "duration": 0.022169,
     "end_time": "2021-06-22T09:02:19.808105",
     "exception": false,
     "start_time": "2021-06-22T09:02:19.785936",
     "status": "completed"
    },
    "tags": []
   },
   "source": [
    "\n",
    "<a id=\"section-three\"></a>\n",
    "# 3. Continent Based Press Index\n"
   ]
  },
  {
   "cell_type": "code",
   "execution_count": 8,
   "id": "infrared-pixel",
   "metadata": {
    "execution": {
     "iopub.execute_input": "2021-06-22T09:02:19.861085Z",
     "iopub.status.busy": "2021-06-22T09:02:19.860464Z",
     "iopub.status.idle": "2021-06-22T09:02:19.862983Z",
     "shell.execute_reply": "2021-06-22T09:02:19.862489Z",
     "shell.execute_reply.started": "2021-06-22T08:55:44.632829Z"
    },
    "papermill": {
     "duration": 0.032468,
     "end_time": "2021-06-22T09:02:19.863111",
     "exception": false,
     "start_time": "2021-06-22T09:02:19.830643",
     "status": "completed"
    },
    "tags": []
   },
   "outputs": [],
   "source": [
    "def plot_Global_press_index(year, continent=\"world\",title=\"Countries using Press Index-\"):\n",
    "    fig = px.choropleth(data, locations=\"iso_alpha\",\n",
    "                        color=\"Global Score \"+str(year),\n",
    "                        hover_name=\"Country\", # column to add to hover information\n",
    "                        color_continuous_scale=\"Viridis\",\n",
    "                        scope = str(continent))\n",
    "    layout = go.Layout(\n",
    "        title=go.layout.Title(\n",
    "            text= f\"<b>{title}{year}</b>\",\n",
    "            x=0.5\n",
    "        ),\n",
    "        showlegend=False,\n",
    "        font=dict(size=14),\n",
    "        width = 750,\n",
    "        height = 350,\n",
    "        margin=dict(l=0,r=0,b=0,t=30)\n",
    "    )\n",
    "\n",
    "    fig.update_layout(layout)\n",
    "    fig.show()"
   ]
  },
  {
   "cell_type": "code",
   "execution_count": 9,
   "id": "fixed-sound",
   "metadata": {
    "execution": {
     "iopub.execute_input": "2021-06-22T09:02:19.912150Z",
     "iopub.status.busy": "2021-06-22T09:02:19.911546Z",
     "iopub.status.idle": "2021-06-22T09:02:21.041673Z",
     "shell.execute_reply": "2021-06-22T09:02:21.040997Z",
     "shell.execute_reply.started": "2021-06-22T08:56:03.890229Z"
    },
    "papermill": {
     "duration": 1.156438,
     "end_time": "2021-06-22T09:02:21.041825",
     "exception": false,
     "start_time": "2021-06-22T09:02:19.885387",
     "status": "completed"
    },
    "tags": []
   },
   "outputs": [
    {
     "data": {
      "text/html": [
       "        <script type=\"text/javascript\">\n",
       "        window.PlotlyConfig = {MathJaxConfig: 'local'};\n",
       "        if (window.MathJax) {MathJax.Hub.Config({SVG: {font: \"STIX-Web\"}});}\n",
       "        if (typeof require !== 'undefined') {\n",
       "        require.undef(\"plotly\");\n",
       "        requirejs.config({\n",
       "            paths: {\n",
       "                'plotly': ['https://cdn.plot.ly/plotly-latest.min']\n",
       "            }\n",
       "        });\n",
       "        require(['plotly'], function(Plotly) {\n",
       "            window._Plotly = Plotly;\n",
       "        });\n",
       "        }\n",
       "        </script>\n",
       "        "
      ]
     },
     "metadata": {},
     "output_type": "display_data"
    },
    {
     "data": {
      "text/html": [
       "<div>                            <div id=\"e490eeb7-c947-4092-8dbf-35ea7eaf975a\" class=\"plotly-graph-div\" style=\"height:350px; width:750px;\"></div>            <script type=\"text/javascript\">                require([\"plotly\"], function(Plotly) {                    window.PLOTLYENV=window.PLOTLYENV || {};                                    if (document.getElementById(\"e490eeb7-c947-4092-8dbf-35ea7eaf975a\")) {                    Plotly.newPlot(                        \"e490eeb7-c947-4092-8dbf-35ea7eaf975a\",                        [{\"coloraxis\": \"coloraxis\", \"geo\": \"geo\", \"hovertemplate\": \"<b>%{hovertext}</b><br><br>iso_alpha=%{location}<br>Global Score 2021=%{z}<extra></extra>\", \"hovertext\": [\"Norway\", \"Finland\", \"Sweden\", \"Denmark\", \"Costa Rica\", \"Netherlands\", \"Jamaica\", \"New Zealand\", \"Portugal\", \"Switzerland\", \"Belgium\", \"Ireland\", \"Germany\", \"Canada\", \"Estonia\", \"Iceland\", \"Austria\", \"Uruguay\", \"Suriname\", \"Luxembourg\", \"Samoa\", \"Latvia\", \"Liechtenstein\", \"Namibia\", \"Australia\", \"Cyprus\", \"Cabo Verde\", \"Lithuania\", \"Spain\", \"Ghana\", \"Trinidad and Tobago\", \"South Africa\", \"United Kingdom\", \"France\", \"Slovakia\", \"Slovenia\", \"Burkina Faso\", \"Botswana\", \"Andorra\", \"Czech Republic\", \"Italy\", \"South Korea\", \"Taiwan\", \"United States\", \"OECS\", \"Tonga\", \"Papua New Guinea\", \"Romania\", \"Senegal\", \"Dominican Republic\", \"Guyana\", \"Seychelles\", \"Belize\", \"Chile\", \"Fiji\", \"Croatia\", \"Madagascar\", \"Bosnia-Herzegovina\", \"Niger\", \"Georgia\", \"Mauritius\", \"Malawi\", \"Armenia\", \"Poland\", \"Bhutan\", \"C\\u00f4te d\\u2019Ivoire\", \"Japan\", \"Mongolia\", \"Argentina\", \"Greece\", \"Timor-Leste\", \"Maldives\", \"Tunisia\", \"Togo\", \"Sierra Leone\", \"Northern Cyprus\", \"Panama\", \"Kosovo\", \"Kyrgyzstan\", \"Hong Kong\", \"Malta\", \"El Salvador\", \"Albania\", \"Comoros\", \"Gambia\", \"Israel\", \"Ha\\u00efti\", \"Lesotho\", \"Moldova\", \"North Macedonia\", \"Peru\", \"Hungary\", \"Serbia\", \"Mauritania\", \"Guinea Bissau\", \"Ecuador\", \"Ukraine\", \"Liberia\", \"Mali\", \"Paraguay\", \"Ethiopia\", \"Kenya\", \"Angola\", \"Montenegro\", \"Kuwait\", \"Nepal\", \"Lebanon\", \"Mozambique\", \"Guinea\", \"Bolivia\", \"Brazil\", \"Bulgaria\", \"Indonesia\", \"Benin\", \"Zambia\", \"Guatemala\", \"Gabon\", \"Congo-Brazzaville\", \"Malaysia\", \"Nigeria\", \"Nicaragua\", \"Afghanistan\", \"Chad\", \"Tanzania\", \"Uganda\", \"Central African Republic\", \"Sri Lanka\", \"Qatar\", \"Jordan\", \"Zimbabwe\", \"United Arab Emirates\", \"Palestine\", \"Oman\", \"Colombia\", \"Cameroon\", \"Morocco / Western Sahara\", \"Thailand\", \"Philippines\", \"South Sudan\", \"Myanmar\", \"Eswatini\", \"India\", \"Mexico\", \"Cambodia\", \"Pakistan\", \"Algeria\", \"Burundi\", \"Venezuela\", \"Democratic Republic of Congo\", \"Russia\", \"Honduras\", \"Bangladesh\", \"Turkey\", \"Brunei\", \"Kazakhstan\", \"Rwanda\", \"Uzbekistan\", \"Belarus\", \"Sudan\", \"Singapore\", \"Somalia\", \"Tajikistan\", \"Iraq\", \"Equatorial Guinea\", \"Libya\", \"Egypt\", \"Azerbaijan\", \"Bahrain\", \"Yemen\", \"Saudi Arabia\", \"Cuba\", \"Laos\", \"Syria\", \"Iran\", \"Vietnam\", \"Djibouti\", \"China\", \"Turkmenistan\", \"North Korea\", \"Eritrea\"], \"locations\": [\"NOR\", \"FIN\", \"SWE\", \"DNK\", \"CRI\", \"NLD\", \"JAM\", \"NZL\", \"PRT\", \"CHE\", \"BEL\", \"IRL\", \"DEU\", \"CAN\", \"EST\", \"ISL\", \"AUT\", \"URY\", \"SUR\", \"LUX\", \"WSM\", \"LVA\", \"LIE\", \"NAM\", \"AUS\", \"CYP\", \"CPV\", \"LTU\", \"ESP\", \"GHA\", \"TTO\", \"ZAF\", \"GBR\", \"FRA\", \"SVK\", \"SVN\", \"BFA\", \"BWA\", \"AND\", null, \"ITA\", null, null, \"USA\", null, \"TON\", \"PNG\", \"ROU\", \"SEN\", \"DOM\", \"GUY\", \"SYC\", \"BLZ\", \"CHL\", \"FJI\", \"HRV\", \"MDG\", null, \"NER\", \"GEO\", \"MUS\", \"MWI\", \"ARM\", \"POL\", \"BTN\", null, \"JPN\", \"MNG\", \"ARG\", \"GRC\", \"TLS\", \"MDV\", \"TUN\", \"TGO\", \"SLE\", null, \"PAN\", null, \"KGZ\", \"HKG\", \"MLT\", \"SLV\", \"ALB\", \"COM\", \"GMB\", \"ISR\", null, \"LSO\", null, \"MKD\", \"PER\", \"HUN\", \"SRB\", \"MRT\", null, \"ECU\", \"UKR\", \"LBR\", \"MLI\", \"PRY\", \"ETH\", \"KEN\", \"AGO\", \"MNE\", \"KWT\", \"NPL\", \"LBN\", \"MOZ\", \"GIN\", null, \"BRA\", \"BGR\", \"IDN\", \"BEN\", \"ZMB\", \"GTM\", \"GAB\", null, \"MYS\", \"NGA\", \"NIC\", \"AFG\", \"TCD\", null, \"UGA\", \"CAF\", \"LKA\", \"QAT\", \"JOR\", \"ZWE\", \"ARE\", null, \"OMN\", \"COL\", \"CMR\", null, \"THA\", \"PHL\", \"SSD\", \"MMR\", \"SWZ\", \"IND\", \"MEX\", \"KHM\", \"PAK\", \"DZA\", \"BDI\", null, null, null, \"HND\", \"BGD\", \"TUR\", null, \"KAZ\", \"RWA\", \"UZB\", \"BLR\", \"SDN\", \"SGP\", \"SOM\", \"TJK\", \"IRQ\", \"GNQ\", \"LBY\", \"EGY\", \"AZE\", \"BHR\", \"YEM\", \"SAU\", \"CUB\", null, null, null, null, \"DJI\", \"CHN\", \"TKM\", null, \"ERI\"], \"name\": \"\", \"type\": \"choropleth\", \"z\": [6.72, 6.99, 7.24, 8.57, 8.76, 9.67, 9.96, 10.04, 10.11, 10.55, 11.69, 11.91, 15.24, 15.25, 15.25, 15.37, 16.34, 16.38, 16.95, 17.56, 19.24, 19.26, 19.49, 19.72, 19.79, 19.85, 20.09, 20.15, 20.44, 21.33, 21.55, 21.59, 21.59, 22.6, 23.02, 23.1, 23.17, 23.25, 23.32, 23.38, 23.39, 23.43, 23.86, 23.93, 23.98, 24.59, 24.88, 24.91, 25.22, 25.6, 25.61, 25.66, 27.61, 27.89, 27.92, 27.95, 28.24, 28.34, 28.44, 28.64, 28.74, 28.8, 28.83, 28.84, 28.86, 28.87, 28.88, 28.97, 28.99, 29.01, 29.11, 29.13, 29.53, 29.59, 29.61, 29.82, 29.94, 30.32, 30.37, 30.44, 30.46, 30.49, 30.59, 30.65, 30.76, 30.9, 31.12, 31.61, 31.61, 31.67, 31.71, 31.76, 32.03, 32.25, 32.68, 32.83, 32.96, 33.36, 33.5, 33.52, 33.63, 33.65, 34.06, 34.33, 34.36, 34.62, 34.93, 35.39, 35.42, 35.47, 36.25, 37.29, 37.4, 38.18, 38.21, 38.45, 38.6, 38.83, 39.47, 39.69, 39.98, 40.19, 40.2, 40.69, 41.19, 41.92, 42.2, 42.6, 42.89, 43.12, 43.13, 43.18, 43.37, 43.74, 43.78, 43.94, 45.22, 45.64, 45.78, 46.14, 46.34, 46.56, 46.71, 46.84, 46.86, 47.26, 47.57, 47.6, 48.59, 48.71, 49.35, 49.71, 49.79, 49.91, 50.28, 50.66, 50.74, 50.82, 52.93, 55.2, 55.47, 55.52, 55.57, 55.67, 55.73, 56.17, 58.77, 61.1, 62.35, 62.73, 63.94, 70.56, 70.63, 72.7, 78.46, 78.62, 78.72, 80.03, 81.28, 81.45]}],                        {\"coloraxis\": {\"colorbar\": {\"title\": {\"text\": \"Global Score 2021\"}}, \"colorscale\": [[0.0, \"#440154\"], [0.1111111111111111, \"#482878\"], [0.2222222222222222, \"#3e4989\"], [0.3333333333333333, \"#31688e\"], [0.4444444444444444, \"#26828e\"], [0.5555555555555556, \"#1f9e89\"], [0.6666666666666666, \"#35b779\"], [0.7777777777777778, \"#6ece58\"], [0.8888888888888888, \"#b5de2b\"], [1.0, \"#fde725\"]]}, \"font\": {\"size\": 14}, \"geo\": {\"center\": {}, \"domain\": {\"x\": [0.0, 1.0], \"y\": [0.0, 1.0]}, \"scope\": \"asia\"}, \"height\": 350, \"legend\": {\"tracegroupgap\": 0}, \"margin\": {\"b\": 0, \"l\": 0, \"r\": 0, \"t\": 30}, \"showlegend\": false, \"template\": {\"data\": {\"bar\": [{\"error_x\": {\"color\": \"#2a3f5f\"}, \"error_y\": {\"color\": \"#2a3f5f\"}, \"marker\": {\"line\": {\"color\": \"#E5ECF6\", \"width\": 0.5}}, \"type\": \"bar\"}], \"barpolar\": [{\"marker\": {\"line\": {\"color\": \"#E5ECF6\", \"width\": 0.5}}, \"type\": \"barpolar\"}], \"carpet\": [{\"aaxis\": {\"endlinecolor\": \"#2a3f5f\", \"gridcolor\": \"white\", \"linecolor\": \"white\", \"minorgridcolor\": \"white\", \"startlinecolor\": \"#2a3f5f\"}, \"baxis\": {\"endlinecolor\": \"#2a3f5f\", \"gridcolor\": \"white\", \"linecolor\": \"white\", \"minorgridcolor\": \"white\", \"startlinecolor\": \"#2a3f5f\"}, \"type\": \"carpet\"}], \"choropleth\": [{\"colorbar\": {\"outlinewidth\": 0, \"ticks\": \"\"}, \"type\": \"choropleth\"}], \"contour\": [{\"colorbar\": {\"outlinewidth\": 0, \"ticks\": \"\"}, \"colorscale\": [[0.0, \"#0d0887\"], [0.1111111111111111, \"#46039f\"], [0.2222222222222222, \"#7201a8\"], [0.3333333333333333, \"#9c179e\"], [0.4444444444444444, \"#bd3786\"], [0.5555555555555556, \"#d8576b\"], [0.6666666666666666, \"#ed7953\"], [0.7777777777777778, \"#fb9f3a\"], [0.8888888888888888, \"#fdca26\"], [1.0, \"#f0f921\"]], \"type\": \"contour\"}], \"contourcarpet\": [{\"colorbar\": {\"outlinewidth\": 0, \"ticks\": \"\"}, \"type\": \"contourcarpet\"}], \"heatmap\": [{\"colorbar\": {\"outlinewidth\": 0, \"ticks\": \"\"}, \"colorscale\": [[0.0, \"#0d0887\"], [0.1111111111111111, \"#46039f\"], [0.2222222222222222, \"#7201a8\"], [0.3333333333333333, \"#9c179e\"], [0.4444444444444444, \"#bd3786\"], [0.5555555555555556, \"#d8576b\"], [0.6666666666666666, \"#ed7953\"], [0.7777777777777778, \"#fb9f3a\"], [0.8888888888888888, \"#fdca26\"], [1.0, \"#f0f921\"]], \"type\": \"heatmap\"}], \"heatmapgl\": [{\"colorbar\": {\"outlinewidth\": 0, \"ticks\": \"\"}, \"colorscale\": [[0.0, \"#0d0887\"], [0.1111111111111111, \"#46039f\"], [0.2222222222222222, \"#7201a8\"], [0.3333333333333333, \"#9c179e\"], [0.4444444444444444, \"#bd3786\"], [0.5555555555555556, \"#d8576b\"], [0.6666666666666666, \"#ed7953\"], [0.7777777777777778, \"#fb9f3a\"], [0.8888888888888888, \"#fdca26\"], [1.0, \"#f0f921\"]], \"type\": \"heatmapgl\"}], \"histogram\": [{\"marker\": {\"colorbar\": {\"outlinewidth\": 0, \"ticks\": \"\"}}, \"type\": \"histogram\"}], \"histogram2d\": [{\"colorbar\": {\"outlinewidth\": 0, \"ticks\": \"\"}, \"colorscale\": [[0.0, \"#0d0887\"], [0.1111111111111111, \"#46039f\"], [0.2222222222222222, \"#7201a8\"], [0.3333333333333333, \"#9c179e\"], [0.4444444444444444, \"#bd3786\"], [0.5555555555555556, \"#d8576b\"], [0.6666666666666666, \"#ed7953\"], [0.7777777777777778, \"#fb9f3a\"], [0.8888888888888888, \"#fdca26\"], [1.0, \"#f0f921\"]], \"type\": \"histogram2d\"}], \"histogram2dcontour\": [{\"colorbar\": {\"outlinewidth\": 0, \"ticks\": \"\"}, \"colorscale\": [[0.0, \"#0d0887\"], [0.1111111111111111, \"#46039f\"], [0.2222222222222222, \"#7201a8\"], [0.3333333333333333, \"#9c179e\"], [0.4444444444444444, \"#bd3786\"], [0.5555555555555556, \"#d8576b\"], [0.6666666666666666, \"#ed7953\"], [0.7777777777777778, \"#fb9f3a\"], [0.8888888888888888, \"#fdca26\"], [1.0, \"#f0f921\"]], \"type\": \"histogram2dcontour\"}], \"mesh3d\": [{\"colorbar\": {\"outlinewidth\": 0, \"ticks\": \"\"}, \"type\": \"mesh3d\"}], \"parcoords\": [{\"line\": {\"colorbar\": {\"outlinewidth\": 0, \"ticks\": \"\"}}, \"type\": \"parcoords\"}], \"pie\": [{\"automargin\": true, \"type\": \"pie\"}], \"scatter\": [{\"marker\": {\"colorbar\": {\"outlinewidth\": 0, \"ticks\": \"\"}}, \"type\": \"scatter\"}], \"scatter3d\": [{\"line\": {\"colorbar\": {\"outlinewidth\": 0, \"ticks\": \"\"}}, \"marker\": {\"colorbar\": {\"outlinewidth\": 0, \"ticks\": \"\"}}, \"type\": \"scatter3d\"}], \"scattercarpet\": [{\"marker\": {\"colorbar\": {\"outlinewidth\": 0, \"ticks\": \"\"}}, \"type\": \"scattercarpet\"}], \"scattergeo\": [{\"marker\": {\"colorbar\": {\"outlinewidth\": 0, \"ticks\": \"\"}}, \"type\": \"scattergeo\"}], \"scattergl\": [{\"marker\": {\"colorbar\": {\"outlinewidth\": 0, \"ticks\": \"\"}}, \"type\": \"scattergl\"}], \"scattermapbox\": [{\"marker\": {\"colorbar\": {\"outlinewidth\": 0, \"ticks\": \"\"}}, \"type\": \"scattermapbox\"}], \"scatterpolar\": [{\"marker\": {\"colorbar\": {\"outlinewidth\": 0, \"ticks\": \"\"}}, \"type\": \"scatterpolar\"}], \"scatterpolargl\": [{\"marker\": {\"colorbar\": {\"outlinewidth\": 0, \"ticks\": \"\"}}, \"type\": \"scatterpolargl\"}], \"scatterternary\": [{\"marker\": {\"colorbar\": {\"outlinewidth\": 0, \"ticks\": \"\"}}, \"type\": \"scatterternary\"}], \"surface\": [{\"colorbar\": {\"outlinewidth\": 0, \"ticks\": \"\"}, \"colorscale\": [[0.0, \"#0d0887\"], [0.1111111111111111, \"#46039f\"], [0.2222222222222222, \"#7201a8\"], [0.3333333333333333, \"#9c179e\"], [0.4444444444444444, \"#bd3786\"], [0.5555555555555556, \"#d8576b\"], [0.6666666666666666, \"#ed7953\"], [0.7777777777777778, \"#fb9f3a\"], [0.8888888888888888, \"#fdca26\"], [1.0, \"#f0f921\"]], \"type\": \"surface\"}], \"table\": [{\"cells\": {\"fill\": {\"color\": \"#EBF0F8\"}, \"line\": {\"color\": \"white\"}}, \"header\": {\"fill\": {\"color\": \"#C8D4E3\"}, \"line\": {\"color\": \"white\"}}, \"type\": \"table\"}]}, \"layout\": {\"annotationdefaults\": {\"arrowcolor\": \"#2a3f5f\", \"arrowhead\": 0, \"arrowwidth\": 1}, \"autotypenumbers\": \"strict\", \"coloraxis\": {\"colorbar\": {\"outlinewidth\": 0, \"ticks\": \"\"}}, \"colorscale\": {\"diverging\": [[0, \"#8e0152\"], [0.1, \"#c51b7d\"], [0.2, \"#de77ae\"], [0.3, \"#f1b6da\"], [0.4, \"#fde0ef\"], [0.5, \"#f7f7f7\"], [0.6, \"#e6f5d0\"], [0.7, \"#b8e186\"], [0.8, \"#7fbc41\"], [0.9, \"#4d9221\"], [1, \"#276419\"]], \"sequential\": [[0.0, \"#0d0887\"], [0.1111111111111111, \"#46039f\"], [0.2222222222222222, \"#7201a8\"], [0.3333333333333333, \"#9c179e\"], [0.4444444444444444, \"#bd3786\"], [0.5555555555555556, \"#d8576b\"], [0.6666666666666666, \"#ed7953\"], [0.7777777777777778, \"#fb9f3a\"], [0.8888888888888888, \"#fdca26\"], [1.0, \"#f0f921\"]], \"sequentialminus\": [[0.0, \"#0d0887\"], [0.1111111111111111, \"#46039f\"], [0.2222222222222222, \"#7201a8\"], [0.3333333333333333, \"#9c179e\"], [0.4444444444444444, \"#bd3786\"], [0.5555555555555556, \"#d8576b\"], [0.6666666666666666, \"#ed7953\"], [0.7777777777777778, \"#fb9f3a\"], [0.8888888888888888, \"#fdca26\"], [1.0, \"#f0f921\"]]}, \"colorway\": [\"#636efa\", \"#EF553B\", \"#00cc96\", \"#ab63fa\", \"#FFA15A\", \"#19d3f3\", \"#FF6692\", \"#B6E880\", \"#FF97FF\", \"#FECB52\"], \"font\": {\"color\": \"#2a3f5f\"}, \"geo\": {\"bgcolor\": \"white\", \"lakecolor\": \"white\", \"landcolor\": \"#E5ECF6\", \"showlakes\": true, \"showland\": true, \"subunitcolor\": \"white\"}, \"hoverlabel\": {\"align\": \"left\"}, \"hovermode\": \"closest\", \"mapbox\": {\"style\": \"light\"}, \"paper_bgcolor\": \"white\", \"plot_bgcolor\": \"#E5ECF6\", \"polar\": {\"angularaxis\": {\"gridcolor\": \"white\", \"linecolor\": \"white\", \"ticks\": \"\"}, \"bgcolor\": \"#E5ECF6\", \"radialaxis\": {\"gridcolor\": \"white\", \"linecolor\": \"white\", \"ticks\": \"\"}}, \"scene\": {\"xaxis\": {\"backgroundcolor\": \"#E5ECF6\", \"gridcolor\": \"white\", \"gridwidth\": 2, \"linecolor\": \"white\", \"showbackground\": true, \"ticks\": \"\", \"zerolinecolor\": \"white\"}, \"yaxis\": {\"backgroundcolor\": \"#E5ECF6\", \"gridcolor\": \"white\", \"gridwidth\": 2, \"linecolor\": \"white\", \"showbackground\": true, \"ticks\": \"\", \"zerolinecolor\": \"white\"}, \"zaxis\": {\"backgroundcolor\": \"#E5ECF6\", \"gridcolor\": \"white\", \"gridwidth\": 2, \"linecolor\": \"white\", \"showbackground\": true, \"ticks\": \"\", \"zerolinecolor\": \"white\"}}, \"shapedefaults\": {\"line\": {\"color\": \"#2a3f5f\"}}, \"ternary\": {\"aaxis\": {\"gridcolor\": \"white\", \"linecolor\": \"white\", \"ticks\": \"\"}, \"baxis\": {\"gridcolor\": \"white\", \"linecolor\": \"white\", \"ticks\": \"\"}, \"bgcolor\": \"#E5ECF6\", \"caxis\": {\"gridcolor\": \"white\", \"linecolor\": \"white\", \"ticks\": \"\"}}, \"title\": {\"x\": 0.05}, \"xaxis\": {\"automargin\": true, \"gridcolor\": \"white\", \"linecolor\": \"white\", \"ticks\": \"\", \"title\": {\"standoff\": 15}, \"zerolinecolor\": \"white\", \"zerolinewidth\": 2}, \"yaxis\": {\"automargin\": true, \"gridcolor\": \"white\", \"linecolor\": \"white\", \"ticks\": \"\", \"title\": {\"standoff\": 15}, \"zerolinecolor\": \"white\", \"zerolinewidth\": 2}}}, \"title\": {\"text\": \"<b>Asian Countries Press Index-2021</b>\", \"x\": 0.5}, \"width\": 750},                        {\"responsive\": true}                    ).then(function(){\n",
       "                            \n",
       "var gd = document.getElementById('e490eeb7-c947-4092-8dbf-35ea7eaf975a');\n",
       "var x = new MutationObserver(function (mutations, observer) {{\n",
       "        var display = window.getComputedStyle(gd).display;\n",
       "        if (!display || display === 'none') {{\n",
       "            console.log([gd, 'removed!']);\n",
       "            Plotly.purge(gd);\n",
       "            observer.disconnect();\n",
       "        }}\n",
       "}});\n",
       "\n",
       "// Listen for the removal of the full notebook cells\n",
       "var notebookContainer = gd.closest('#notebook-container');\n",
       "if (notebookContainer) {{\n",
       "    x.observe(notebookContainer, {childList: true});\n",
       "}}\n",
       "\n",
       "// Listen for the clearing of the current output cell\n",
       "var outputEl = gd.closest('.output');\n",
       "if (outputEl) {{\n",
       "    x.observe(outputEl, {childList: true});\n",
       "}}\n",
       "\n",
       "                        })                };                });            </script>        </div>"
      ]
     },
     "metadata": {},
     "output_type": "display_data"
    }
   ],
   "source": [
    "plot_Global_press_index(2021,\"asia\",\"Asian Countries Press Index-\")"
   ]
  },
  {
   "cell_type": "code",
   "execution_count": 10,
   "id": "small-innocent",
   "metadata": {
    "execution": {
     "iopub.execute_input": "2021-06-22T09:02:21.092696Z",
     "iopub.status.busy": "2021-06-22T09:02:21.092054Z",
     "iopub.status.idle": "2021-06-22T09:02:21.162459Z",
     "shell.execute_reply": "2021-06-22T09:02:21.162938Z",
     "shell.execute_reply.started": "2021-06-22T08:56:15.429971Z"
    },
    "papermill": {
     "duration": 0.097271,
     "end_time": "2021-06-22T09:02:21.163102",
     "exception": false,
     "start_time": "2021-06-22T09:02:21.065831",
     "status": "completed"
    },
    "tags": []
   },
   "outputs": [
    {
     "data": {
      "text/html": [
       "<div>                            <div id=\"22d9323a-aa5b-4005-b8f7-16b10c1c56aa\" class=\"plotly-graph-div\" style=\"height:350px; width:750px;\"></div>            <script type=\"text/javascript\">                require([\"plotly\"], function(Plotly) {                    window.PLOTLYENV=window.PLOTLYENV || {};                                    if (document.getElementById(\"22d9323a-aa5b-4005-b8f7-16b10c1c56aa\")) {                    Plotly.newPlot(                        \"22d9323a-aa5b-4005-b8f7-16b10c1c56aa\",                        [{\"coloraxis\": \"coloraxis\", \"geo\": \"geo\", \"hovertemplate\": \"<b>%{hovertext}</b><br><br>iso_alpha=%{location}<br>Global Score 2021=%{z}<extra></extra>\", \"hovertext\": [\"Norway\", \"Finland\", \"Sweden\", \"Denmark\", \"Costa Rica\", \"Netherlands\", \"Jamaica\", \"New Zealand\", \"Portugal\", \"Switzerland\", \"Belgium\", \"Ireland\", \"Germany\", \"Canada\", \"Estonia\", \"Iceland\", \"Austria\", \"Uruguay\", \"Suriname\", \"Luxembourg\", \"Samoa\", \"Latvia\", \"Liechtenstein\", \"Namibia\", \"Australia\", \"Cyprus\", \"Cabo Verde\", \"Lithuania\", \"Spain\", \"Ghana\", \"Trinidad and Tobago\", \"South Africa\", \"United Kingdom\", \"France\", \"Slovakia\", \"Slovenia\", \"Burkina Faso\", \"Botswana\", \"Andorra\", \"Czech Republic\", \"Italy\", \"South Korea\", \"Taiwan\", \"United States\", \"OECS\", \"Tonga\", \"Papua New Guinea\", \"Romania\", \"Senegal\", \"Dominican Republic\", \"Guyana\", \"Seychelles\", \"Belize\", \"Chile\", \"Fiji\", \"Croatia\", \"Madagascar\", \"Bosnia-Herzegovina\", \"Niger\", \"Georgia\", \"Mauritius\", \"Malawi\", \"Armenia\", \"Poland\", \"Bhutan\", \"C\\u00f4te d\\u2019Ivoire\", \"Japan\", \"Mongolia\", \"Argentina\", \"Greece\", \"Timor-Leste\", \"Maldives\", \"Tunisia\", \"Togo\", \"Sierra Leone\", \"Northern Cyprus\", \"Panama\", \"Kosovo\", \"Kyrgyzstan\", \"Hong Kong\", \"Malta\", \"El Salvador\", \"Albania\", \"Comoros\", \"Gambia\", \"Israel\", \"Ha\\u00efti\", \"Lesotho\", \"Moldova\", \"North Macedonia\", \"Peru\", \"Hungary\", \"Serbia\", \"Mauritania\", \"Guinea Bissau\", \"Ecuador\", \"Ukraine\", \"Liberia\", \"Mali\", \"Paraguay\", \"Ethiopia\", \"Kenya\", \"Angola\", \"Montenegro\", \"Kuwait\", \"Nepal\", \"Lebanon\", \"Mozambique\", \"Guinea\", \"Bolivia\", \"Brazil\", \"Bulgaria\", \"Indonesia\", \"Benin\", \"Zambia\", \"Guatemala\", \"Gabon\", \"Congo-Brazzaville\", \"Malaysia\", \"Nigeria\", \"Nicaragua\", \"Afghanistan\", \"Chad\", \"Tanzania\", \"Uganda\", \"Central African Republic\", \"Sri Lanka\", \"Qatar\", \"Jordan\", \"Zimbabwe\", \"United Arab Emirates\", \"Palestine\", \"Oman\", \"Colombia\", \"Cameroon\", \"Morocco / Western Sahara\", \"Thailand\", \"Philippines\", \"South Sudan\", \"Myanmar\", \"Eswatini\", \"India\", \"Mexico\", \"Cambodia\", \"Pakistan\", \"Algeria\", \"Burundi\", \"Venezuela\", \"Democratic Republic of Congo\", \"Russia\", \"Honduras\", \"Bangladesh\", \"Turkey\", \"Brunei\", \"Kazakhstan\", \"Rwanda\", \"Uzbekistan\", \"Belarus\", \"Sudan\", \"Singapore\", \"Somalia\", \"Tajikistan\", \"Iraq\", \"Equatorial Guinea\", \"Libya\", \"Egypt\", \"Azerbaijan\", \"Bahrain\", \"Yemen\", \"Saudi Arabia\", \"Cuba\", \"Laos\", \"Syria\", \"Iran\", \"Vietnam\", \"Djibouti\", \"China\", \"Turkmenistan\", \"North Korea\", \"Eritrea\"], \"locations\": [\"NOR\", \"FIN\", \"SWE\", \"DNK\", \"CRI\", \"NLD\", \"JAM\", \"NZL\", \"PRT\", \"CHE\", \"BEL\", \"IRL\", \"DEU\", \"CAN\", \"EST\", \"ISL\", \"AUT\", \"URY\", \"SUR\", \"LUX\", \"WSM\", \"LVA\", \"LIE\", \"NAM\", \"AUS\", \"CYP\", \"CPV\", \"LTU\", \"ESP\", \"GHA\", \"TTO\", \"ZAF\", \"GBR\", \"FRA\", \"SVK\", \"SVN\", \"BFA\", \"BWA\", \"AND\", null, \"ITA\", null, null, \"USA\", null, \"TON\", \"PNG\", \"ROU\", \"SEN\", \"DOM\", \"GUY\", \"SYC\", \"BLZ\", \"CHL\", \"FJI\", \"HRV\", \"MDG\", null, \"NER\", \"GEO\", \"MUS\", \"MWI\", \"ARM\", \"POL\", \"BTN\", null, \"JPN\", \"MNG\", \"ARG\", \"GRC\", \"TLS\", \"MDV\", \"TUN\", \"TGO\", \"SLE\", null, \"PAN\", null, \"KGZ\", \"HKG\", \"MLT\", \"SLV\", \"ALB\", \"COM\", \"GMB\", \"ISR\", null, \"LSO\", null, \"MKD\", \"PER\", \"HUN\", \"SRB\", \"MRT\", null, \"ECU\", \"UKR\", \"LBR\", \"MLI\", \"PRY\", \"ETH\", \"KEN\", \"AGO\", \"MNE\", \"KWT\", \"NPL\", \"LBN\", \"MOZ\", \"GIN\", null, \"BRA\", \"BGR\", \"IDN\", \"BEN\", \"ZMB\", \"GTM\", \"GAB\", null, \"MYS\", \"NGA\", \"NIC\", \"AFG\", \"TCD\", null, \"UGA\", \"CAF\", \"LKA\", \"QAT\", \"JOR\", \"ZWE\", \"ARE\", null, \"OMN\", \"COL\", \"CMR\", null, \"THA\", \"PHL\", \"SSD\", \"MMR\", \"SWZ\", \"IND\", \"MEX\", \"KHM\", \"PAK\", \"DZA\", \"BDI\", null, null, null, \"HND\", \"BGD\", \"TUR\", null, \"KAZ\", \"RWA\", \"UZB\", \"BLR\", \"SDN\", \"SGP\", \"SOM\", \"TJK\", \"IRQ\", \"GNQ\", \"LBY\", \"EGY\", \"AZE\", \"BHR\", \"YEM\", \"SAU\", \"CUB\", null, null, null, null, \"DJI\", \"CHN\", \"TKM\", null, \"ERI\"], \"name\": \"\", \"type\": \"choropleth\", \"z\": [6.72, 6.99, 7.24, 8.57, 8.76, 9.67, 9.96, 10.04, 10.11, 10.55, 11.69, 11.91, 15.24, 15.25, 15.25, 15.37, 16.34, 16.38, 16.95, 17.56, 19.24, 19.26, 19.49, 19.72, 19.79, 19.85, 20.09, 20.15, 20.44, 21.33, 21.55, 21.59, 21.59, 22.6, 23.02, 23.1, 23.17, 23.25, 23.32, 23.38, 23.39, 23.43, 23.86, 23.93, 23.98, 24.59, 24.88, 24.91, 25.22, 25.6, 25.61, 25.66, 27.61, 27.89, 27.92, 27.95, 28.24, 28.34, 28.44, 28.64, 28.74, 28.8, 28.83, 28.84, 28.86, 28.87, 28.88, 28.97, 28.99, 29.01, 29.11, 29.13, 29.53, 29.59, 29.61, 29.82, 29.94, 30.32, 30.37, 30.44, 30.46, 30.49, 30.59, 30.65, 30.76, 30.9, 31.12, 31.61, 31.61, 31.67, 31.71, 31.76, 32.03, 32.25, 32.68, 32.83, 32.96, 33.36, 33.5, 33.52, 33.63, 33.65, 34.06, 34.33, 34.36, 34.62, 34.93, 35.39, 35.42, 35.47, 36.25, 37.29, 37.4, 38.18, 38.21, 38.45, 38.6, 38.83, 39.47, 39.69, 39.98, 40.19, 40.2, 40.69, 41.19, 41.92, 42.2, 42.6, 42.89, 43.12, 43.13, 43.18, 43.37, 43.74, 43.78, 43.94, 45.22, 45.64, 45.78, 46.14, 46.34, 46.56, 46.71, 46.84, 46.86, 47.26, 47.57, 47.6, 48.59, 48.71, 49.35, 49.71, 49.79, 49.91, 50.28, 50.66, 50.74, 50.82, 52.93, 55.2, 55.47, 55.52, 55.57, 55.67, 55.73, 56.17, 58.77, 61.1, 62.35, 62.73, 63.94, 70.56, 70.63, 72.7, 78.46, 78.62, 78.72, 80.03, 81.28, 81.45]}],                        {\"coloraxis\": {\"colorbar\": {\"title\": {\"text\": \"Global Score 2021\"}}, \"colorscale\": [[0.0, \"#440154\"], [0.1111111111111111, \"#482878\"], [0.2222222222222222, \"#3e4989\"], [0.3333333333333333, \"#31688e\"], [0.4444444444444444, \"#26828e\"], [0.5555555555555556, \"#1f9e89\"], [0.6666666666666666, \"#35b779\"], [0.7777777777777778, \"#6ece58\"], [0.8888888888888888, \"#b5de2b\"], [1.0, \"#fde725\"]]}, \"font\": {\"size\": 14}, \"geo\": {\"center\": {}, \"domain\": {\"x\": [0.0, 1.0], \"y\": [0.0, 1.0]}, \"scope\": \"europe\"}, \"height\": 350, \"legend\": {\"tracegroupgap\": 0}, \"margin\": {\"b\": 0, \"l\": 0, \"r\": 0, \"t\": 30}, \"showlegend\": false, \"template\": {\"data\": {\"bar\": [{\"error_x\": {\"color\": \"#2a3f5f\"}, \"error_y\": {\"color\": \"#2a3f5f\"}, \"marker\": {\"line\": {\"color\": \"#E5ECF6\", \"width\": 0.5}}, \"type\": \"bar\"}], \"barpolar\": [{\"marker\": {\"line\": {\"color\": \"#E5ECF6\", \"width\": 0.5}}, \"type\": \"barpolar\"}], \"carpet\": [{\"aaxis\": {\"endlinecolor\": \"#2a3f5f\", \"gridcolor\": \"white\", \"linecolor\": \"white\", \"minorgridcolor\": \"white\", \"startlinecolor\": \"#2a3f5f\"}, \"baxis\": {\"endlinecolor\": \"#2a3f5f\", \"gridcolor\": \"white\", \"linecolor\": \"white\", \"minorgridcolor\": \"white\", \"startlinecolor\": \"#2a3f5f\"}, \"type\": \"carpet\"}], \"choropleth\": [{\"colorbar\": {\"outlinewidth\": 0, \"ticks\": \"\"}, \"type\": \"choropleth\"}], \"contour\": [{\"colorbar\": {\"outlinewidth\": 0, \"ticks\": \"\"}, \"colorscale\": [[0.0, \"#0d0887\"], [0.1111111111111111, \"#46039f\"], [0.2222222222222222, \"#7201a8\"], [0.3333333333333333, \"#9c179e\"], [0.4444444444444444, \"#bd3786\"], [0.5555555555555556, \"#d8576b\"], [0.6666666666666666, \"#ed7953\"], [0.7777777777777778, \"#fb9f3a\"], [0.8888888888888888, \"#fdca26\"], [1.0, \"#f0f921\"]], \"type\": \"contour\"}], \"contourcarpet\": [{\"colorbar\": {\"outlinewidth\": 0, \"ticks\": \"\"}, \"type\": \"contourcarpet\"}], \"heatmap\": [{\"colorbar\": {\"outlinewidth\": 0, \"ticks\": \"\"}, \"colorscale\": [[0.0, \"#0d0887\"], [0.1111111111111111, \"#46039f\"], [0.2222222222222222, \"#7201a8\"], [0.3333333333333333, \"#9c179e\"], [0.4444444444444444, \"#bd3786\"], [0.5555555555555556, \"#d8576b\"], [0.6666666666666666, \"#ed7953\"], [0.7777777777777778, \"#fb9f3a\"], [0.8888888888888888, \"#fdca26\"], [1.0, \"#f0f921\"]], \"type\": \"heatmap\"}], \"heatmapgl\": [{\"colorbar\": {\"outlinewidth\": 0, \"ticks\": \"\"}, \"colorscale\": [[0.0, \"#0d0887\"], [0.1111111111111111, \"#46039f\"], [0.2222222222222222, \"#7201a8\"], [0.3333333333333333, \"#9c179e\"], [0.4444444444444444, \"#bd3786\"], [0.5555555555555556, \"#d8576b\"], [0.6666666666666666, \"#ed7953\"], [0.7777777777777778, \"#fb9f3a\"], [0.8888888888888888, \"#fdca26\"], [1.0, \"#f0f921\"]], \"type\": \"heatmapgl\"}], \"histogram\": [{\"marker\": {\"colorbar\": {\"outlinewidth\": 0, \"ticks\": \"\"}}, \"type\": \"histogram\"}], \"histogram2d\": [{\"colorbar\": {\"outlinewidth\": 0, \"ticks\": \"\"}, \"colorscale\": [[0.0, \"#0d0887\"], [0.1111111111111111, \"#46039f\"], [0.2222222222222222, \"#7201a8\"], [0.3333333333333333, \"#9c179e\"], [0.4444444444444444, \"#bd3786\"], [0.5555555555555556, \"#d8576b\"], [0.6666666666666666, \"#ed7953\"], [0.7777777777777778, \"#fb9f3a\"], [0.8888888888888888, \"#fdca26\"], [1.0, \"#f0f921\"]], \"type\": \"histogram2d\"}], \"histogram2dcontour\": [{\"colorbar\": {\"outlinewidth\": 0, \"ticks\": \"\"}, \"colorscale\": [[0.0, \"#0d0887\"], [0.1111111111111111, \"#46039f\"], [0.2222222222222222, \"#7201a8\"], [0.3333333333333333, \"#9c179e\"], [0.4444444444444444, \"#bd3786\"], [0.5555555555555556, \"#d8576b\"], [0.6666666666666666, \"#ed7953\"], [0.7777777777777778, \"#fb9f3a\"], [0.8888888888888888, \"#fdca26\"], [1.0, \"#f0f921\"]], \"type\": \"histogram2dcontour\"}], \"mesh3d\": [{\"colorbar\": {\"outlinewidth\": 0, \"ticks\": \"\"}, \"type\": \"mesh3d\"}], \"parcoords\": [{\"line\": {\"colorbar\": {\"outlinewidth\": 0, \"ticks\": \"\"}}, \"type\": \"parcoords\"}], \"pie\": [{\"automargin\": true, \"type\": \"pie\"}], \"scatter\": [{\"marker\": {\"colorbar\": {\"outlinewidth\": 0, \"ticks\": \"\"}}, \"type\": \"scatter\"}], \"scatter3d\": [{\"line\": {\"colorbar\": {\"outlinewidth\": 0, \"ticks\": \"\"}}, \"marker\": {\"colorbar\": {\"outlinewidth\": 0, \"ticks\": \"\"}}, \"type\": \"scatter3d\"}], \"scattercarpet\": [{\"marker\": {\"colorbar\": {\"outlinewidth\": 0, \"ticks\": \"\"}}, \"type\": \"scattercarpet\"}], \"scattergeo\": [{\"marker\": {\"colorbar\": {\"outlinewidth\": 0, \"ticks\": \"\"}}, \"type\": \"scattergeo\"}], \"scattergl\": [{\"marker\": {\"colorbar\": {\"outlinewidth\": 0, \"ticks\": \"\"}}, \"type\": \"scattergl\"}], \"scattermapbox\": [{\"marker\": {\"colorbar\": {\"outlinewidth\": 0, \"ticks\": \"\"}}, \"type\": \"scattermapbox\"}], \"scatterpolar\": [{\"marker\": {\"colorbar\": {\"outlinewidth\": 0, \"ticks\": \"\"}}, \"type\": \"scatterpolar\"}], \"scatterpolargl\": [{\"marker\": {\"colorbar\": {\"outlinewidth\": 0, \"ticks\": \"\"}}, \"type\": \"scatterpolargl\"}], \"scatterternary\": [{\"marker\": {\"colorbar\": {\"outlinewidth\": 0, \"ticks\": \"\"}}, \"type\": \"scatterternary\"}], \"surface\": [{\"colorbar\": {\"outlinewidth\": 0, \"ticks\": \"\"}, \"colorscale\": [[0.0, \"#0d0887\"], [0.1111111111111111, \"#46039f\"], [0.2222222222222222, \"#7201a8\"], [0.3333333333333333, \"#9c179e\"], [0.4444444444444444, \"#bd3786\"], [0.5555555555555556, \"#d8576b\"], [0.6666666666666666, \"#ed7953\"], [0.7777777777777778, \"#fb9f3a\"], [0.8888888888888888, \"#fdca26\"], [1.0, \"#f0f921\"]], \"type\": \"surface\"}], \"table\": [{\"cells\": {\"fill\": {\"color\": \"#EBF0F8\"}, \"line\": {\"color\": \"white\"}}, \"header\": {\"fill\": {\"color\": \"#C8D4E3\"}, \"line\": {\"color\": \"white\"}}, \"type\": \"table\"}]}, \"layout\": {\"annotationdefaults\": {\"arrowcolor\": \"#2a3f5f\", \"arrowhead\": 0, \"arrowwidth\": 1}, \"autotypenumbers\": \"strict\", \"coloraxis\": {\"colorbar\": {\"outlinewidth\": 0, \"ticks\": \"\"}}, \"colorscale\": {\"diverging\": [[0, \"#8e0152\"], [0.1, \"#c51b7d\"], [0.2, \"#de77ae\"], [0.3, \"#f1b6da\"], [0.4, \"#fde0ef\"], [0.5, \"#f7f7f7\"], [0.6, \"#e6f5d0\"], [0.7, \"#b8e186\"], [0.8, \"#7fbc41\"], [0.9, \"#4d9221\"], [1, \"#276419\"]], \"sequential\": [[0.0, \"#0d0887\"], [0.1111111111111111, \"#46039f\"], [0.2222222222222222, \"#7201a8\"], [0.3333333333333333, \"#9c179e\"], [0.4444444444444444, \"#bd3786\"], [0.5555555555555556, \"#d8576b\"], [0.6666666666666666, \"#ed7953\"], [0.7777777777777778, \"#fb9f3a\"], [0.8888888888888888, \"#fdca26\"], [1.0, \"#f0f921\"]], \"sequentialminus\": [[0.0, \"#0d0887\"], [0.1111111111111111, \"#46039f\"], [0.2222222222222222, \"#7201a8\"], [0.3333333333333333, \"#9c179e\"], [0.4444444444444444, \"#bd3786\"], [0.5555555555555556, \"#d8576b\"], [0.6666666666666666, \"#ed7953\"], [0.7777777777777778, \"#fb9f3a\"], [0.8888888888888888, \"#fdca26\"], [1.0, \"#f0f921\"]]}, \"colorway\": [\"#636efa\", \"#EF553B\", \"#00cc96\", \"#ab63fa\", \"#FFA15A\", \"#19d3f3\", \"#FF6692\", \"#B6E880\", \"#FF97FF\", \"#FECB52\"], \"font\": {\"color\": \"#2a3f5f\"}, \"geo\": {\"bgcolor\": \"white\", \"lakecolor\": \"white\", \"landcolor\": \"#E5ECF6\", \"showlakes\": true, \"showland\": true, \"subunitcolor\": \"white\"}, \"hoverlabel\": {\"align\": \"left\"}, \"hovermode\": \"closest\", \"mapbox\": {\"style\": \"light\"}, \"paper_bgcolor\": \"white\", \"plot_bgcolor\": \"#E5ECF6\", \"polar\": {\"angularaxis\": {\"gridcolor\": \"white\", \"linecolor\": \"white\", \"ticks\": \"\"}, \"bgcolor\": \"#E5ECF6\", \"radialaxis\": {\"gridcolor\": \"white\", \"linecolor\": \"white\", \"ticks\": \"\"}}, \"scene\": {\"xaxis\": {\"backgroundcolor\": \"#E5ECF6\", \"gridcolor\": \"white\", \"gridwidth\": 2, \"linecolor\": \"white\", \"showbackground\": true, \"ticks\": \"\", \"zerolinecolor\": \"white\"}, \"yaxis\": {\"backgroundcolor\": \"#E5ECF6\", \"gridcolor\": \"white\", \"gridwidth\": 2, \"linecolor\": \"white\", \"showbackground\": true, \"ticks\": \"\", \"zerolinecolor\": \"white\"}, \"zaxis\": {\"backgroundcolor\": \"#E5ECF6\", \"gridcolor\": \"white\", \"gridwidth\": 2, \"linecolor\": \"white\", \"showbackground\": true, \"ticks\": \"\", \"zerolinecolor\": \"white\"}}, \"shapedefaults\": {\"line\": {\"color\": \"#2a3f5f\"}}, \"ternary\": {\"aaxis\": {\"gridcolor\": \"white\", \"linecolor\": \"white\", \"ticks\": \"\"}, \"baxis\": {\"gridcolor\": \"white\", \"linecolor\": \"white\", \"ticks\": \"\"}, \"bgcolor\": \"#E5ECF6\", \"caxis\": {\"gridcolor\": \"white\", \"linecolor\": \"white\", \"ticks\": \"\"}}, \"title\": {\"x\": 0.05}, \"xaxis\": {\"automargin\": true, \"gridcolor\": \"white\", \"linecolor\": \"white\", \"ticks\": \"\", \"title\": {\"standoff\": 15}, \"zerolinecolor\": \"white\", \"zerolinewidth\": 2}, \"yaxis\": {\"automargin\": true, \"gridcolor\": \"white\", \"linecolor\": \"white\", \"ticks\": \"\", \"title\": {\"standoff\": 15}, \"zerolinecolor\": \"white\", \"zerolinewidth\": 2}}}, \"title\": {\"text\": \"<b>Europian Countries Press Index-2021</b>\", \"x\": 0.5}, \"width\": 750},                        {\"responsive\": true}                    ).then(function(){\n",
       "                            \n",
       "var gd = document.getElementById('22d9323a-aa5b-4005-b8f7-16b10c1c56aa');\n",
       "var x = new MutationObserver(function (mutations, observer) {{\n",
       "        var display = window.getComputedStyle(gd).display;\n",
       "        if (!display || display === 'none') {{\n",
       "            console.log([gd, 'removed!']);\n",
       "            Plotly.purge(gd);\n",
       "            observer.disconnect();\n",
       "        }}\n",
       "}});\n",
       "\n",
       "// Listen for the removal of the full notebook cells\n",
       "var notebookContainer = gd.closest('#notebook-container');\n",
       "if (notebookContainer) {{\n",
       "    x.observe(notebookContainer, {childList: true});\n",
       "}}\n",
       "\n",
       "// Listen for the clearing of the current output cell\n",
       "var outputEl = gd.closest('.output');\n",
       "if (outputEl) {{\n",
       "    x.observe(outputEl, {childList: true});\n",
       "}}\n",
       "\n",
       "                        })                };                });            </script>        </div>"
      ]
     },
     "metadata": {},
     "output_type": "display_data"
    }
   ],
   "source": [
    "plot_Global_press_index(2021,\"europe\",\"Europian Countries Press Index-\")"
   ]
  },
  {
   "cell_type": "code",
   "execution_count": 11,
   "id": "blocked-packing",
   "metadata": {
    "execution": {
     "iopub.execute_input": "2021-06-22T09:02:21.214862Z",
     "iopub.status.busy": "2021-06-22T09:02:21.214247Z",
     "iopub.status.idle": "2021-06-22T09:02:21.283379Z",
     "shell.execute_reply": "2021-06-22T09:02:21.283816Z",
     "shell.execute_reply.started": "2021-06-22T08:56:30.640783Z"
    },
    "papermill": {
     "duration": 0.09668,
     "end_time": "2021-06-22T09:02:21.283984",
     "exception": false,
     "start_time": "2021-06-22T09:02:21.187304",
     "status": "completed"
    },
    "tags": []
   },
   "outputs": [
    {
     "data": {
      "text/html": [
       "<div>                            <div id=\"452da59c-48e7-4454-aa0c-ab742941c4e4\" class=\"plotly-graph-div\" style=\"height:350px; width:750px;\"></div>            <script type=\"text/javascript\">                require([\"plotly\"], function(Plotly) {                    window.PLOTLYENV=window.PLOTLYENV || {};                                    if (document.getElementById(\"452da59c-48e7-4454-aa0c-ab742941c4e4\")) {                    Plotly.newPlot(                        \"452da59c-48e7-4454-aa0c-ab742941c4e4\",                        [{\"coloraxis\": \"coloraxis\", \"geo\": \"geo\", \"hovertemplate\": \"<b>%{hovertext}</b><br><br>iso_alpha=%{location}<br>Global Score 2021=%{z}<extra></extra>\", \"hovertext\": [\"Norway\", \"Finland\", \"Sweden\", \"Denmark\", \"Costa Rica\", \"Netherlands\", \"Jamaica\", \"New Zealand\", \"Portugal\", \"Switzerland\", \"Belgium\", \"Ireland\", \"Germany\", \"Canada\", \"Estonia\", \"Iceland\", \"Austria\", \"Uruguay\", \"Suriname\", \"Luxembourg\", \"Samoa\", \"Latvia\", \"Liechtenstein\", \"Namibia\", \"Australia\", \"Cyprus\", \"Cabo Verde\", \"Lithuania\", \"Spain\", \"Ghana\", \"Trinidad and Tobago\", \"South Africa\", \"United Kingdom\", \"France\", \"Slovakia\", \"Slovenia\", \"Burkina Faso\", \"Botswana\", \"Andorra\", \"Czech Republic\", \"Italy\", \"South Korea\", \"Taiwan\", \"United States\", \"OECS\", \"Tonga\", \"Papua New Guinea\", \"Romania\", \"Senegal\", \"Dominican Republic\", \"Guyana\", \"Seychelles\", \"Belize\", \"Chile\", \"Fiji\", \"Croatia\", \"Madagascar\", \"Bosnia-Herzegovina\", \"Niger\", \"Georgia\", \"Mauritius\", \"Malawi\", \"Armenia\", \"Poland\", \"Bhutan\", \"C\\u00f4te d\\u2019Ivoire\", \"Japan\", \"Mongolia\", \"Argentina\", \"Greece\", \"Timor-Leste\", \"Maldives\", \"Tunisia\", \"Togo\", \"Sierra Leone\", \"Northern Cyprus\", \"Panama\", \"Kosovo\", \"Kyrgyzstan\", \"Hong Kong\", \"Malta\", \"El Salvador\", \"Albania\", \"Comoros\", \"Gambia\", \"Israel\", \"Ha\\u00efti\", \"Lesotho\", \"Moldova\", \"North Macedonia\", \"Peru\", \"Hungary\", \"Serbia\", \"Mauritania\", \"Guinea Bissau\", \"Ecuador\", \"Ukraine\", \"Liberia\", \"Mali\", \"Paraguay\", \"Ethiopia\", \"Kenya\", \"Angola\", \"Montenegro\", \"Kuwait\", \"Nepal\", \"Lebanon\", \"Mozambique\", \"Guinea\", \"Bolivia\", \"Brazil\", \"Bulgaria\", \"Indonesia\", \"Benin\", \"Zambia\", \"Guatemala\", \"Gabon\", \"Congo-Brazzaville\", \"Malaysia\", \"Nigeria\", \"Nicaragua\", \"Afghanistan\", \"Chad\", \"Tanzania\", \"Uganda\", \"Central African Republic\", \"Sri Lanka\", \"Qatar\", \"Jordan\", \"Zimbabwe\", \"United Arab Emirates\", \"Palestine\", \"Oman\", \"Colombia\", \"Cameroon\", \"Morocco / Western Sahara\", \"Thailand\", \"Philippines\", \"South Sudan\", \"Myanmar\", \"Eswatini\", \"India\", \"Mexico\", \"Cambodia\", \"Pakistan\", \"Algeria\", \"Burundi\", \"Venezuela\", \"Democratic Republic of Congo\", \"Russia\", \"Honduras\", \"Bangladesh\", \"Turkey\", \"Brunei\", \"Kazakhstan\", \"Rwanda\", \"Uzbekistan\", \"Belarus\", \"Sudan\", \"Singapore\", \"Somalia\", \"Tajikistan\", \"Iraq\", \"Equatorial Guinea\", \"Libya\", \"Egypt\", \"Azerbaijan\", \"Bahrain\", \"Yemen\", \"Saudi Arabia\", \"Cuba\", \"Laos\", \"Syria\", \"Iran\", \"Vietnam\", \"Djibouti\", \"China\", \"Turkmenistan\", \"North Korea\", \"Eritrea\"], \"locations\": [\"NOR\", \"FIN\", \"SWE\", \"DNK\", \"CRI\", \"NLD\", \"JAM\", \"NZL\", \"PRT\", \"CHE\", \"BEL\", \"IRL\", \"DEU\", \"CAN\", \"EST\", \"ISL\", \"AUT\", \"URY\", \"SUR\", \"LUX\", \"WSM\", \"LVA\", \"LIE\", \"NAM\", \"AUS\", \"CYP\", \"CPV\", \"LTU\", \"ESP\", \"GHA\", \"TTO\", \"ZAF\", \"GBR\", \"FRA\", \"SVK\", \"SVN\", \"BFA\", \"BWA\", \"AND\", null, \"ITA\", null, null, \"USA\", null, \"TON\", \"PNG\", \"ROU\", \"SEN\", \"DOM\", \"GUY\", \"SYC\", \"BLZ\", \"CHL\", \"FJI\", \"HRV\", \"MDG\", null, \"NER\", \"GEO\", \"MUS\", \"MWI\", \"ARM\", \"POL\", \"BTN\", null, \"JPN\", \"MNG\", \"ARG\", \"GRC\", \"TLS\", \"MDV\", \"TUN\", \"TGO\", \"SLE\", null, \"PAN\", null, \"KGZ\", \"HKG\", \"MLT\", \"SLV\", \"ALB\", \"COM\", \"GMB\", \"ISR\", null, \"LSO\", null, \"MKD\", \"PER\", \"HUN\", \"SRB\", \"MRT\", null, \"ECU\", \"UKR\", \"LBR\", \"MLI\", \"PRY\", \"ETH\", \"KEN\", \"AGO\", \"MNE\", \"KWT\", \"NPL\", \"LBN\", \"MOZ\", \"GIN\", null, \"BRA\", \"BGR\", \"IDN\", \"BEN\", \"ZMB\", \"GTM\", \"GAB\", null, \"MYS\", \"NGA\", \"NIC\", \"AFG\", \"TCD\", null, \"UGA\", \"CAF\", \"LKA\", \"QAT\", \"JOR\", \"ZWE\", \"ARE\", null, \"OMN\", \"COL\", \"CMR\", null, \"THA\", \"PHL\", \"SSD\", \"MMR\", \"SWZ\", \"IND\", \"MEX\", \"KHM\", \"PAK\", \"DZA\", \"BDI\", null, null, null, \"HND\", \"BGD\", \"TUR\", null, \"KAZ\", \"RWA\", \"UZB\", \"BLR\", \"SDN\", \"SGP\", \"SOM\", \"TJK\", \"IRQ\", \"GNQ\", \"LBY\", \"EGY\", \"AZE\", \"BHR\", \"YEM\", \"SAU\", \"CUB\", null, null, null, null, \"DJI\", \"CHN\", \"TKM\", null, \"ERI\"], \"name\": \"\", \"type\": \"choropleth\", \"z\": [6.72, 6.99, 7.24, 8.57, 8.76, 9.67, 9.96, 10.04, 10.11, 10.55, 11.69, 11.91, 15.24, 15.25, 15.25, 15.37, 16.34, 16.38, 16.95, 17.56, 19.24, 19.26, 19.49, 19.72, 19.79, 19.85, 20.09, 20.15, 20.44, 21.33, 21.55, 21.59, 21.59, 22.6, 23.02, 23.1, 23.17, 23.25, 23.32, 23.38, 23.39, 23.43, 23.86, 23.93, 23.98, 24.59, 24.88, 24.91, 25.22, 25.6, 25.61, 25.66, 27.61, 27.89, 27.92, 27.95, 28.24, 28.34, 28.44, 28.64, 28.74, 28.8, 28.83, 28.84, 28.86, 28.87, 28.88, 28.97, 28.99, 29.01, 29.11, 29.13, 29.53, 29.59, 29.61, 29.82, 29.94, 30.32, 30.37, 30.44, 30.46, 30.49, 30.59, 30.65, 30.76, 30.9, 31.12, 31.61, 31.61, 31.67, 31.71, 31.76, 32.03, 32.25, 32.68, 32.83, 32.96, 33.36, 33.5, 33.52, 33.63, 33.65, 34.06, 34.33, 34.36, 34.62, 34.93, 35.39, 35.42, 35.47, 36.25, 37.29, 37.4, 38.18, 38.21, 38.45, 38.6, 38.83, 39.47, 39.69, 39.98, 40.19, 40.2, 40.69, 41.19, 41.92, 42.2, 42.6, 42.89, 43.12, 43.13, 43.18, 43.37, 43.74, 43.78, 43.94, 45.22, 45.64, 45.78, 46.14, 46.34, 46.56, 46.71, 46.84, 46.86, 47.26, 47.57, 47.6, 48.59, 48.71, 49.35, 49.71, 49.79, 49.91, 50.28, 50.66, 50.74, 50.82, 52.93, 55.2, 55.47, 55.52, 55.57, 55.67, 55.73, 56.17, 58.77, 61.1, 62.35, 62.73, 63.94, 70.56, 70.63, 72.7, 78.46, 78.62, 78.72, 80.03, 81.28, 81.45]}],                        {\"coloraxis\": {\"colorbar\": {\"title\": {\"text\": \"Global Score 2021\"}}, \"colorscale\": [[0.0, \"#440154\"], [0.1111111111111111, \"#482878\"], [0.2222222222222222, \"#3e4989\"], [0.3333333333333333, \"#31688e\"], [0.4444444444444444, \"#26828e\"], [0.5555555555555556, \"#1f9e89\"], [0.6666666666666666, \"#35b779\"], [0.7777777777777778, \"#6ece58\"], [0.8888888888888888, \"#b5de2b\"], [1.0, \"#fde725\"]]}, \"font\": {\"size\": 14}, \"geo\": {\"center\": {}, \"domain\": {\"x\": [0.0, 1.0], \"y\": [0.0, 1.0]}, \"scope\": \"africa\"}, \"height\": 350, \"legend\": {\"tracegroupgap\": 0}, \"margin\": {\"b\": 0, \"l\": 0, \"r\": 0, \"t\": 30}, \"showlegend\": false, \"template\": {\"data\": {\"bar\": [{\"error_x\": {\"color\": \"#2a3f5f\"}, \"error_y\": {\"color\": \"#2a3f5f\"}, \"marker\": {\"line\": {\"color\": \"#E5ECF6\", \"width\": 0.5}}, \"type\": \"bar\"}], \"barpolar\": [{\"marker\": {\"line\": {\"color\": \"#E5ECF6\", \"width\": 0.5}}, \"type\": \"barpolar\"}], \"carpet\": [{\"aaxis\": {\"endlinecolor\": \"#2a3f5f\", \"gridcolor\": \"white\", \"linecolor\": \"white\", \"minorgridcolor\": \"white\", \"startlinecolor\": \"#2a3f5f\"}, \"baxis\": {\"endlinecolor\": \"#2a3f5f\", \"gridcolor\": \"white\", \"linecolor\": \"white\", \"minorgridcolor\": \"white\", \"startlinecolor\": \"#2a3f5f\"}, \"type\": \"carpet\"}], \"choropleth\": [{\"colorbar\": {\"outlinewidth\": 0, \"ticks\": \"\"}, \"type\": \"choropleth\"}], \"contour\": [{\"colorbar\": {\"outlinewidth\": 0, \"ticks\": \"\"}, \"colorscale\": [[0.0, \"#0d0887\"], [0.1111111111111111, \"#46039f\"], [0.2222222222222222, \"#7201a8\"], [0.3333333333333333, \"#9c179e\"], [0.4444444444444444, \"#bd3786\"], [0.5555555555555556, \"#d8576b\"], [0.6666666666666666, \"#ed7953\"], [0.7777777777777778, \"#fb9f3a\"], [0.8888888888888888, \"#fdca26\"], [1.0, \"#f0f921\"]], \"type\": \"contour\"}], \"contourcarpet\": [{\"colorbar\": {\"outlinewidth\": 0, \"ticks\": \"\"}, \"type\": \"contourcarpet\"}], \"heatmap\": [{\"colorbar\": {\"outlinewidth\": 0, \"ticks\": \"\"}, \"colorscale\": [[0.0, \"#0d0887\"], [0.1111111111111111, \"#46039f\"], [0.2222222222222222, \"#7201a8\"], [0.3333333333333333, \"#9c179e\"], [0.4444444444444444, \"#bd3786\"], [0.5555555555555556, \"#d8576b\"], [0.6666666666666666, \"#ed7953\"], [0.7777777777777778, \"#fb9f3a\"], [0.8888888888888888, \"#fdca26\"], [1.0, \"#f0f921\"]], \"type\": \"heatmap\"}], \"heatmapgl\": [{\"colorbar\": {\"outlinewidth\": 0, \"ticks\": \"\"}, \"colorscale\": [[0.0, \"#0d0887\"], [0.1111111111111111, \"#46039f\"], [0.2222222222222222, \"#7201a8\"], [0.3333333333333333, \"#9c179e\"], [0.4444444444444444, \"#bd3786\"], [0.5555555555555556, \"#d8576b\"], [0.6666666666666666, \"#ed7953\"], [0.7777777777777778, \"#fb9f3a\"], [0.8888888888888888, \"#fdca26\"], [1.0, \"#f0f921\"]], \"type\": \"heatmapgl\"}], \"histogram\": [{\"marker\": {\"colorbar\": {\"outlinewidth\": 0, \"ticks\": \"\"}}, \"type\": \"histogram\"}], \"histogram2d\": [{\"colorbar\": {\"outlinewidth\": 0, \"ticks\": \"\"}, \"colorscale\": [[0.0, \"#0d0887\"], [0.1111111111111111, \"#46039f\"], [0.2222222222222222, \"#7201a8\"], [0.3333333333333333, \"#9c179e\"], [0.4444444444444444, \"#bd3786\"], [0.5555555555555556, \"#d8576b\"], [0.6666666666666666, \"#ed7953\"], [0.7777777777777778, \"#fb9f3a\"], [0.8888888888888888, \"#fdca26\"], [1.0, \"#f0f921\"]], \"type\": \"histogram2d\"}], \"histogram2dcontour\": [{\"colorbar\": {\"outlinewidth\": 0, \"ticks\": \"\"}, \"colorscale\": [[0.0, \"#0d0887\"], [0.1111111111111111, \"#46039f\"], [0.2222222222222222, \"#7201a8\"], [0.3333333333333333, \"#9c179e\"], [0.4444444444444444, \"#bd3786\"], [0.5555555555555556, \"#d8576b\"], [0.6666666666666666, \"#ed7953\"], [0.7777777777777778, \"#fb9f3a\"], [0.8888888888888888, \"#fdca26\"], [1.0, \"#f0f921\"]], \"type\": \"histogram2dcontour\"}], \"mesh3d\": [{\"colorbar\": {\"outlinewidth\": 0, \"ticks\": \"\"}, \"type\": \"mesh3d\"}], \"parcoords\": [{\"line\": {\"colorbar\": {\"outlinewidth\": 0, \"ticks\": \"\"}}, \"type\": \"parcoords\"}], \"pie\": [{\"automargin\": true, \"type\": \"pie\"}], \"scatter\": [{\"marker\": {\"colorbar\": {\"outlinewidth\": 0, \"ticks\": \"\"}}, \"type\": \"scatter\"}], \"scatter3d\": [{\"line\": {\"colorbar\": {\"outlinewidth\": 0, \"ticks\": \"\"}}, \"marker\": {\"colorbar\": {\"outlinewidth\": 0, \"ticks\": \"\"}}, \"type\": \"scatter3d\"}], \"scattercarpet\": [{\"marker\": {\"colorbar\": {\"outlinewidth\": 0, \"ticks\": \"\"}}, \"type\": \"scattercarpet\"}], \"scattergeo\": [{\"marker\": {\"colorbar\": {\"outlinewidth\": 0, \"ticks\": \"\"}}, \"type\": \"scattergeo\"}], \"scattergl\": [{\"marker\": {\"colorbar\": {\"outlinewidth\": 0, \"ticks\": \"\"}}, \"type\": \"scattergl\"}], \"scattermapbox\": [{\"marker\": {\"colorbar\": {\"outlinewidth\": 0, \"ticks\": \"\"}}, \"type\": \"scattermapbox\"}], \"scatterpolar\": [{\"marker\": {\"colorbar\": {\"outlinewidth\": 0, \"ticks\": \"\"}}, \"type\": \"scatterpolar\"}], \"scatterpolargl\": [{\"marker\": {\"colorbar\": {\"outlinewidth\": 0, \"ticks\": \"\"}}, \"type\": \"scatterpolargl\"}], \"scatterternary\": [{\"marker\": {\"colorbar\": {\"outlinewidth\": 0, \"ticks\": \"\"}}, \"type\": \"scatterternary\"}], \"surface\": [{\"colorbar\": {\"outlinewidth\": 0, \"ticks\": \"\"}, \"colorscale\": [[0.0, \"#0d0887\"], [0.1111111111111111, \"#46039f\"], [0.2222222222222222, \"#7201a8\"], [0.3333333333333333, \"#9c179e\"], [0.4444444444444444, \"#bd3786\"], [0.5555555555555556, \"#d8576b\"], [0.6666666666666666, \"#ed7953\"], [0.7777777777777778, \"#fb9f3a\"], [0.8888888888888888, \"#fdca26\"], [1.0, \"#f0f921\"]], \"type\": \"surface\"}], \"table\": [{\"cells\": {\"fill\": {\"color\": \"#EBF0F8\"}, \"line\": {\"color\": \"white\"}}, \"header\": {\"fill\": {\"color\": \"#C8D4E3\"}, \"line\": {\"color\": \"white\"}}, \"type\": \"table\"}]}, \"layout\": {\"annotationdefaults\": {\"arrowcolor\": \"#2a3f5f\", \"arrowhead\": 0, \"arrowwidth\": 1}, \"autotypenumbers\": \"strict\", \"coloraxis\": {\"colorbar\": {\"outlinewidth\": 0, \"ticks\": \"\"}}, \"colorscale\": {\"diverging\": [[0, \"#8e0152\"], [0.1, \"#c51b7d\"], [0.2, \"#de77ae\"], [0.3, \"#f1b6da\"], [0.4, \"#fde0ef\"], [0.5, \"#f7f7f7\"], [0.6, \"#e6f5d0\"], [0.7, \"#b8e186\"], [0.8, \"#7fbc41\"], [0.9, \"#4d9221\"], [1, \"#276419\"]], \"sequential\": [[0.0, \"#0d0887\"], [0.1111111111111111, \"#46039f\"], [0.2222222222222222, \"#7201a8\"], [0.3333333333333333, \"#9c179e\"], [0.4444444444444444, \"#bd3786\"], [0.5555555555555556, \"#d8576b\"], [0.6666666666666666, \"#ed7953\"], [0.7777777777777778, \"#fb9f3a\"], [0.8888888888888888, \"#fdca26\"], [1.0, \"#f0f921\"]], \"sequentialminus\": [[0.0, \"#0d0887\"], [0.1111111111111111, \"#46039f\"], [0.2222222222222222, \"#7201a8\"], [0.3333333333333333, \"#9c179e\"], [0.4444444444444444, \"#bd3786\"], [0.5555555555555556, \"#d8576b\"], [0.6666666666666666, \"#ed7953\"], [0.7777777777777778, \"#fb9f3a\"], [0.8888888888888888, \"#fdca26\"], [1.0, \"#f0f921\"]]}, \"colorway\": [\"#636efa\", \"#EF553B\", \"#00cc96\", \"#ab63fa\", \"#FFA15A\", \"#19d3f3\", \"#FF6692\", \"#B6E880\", \"#FF97FF\", \"#FECB52\"], \"font\": {\"color\": \"#2a3f5f\"}, \"geo\": {\"bgcolor\": \"white\", \"lakecolor\": \"white\", \"landcolor\": \"#E5ECF6\", \"showlakes\": true, \"showland\": true, \"subunitcolor\": \"white\"}, \"hoverlabel\": {\"align\": \"left\"}, \"hovermode\": \"closest\", \"mapbox\": {\"style\": \"light\"}, \"paper_bgcolor\": \"white\", \"plot_bgcolor\": \"#E5ECF6\", \"polar\": {\"angularaxis\": {\"gridcolor\": \"white\", \"linecolor\": \"white\", \"ticks\": \"\"}, \"bgcolor\": \"#E5ECF6\", \"radialaxis\": {\"gridcolor\": \"white\", \"linecolor\": \"white\", \"ticks\": \"\"}}, \"scene\": {\"xaxis\": {\"backgroundcolor\": \"#E5ECF6\", \"gridcolor\": \"white\", \"gridwidth\": 2, \"linecolor\": \"white\", \"showbackground\": true, \"ticks\": \"\", \"zerolinecolor\": \"white\"}, \"yaxis\": {\"backgroundcolor\": \"#E5ECF6\", \"gridcolor\": \"white\", \"gridwidth\": 2, \"linecolor\": \"white\", \"showbackground\": true, \"ticks\": \"\", \"zerolinecolor\": \"white\"}, \"zaxis\": {\"backgroundcolor\": \"#E5ECF6\", \"gridcolor\": \"white\", \"gridwidth\": 2, \"linecolor\": \"white\", \"showbackground\": true, \"ticks\": \"\", \"zerolinecolor\": \"white\"}}, \"shapedefaults\": {\"line\": {\"color\": \"#2a3f5f\"}}, \"ternary\": {\"aaxis\": {\"gridcolor\": \"white\", \"linecolor\": \"white\", \"ticks\": \"\"}, \"baxis\": {\"gridcolor\": \"white\", \"linecolor\": \"white\", \"ticks\": \"\"}, \"bgcolor\": \"#E5ECF6\", \"caxis\": {\"gridcolor\": \"white\", \"linecolor\": \"white\", \"ticks\": \"\"}}, \"title\": {\"x\": 0.05}, \"xaxis\": {\"automargin\": true, \"gridcolor\": \"white\", \"linecolor\": \"white\", \"ticks\": \"\", \"title\": {\"standoff\": 15}, \"zerolinecolor\": \"white\", \"zerolinewidth\": 2}, \"yaxis\": {\"automargin\": true, \"gridcolor\": \"white\", \"linecolor\": \"white\", \"ticks\": \"\", \"title\": {\"standoff\": 15}, \"zerolinecolor\": \"white\", \"zerolinewidth\": 2}}}, \"title\": {\"text\": \"<b>African Countries Press Index-2021</b>\", \"x\": 0.5}, \"width\": 750},                        {\"responsive\": true}                    ).then(function(){\n",
       "                            \n",
       "var gd = document.getElementById('452da59c-48e7-4454-aa0c-ab742941c4e4');\n",
       "var x = new MutationObserver(function (mutations, observer) {{\n",
       "        var display = window.getComputedStyle(gd).display;\n",
       "        if (!display || display === 'none') {{\n",
       "            console.log([gd, 'removed!']);\n",
       "            Plotly.purge(gd);\n",
       "            observer.disconnect();\n",
       "        }}\n",
       "}});\n",
       "\n",
       "// Listen for the removal of the full notebook cells\n",
       "var notebookContainer = gd.closest('#notebook-container');\n",
       "if (notebookContainer) {{\n",
       "    x.observe(notebookContainer, {childList: true});\n",
       "}}\n",
       "\n",
       "// Listen for the clearing of the current output cell\n",
       "var outputEl = gd.closest('.output');\n",
       "if (outputEl) {{\n",
       "    x.observe(outputEl, {childList: true});\n",
       "}}\n",
       "\n",
       "                        })                };                });            </script>        </div>"
      ]
     },
     "metadata": {},
     "output_type": "display_data"
    }
   ],
   "source": [
    "plot_Global_press_index(2021,\"africa\",\"African Countries Press Index-\")"
   ]
  },
  {
   "cell_type": "code",
   "execution_count": 12,
   "id": "developmental-continuity",
   "metadata": {
    "execution": {
     "iopub.execute_input": "2021-06-22T09:02:21.336829Z",
     "iopub.status.busy": "2021-06-22T09:02:21.336199Z",
     "iopub.status.idle": "2021-06-22T09:02:21.407203Z",
     "shell.execute_reply": "2021-06-22T09:02:21.406554Z",
     "shell.execute_reply.started": "2021-06-22T08:07:00.291463Z"
    },
    "papermill": {
     "duration": 0.098425,
     "end_time": "2021-06-22T09:02:21.407373",
     "exception": false,
     "start_time": "2021-06-22T09:02:21.308948",
     "status": "completed"
    },
    "tags": []
   },
   "outputs": [
    {
     "data": {
      "text/html": [
       "<div>                            <div id=\"623da484-c38c-4f07-a59b-67c4235a308e\" class=\"plotly-graph-div\" style=\"height:350px; width:750px;\"></div>            <script type=\"text/javascript\">                require([\"plotly\"], function(Plotly) {                    window.PLOTLYENV=window.PLOTLYENV || {};                                    if (document.getElementById(\"623da484-c38c-4f07-a59b-67c4235a308e\")) {                    Plotly.newPlot(                        \"623da484-c38c-4f07-a59b-67c4235a308e\",                        [{\"coloraxis\": \"coloraxis\", \"geo\": \"geo\", \"hovertemplate\": \"<b>%{hovertext}</b><br><br>iso_alpha=%{location}<br>Global Score 2021=%{z}<extra></extra>\", \"hovertext\": [\"Norway\", \"Finland\", \"Sweden\", \"Denmark\", \"Costa Rica\", \"Netherlands\", \"Jamaica\", \"New Zealand\", \"Portugal\", \"Switzerland\", \"Belgium\", \"Ireland\", \"Germany\", \"Canada\", \"Estonia\", \"Iceland\", \"Austria\", \"Uruguay\", \"Suriname\", \"Luxembourg\", \"Samoa\", \"Latvia\", \"Liechtenstein\", \"Namibia\", \"Australia\", \"Cyprus\", \"Cabo Verde\", \"Lithuania\", \"Spain\", \"Ghana\", \"Trinidad and Tobago\", \"South Africa\", \"United Kingdom\", \"France\", \"Slovakia\", \"Slovenia\", \"Burkina Faso\", \"Botswana\", \"Andorra\", \"Czech Republic\", \"Italy\", \"South Korea\", \"Taiwan\", \"United States\", \"OECS\", \"Tonga\", \"Papua New Guinea\", \"Romania\", \"Senegal\", \"Dominican Republic\", \"Guyana\", \"Seychelles\", \"Belize\", \"Chile\", \"Fiji\", \"Croatia\", \"Madagascar\", \"Bosnia-Herzegovina\", \"Niger\", \"Georgia\", \"Mauritius\", \"Malawi\", \"Armenia\", \"Poland\", \"Bhutan\", \"C\\u00f4te d\\u2019Ivoire\", \"Japan\", \"Mongolia\", \"Argentina\", \"Greece\", \"Timor-Leste\", \"Maldives\", \"Tunisia\", \"Togo\", \"Sierra Leone\", \"Northern Cyprus\", \"Panama\", \"Kosovo\", \"Kyrgyzstan\", \"Hong Kong\", \"Malta\", \"El Salvador\", \"Albania\", \"Comoros\", \"Gambia\", \"Israel\", \"Ha\\u00efti\", \"Lesotho\", \"Moldova\", \"North Macedonia\", \"Peru\", \"Hungary\", \"Serbia\", \"Mauritania\", \"Guinea Bissau\", \"Ecuador\", \"Ukraine\", \"Liberia\", \"Mali\", \"Paraguay\", \"Ethiopia\", \"Kenya\", \"Angola\", \"Montenegro\", \"Kuwait\", \"Nepal\", \"Lebanon\", \"Mozambique\", \"Guinea\", \"Bolivia\", \"Brazil\", \"Bulgaria\", \"Indonesia\", \"Benin\", \"Zambia\", \"Guatemala\", \"Gabon\", \"Congo-Brazzaville\", \"Malaysia\", \"Nigeria\", \"Nicaragua\", \"Afghanistan\", \"Chad\", \"Tanzania\", \"Uganda\", \"Central African Republic\", \"Sri Lanka\", \"Qatar\", \"Jordan\", \"Zimbabwe\", \"United Arab Emirates\", \"Palestine\", \"Oman\", \"Colombia\", \"Cameroon\", \"Morocco / Western Sahara\", \"Thailand\", \"Philippines\", \"South Sudan\", \"Myanmar\", \"Eswatini\", \"India\", \"Mexico\", \"Cambodia\", \"Pakistan\", \"Algeria\", \"Burundi\", \"Venezuela\", \"Democratic Republic of Congo\", \"Russia\", \"Honduras\", \"Bangladesh\", \"Turkey\", \"Brunei\", \"Kazakhstan\", \"Rwanda\", \"Uzbekistan\", \"Belarus\", \"Sudan\", \"Singapore\", \"Somalia\", \"Tajikistan\", \"Iraq\", \"Equatorial Guinea\", \"Libya\", \"Egypt\", \"Azerbaijan\", \"Bahrain\", \"Yemen\", \"Saudi Arabia\", \"Cuba\", \"Laos\", \"Syria\", \"Iran\", \"Vietnam\", \"Djibouti\", \"China\", \"Turkmenistan\", \"North Korea\", \"Eritrea\"], \"locations\": [\"NOR\", \"FIN\", \"SWE\", \"DNK\", \"CRI\", \"NLD\", \"JAM\", \"NZL\", \"PRT\", \"CHE\", \"BEL\", \"IRL\", \"DEU\", \"CAN\", \"EST\", \"ISL\", \"AUT\", \"URY\", \"SUR\", \"LUX\", \"WSM\", \"LVA\", \"LIE\", \"NAM\", \"AUS\", \"CYP\", \"CPV\", \"LTU\", \"ESP\", \"GHA\", \"TTO\", \"ZAF\", \"GBR\", \"FRA\", \"SVK\", \"SVN\", \"BFA\", \"BWA\", \"AND\", null, \"ITA\", null, null, \"USA\", null, \"TON\", \"PNG\", \"ROU\", \"SEN\", \"DOM\", \"GUY\", \"SYC\", \"BLZ\", \"CHL\", \"FJI\", \"HRV\", \"MDG\", null, \"NER\", \"GEO\", \"MUS\", \"MWI\", \"ARM\", \"POL\", \"BTN\", null, \"JPN\", \"MNG\", \"ARG\", \"GRC\", \"TLS\", \"MDV\", \"TUN\", \"TGO\", \"SLE\", null, \"PAN\", null, \"KGZ\", \"HKG\", \"MLT\", \"SLV\", \"ALB\", \"COM\", \"GMB\", \"ISR\", null, \"LSO\", null, \"MKD\", \"PER\", \"HUN\", \"SRB\", \"MRT\", null, \"ECU\", \"UKR\", \"LBR\", \"MLI\", \"PRY\", \"ETH\", \"KEN\", \"AGO\", \"MNE\", \"KWT\", \"NPL\", \"LBN\", \"MOZ\", \"GIN\", null, \"BRA\", \"BGR\", \"IDN\", \"BEN\", \"ZMB\", \"GTM\", \"GAB\", null, \"MYS\", \"NGA\", \"NIC\", \"AFG\", \"TCD\", null, \"UGA\", \"CAF\", \"LKA\", \"QAT\", \"JOR\", \"ZWE\", \"ARE\", null, \"OMN\", \"COL\", \"CMR\", null, \"THA\", \"PHL\", \"SSD\", \"MMR\", \"SWZ\", \"IND\", \"MEX\", \"KHM\", \"PAK\", \"DZA\", \"BDI\", null, null, null, \"HND\", \"BGD\", \"TUR\", null, \"KAZ\", \"RWA\", \"UZB\", \"BLR\", \"SDN\", \"SGP\", \"SOM\", \"TJK\", \"IRQ\", \"GNQ\", \"LBY\", \"EGY\", \"AZE\", \"BHR\", \"YEM\", \"SAU\", \"CUB\", null, null, null, null, \"DJI\", \"CHN\", \"TKM\", null, \"ERI\"], \"name\": \"\", \"type\": \"choropleth\", \"z\": [6.72, 6.99, 7.24, 8.57, 8.76, 9.67, 9.96, 10.04, 10.11, 10.55, 11.69, 11.91, 15.24, 15.25, 15.25, 15.37, 16.34, 16.38, 16.95, 17.56, 19.24, 19.26, 19.49, 19.72, 19.79, 19.85, 20.09, 20.15, 20.44, 21.33, 21.55, 21.59, 21.59, 22.6, 23.02, 23.1, 23.17, 23.25, 23.32, 23.38, 23.39, 23.43, 23.86, 23.93, 23.98, 24.59, 24.88, 24.91, 25.22, 25.6, 25.61, 25.66, 27.61, 27.89, 27.92, 27.95, 28.24, 28.34, 28.44, 28.64, 28.74, 28.8, 28.83, 28.84, 28.86, 28.87, 28.88, 28.97, 28.99, 29.01, 29.11, 29.13, 29.53, 29.59, 29.61, 29.82, 29.94, 30.32, 30.37, 30.44, 30.46, 30.49, 30.59, 30.65, 30.76, 30.9, 31.12, 31.61, 31.61, 31.67, 31.71, 31.76, 32.03, 32.25, 32.68, 32.83, 32.96, 33.36, 33.5, 33.52, 33.63, 33.65, 34.06, 34.33, 34.36, 34.62, 34.93, 35.39, 35.42, 35.47, 36.25, 37.29, 37.4, 38.18, 38.21, 38.45, 38.6, 38.83, 39.47, 39.69, 39.98, 40.19, 40.2, 40.69, 41.19, 41.92, 42.2, 42.6, 42.89, 43.12, 43.13, 43.18, 43.37, 43.74, 43.78, 43.94, 45.22, 45.64, 45.78, 46.14, 46.34, 46.56, 46.71, 46.84, 46.86, 47.26, 47.57, 47.6, 48.59, 48.71, 49.35, 49.71, 49.79, 49.91, 50.28, 50.66, 50.74, 50.82, 52.93, 55.2, 55.47, 55.52, 55.57, 55.67, 55.73, 56.17, 58.77, 61.1, 62.35, 62.73, 63.94, 70.56, 70.63, 72.7, 78.46, 78.62, 78.72, 80.03, 81.28, 81.45]}],                        {\"coloraxis\": {\"colorbar\": {\"title\": {\"text\": \"Global Score 2021\"}}, \"colorscale\": [[0.0, \"#440154\"], [0.1111111111111111, \"#482878\"], [0.2222222222222222, \"#3e4989\"], [0.3333333333333333, \"#31688e\"], [0.4444444444444444, \"#26828e\"], [0.5555555555555556, \"#1f9e89\"], [0.6666666666666666, \"#35b779\"], [0.7777777777777778, \"#6ece58\"], [0.8888888888888888, \"#b5de2b\"], [1.0, \"#fde725\"]]}, \"font\": {\"size\": 14}, \"geo\": {\"center\": {}, \"domain\": {\"x\": [0.0, 1.0], \"y\": [0.0, 1.0]}, \"scope\": \"north america\"}, \"height\": 350, \"legend\": {\"tracegroupgap\": 0}, \"margin\": {\"b\": 0, \"l\": 0, \"r\": 0, \"t\": 30}, \"showlegend\": false, \"template\": {\"data\": {\"bar\": [{\"error_x\": {\"color\": \"#2a3f5f\"}, \"error_y\": {\"color\": \"#2a3f5f\"}, \"marker\": {\"line\": {\"color\": \"#E5ECF6\", \"width\": 0.5}}, \"type\": \"bar\"}], \"barpolar\": [{\"marker\": {\"line\": {\"color\": \"#E5ECF6\", \"width\": 0.5}}, \"type\": \"barpolar\"}], \"carpet\": [{\"aaxis\": {\"endlinecolor\": \"#2a3f5f\", \"gridcolor\": \"white\", \"linecolor\": \"white\", \"minorgridcolor\": \"white\", \"startlinecolor\": \"#2a3f5f\"}, \"baxis\": {\"endlinecolor\": \"#2a3f5f\", \"gridcolor\": \"white\", \"linecolor\": \"white\", \"minorgridcolor\": \"white\", \"startlinecolor\": \"#2a3f5f\"}, \"type\": \"carpet\"}], \"choropleth\": [{\"colorbar\": {\"outlinewidth\": 0, \"ticks\": \"\"}, \"type\": \"choropleth\"}], \"contour\": [{\"colorbar\": {\"outlinewidth\": 0, \"ticks\": \"\"}, \"colorscale\": [[0.0, \"#0d0887\"], [0.1111111111111111, \"#46039f\"], [0.2222222222222222, \"#7201a8\"], [0.3333333333333333, \"#9c179e\"], [0.4444444444444444, \"#bd3786\"], [0.5555555555555556, \"#d8576b\"], [0.6666666666666666, \"#ed7953\"], [0.7777777777777778, \"#fb9f3a\"], [0.8888888888888888, \"#fdca26\"], [1.0, \"#f0f921\"]], \"type\": \"contour\"}], \"contourcarpet\": [{\"colorbar\": {\"outlinewidth\": 0, \"ticks\": \"\"}, \"type\": \"contourcarpet\"}], \"heatmap\": [{\"colorbar\": {\"outlinewidth\": 0, \"ticks\": \"\"}, \"colorscale\": [[0.0, \"#0d0887\"], [0.1111111111111111, \"#46039f\"], [0.2222222222222222, \"#7201a8\"], [0.3333333333333333, \"#9c179e\"], [0.4444444444444444, \"#bd3786\"], [0.5555555555555556, \"#d8576b\"], [0.6666666666666666, \"#ed7953\"], [0.7777777777777778, \"#fb9f3a\"], [0.8888888888888888, \"#fdca26\"], [1.0, \"#f0f921\"]], \"type\": \"heatmap\"}], \"heatmapgl\": [{\"colorbar\": {\"outlinewidth\": 0, \"ticks\": \"\"}, \"colorscale\": [[0.0, \"#0d0887\"], [0.1111111111111111, \"#46039f\"], [0.2222222222222222, \"#7201a8\"], [0.3333333333333333, \"#9c179e\"], [0.4444444444444444, \"#bd3786\"], [0.5555555555555556, \"#d8576b\"], [0.6666666666666666, \"#ed7953\"], [0.7777777777777778, \"#fb9f3a\"], [0.8888888888888888, \"#fdca26\"], [1.0, \"#f0f921\"]], \"type\": \"heatmapgl\"}], \"histogram\": [{\"marker\": {\"colorbar\": {\"outlinewidth\": 0, \"ticks\": \"\"}}, \"type\": \"histogram\"}], \"histogram2d\": [{\"colorbar\": {\"outlinewidth\": 0, \"ticks\": \"\"}, \"colorscale\": [[0.0, \"#0d0887\"], [0.1111111111111111, \"#46039f\"], [0.2222222222222222, \"#7201a8\"], [0.3333333333333333, \"#9c179e\"], [0.4444444444444444, \"#bd3786\"], [0.5555555555555556, \"#d8576b\"], [0.6666666666666666, \"#ed7953\"], [0.7777777777777778, \"#fb9f3a\"], [0.8888888888888888, \"#fdca26\"], [1.0, \"#f0f921\"]], \"type\": \"histogram2d\"}], \"histogram2dcontour\": [{\"colorbar\": {\"outlinewidth\": 0, \"ticks\": \"\"}, \"colorscale\": [[0.0, \"#0d0887\"], [0.1111111111111111, \"#46039f\"], [0.2222222222222222, \"#7201a8\"], [0.3333333333333333, \"#9c179e\"], [0.4444444444444444, \"#bd3786\"], [0.5555555555555556, \"#d8576b\"], [0.6666666666666666, \"#ed7953\"], [0.7777777777777778, \"#fb9f3a\"], [0.8888888888888888, \"#fdca26\"], [1.0, \"#f0f921\"]], \"type\": \"histogram2dcontour\"}], \"mesh3d\": [{\"colorbar\": {\"outlinewidth\": 0, \"ticks\": \"\"}, \"type\": \"mesh3d\"}], \"parcoords\": [{\"line\": {\"colorbar\": {\"outlinewidth\": 0, \"ticks\": \"\"}}, \"type\": \"parcoords\"}], \"pie\": [{\"automargin\": true, \"type\": \"pie\"}], \"scatter\": [{\"marker\": {\"colorbar\": {\"outlinewidth\": 0, \"ticks\": \"\"}}, \"type\": \"scatter\"}], \"scatter3d\": [{\"line\": {\"colorbar\": {\"outlinewidth\": 0, \"ticks\": \"\"}}, \"marker\": {\"colorbar\": {\"outlinewidth\": 0, \"ticks\": \"\"}}, \"type\": \"scatter3d\"}], \"scattercarpet\": [{\"marker\": {\"colorbar\": {\"outlinewidth\": 0, \"ticks\": \"\"}}, \"type\": \"scattercarpet\"}], \"scattergeo\": [{\"marker\": {\"colorbar\": {\"outlinewidth\": 0, \"ticks\": \"\"}}, \"type\": \"scattergeo\"}], \"scattergl\": [{\"marker\": {\"colorbar\": {\"outlinewidth\": 0, \"ticks\": \"\"}}, \"type\": \"scattergl\"}], \"scattermapbox\": [{\"marker\": {\"colorbar\": {\"outlinewidth\": 0, \"ticks\": \"\"}}, \"type\": \"scattermapbox\"}], \"scatterpolar\": [{\"marker\": {\"colorbar\": {\"outlinewidth\": 0, \"ticks\": \"\"}}, \"type\": \"scatterpolar\"}], \"scatterpolargl\": [{\"marker\": {\"colorbar\": {\"outlinewidth\": 0, \"ticks\": \"\"}}, \"type\": \"scatterpolargl\"}], \"scatterternary\": [{\"marker\": {\"colorbar\": {\"outlinewidth\": 0, \"ticks\": \"\"}}, \"type\": \"scatterternary\"}], \"surface\": [{\"colorbar\": {\"outlinewidth\": 0, \"ticks\": \"\"}, \"colorscale\": [[0.0, \"#0d0887\"], [0.1111111111111111, \"#46039f\"], [0.2222222222222222, \"#7201a8\"], [0.3333333333333333, \"#9c179e\"], [0.4444444444444444, \"#bd3786\"], [0.5555555555555556, \"#d8576b\"], [0.6666666666666666, \"#ed7953\"], [0.7777777777777778, \"#fb9f3a\"], [0.8888888888888888, \"#fdca26\"], [1.0, \"#f0f921\"]], \"type\": \"surface\"}], \"table\": [{\"cells\": {\"fill\": {\"color\": \"#EBF0F8\"}, \"line\": {\"color\": \"white\"}}, \"header\": {\"fill\": {\"color\": \"#C8D4E3\"}, \"line\": {\"color\": \"white\"}}, \"type\": \"table\"}]}, \"layout\": {\"annotationdefaults\": {\"arrowcolor\": \"#2a3f5f\", \"arrowhead\": 0, \"arrowwidth\": 1}, \"autotypenumbers\": \"strict\", \"coloraxis\": {\"colorbar\": {\"outlinewidth\": 0, \"ticks\": \"\"}}, \"colorscale\": {\"diverging\": [[0, \"#8e0152\"], [0.1, \"#c51b7d\"], [0.2, \"#de77ae\"], [0.3, \"#f1b6da\"], [0.4, \"#fde0ef\"], [0.5, \"#f7f7f7\"], [0.6, \"#e6f5d0\"], [0.7, \"#b8e186\"], [0.8, \"#7fbc41\"], [0.9, \"#4d9221\"], [1, \"#276419\"]], \"sequential\": [[0.0, \"#0d0887\"], [0.1111111111111111, \"#46039f\"], [0.2222222222222222, \"#7201a8\"], [0.3333333333333333, \"#9c179e\"], [0.4444444444444444, \"#bd3786\"], [0.5555555555555556, \"#d8576b\"], [0.6666666666666666, \"#ed7953\"], [0.7777777777777778, \"#fb9f3a\"], [0.8888888888888888, \"#fdca26\"], [1.0, \"#f0f921\"]], \"sequentialminus\": [[0.0, \"#0d0887\"], [0.1111111111111111, \"#46039f\"], [0.2222222222222222, \"#7201a8\"], [0.3333333333333333, \"#9c179e\"], [0.4444444444444444, \"#bd3786\"], [0.5555555555555556, \"#d8576b\"], [0.6666666666666666, \"#ed7953\"], [0.7777777777777778, \"#fb9f3a\"], [0.8888888888888888, \"#fdca26\"], [1.0, \"#f0f921\"]]}, \"colorway\": [\"#636efa\", \"#EF553B\", \"#00cc96\", \"#ab63fa\", \"#FFA15A\", \"#19d3f3\", \"#FF6692\", \"#B6E880\", \"#FF97FF\", \"#FECB52\"], \"font\": {\"color\": \"#2a3f5f\"}, \"geo\": {\"bgcolor\": \"white\", \"lakecolor\": \"white\", \"landcolor\": \"#E5ECF6\", \"showlakes\": true, \"showland\": true, \"subunitcolor\": \"white\"}, \"hoverlabel\": {\"align\": \"left\"}, \"hovermode\": \"closest\", \"mapbox\": {\"style\": \"light\"}, \"paper_bgcolor\": \"white\", \"plot_bgcolor\": \"#E5ECF6\", \"polar\": {\"angularaxis\": {\"gridcolor\": \"white\", \"linecolor\": \"white\", \"ticks\": \"\"}, \"bgcolor\": \"#E5ECF6\", \"radialaxis\": {\"gridcolor\": \"white\", \"linecolor\": \"white\", \"ticks\": \"\"}}, \"scene\": {\"xaxis\": {\"backgroundcolor\": \"#E5ECF6\", \"gridcolor\": \"white\", \"gridwidth\": 2, \"linecolor\": \"white\", \"showbackground\": true, \"ticks\": \"\", \"zerolinecolor\": \"white\"}, \"yaxis\": {\"backgroundcolor\": \"#E5ECF6\", \"gridcolor\": \"white\", \"gridwidth\": 2, \"linecolor\": \"white\", \"showbackground\": true, \"ticks\": \"\", \"zerolinecolor\": \"white\"}, \"zaxis\": {\"backgroundcolor\": \"#E5ECF6\", \"gridcolor\": \"white\", \"gridwidth\": 2, \"linecolor\": \"white\", \"showbackground\": true, \"ticks\": \"\", \"zerolinecolor\": \"white\"}}, \"shapedefaults\": {\"line\": {\"color\": \"#2a3f5f\"}}, \"ternary\": {\"aaxis\": {\"gridcolor\": \"white\", \"linecolor\": \"white\", \"ticks\": \"\"}, \"baxis\": {\"gridcolor\": \"white\", \"linecolor\": \"white\", \"ticks\": \"\"}, \"bgcolor\": \"#E5ECF6\", \"caxis\": {\"gridcolor\": \"white\", \"linecolor\": \"white\", \"ticks\": \"\"}}, \"title\": {\"x\": 0.05}, \"xaxis\": {\"automargin\": true, \"gridcolor\": \"white\", \"linecolor\": \"white\", \"ticks\": \"\", \"title\": {\"standoff\": 15}, \"zerolinecolor\": \"white\", \"zerolinewidth\": 2}, \"yaxis\": {\"automargin\": true, \"gridcolor\": \"white\", \"linecolor\": \"white\", \"ticks\": \"\", \"title\": {\"standoff\": 15}, \"zerolinecolor\": \"white\", \"zerolinewidth\": 2}}}, \"title\": {\"text\": \"<b>North American Countries Press Index-2021</b>\", \"x\": 0.5}, \"width\": 750},                        {\"responsive\": true}                    ).then(function(){\n",
       "                            \n",
       "var gd = document.getElementById('623da484-c38c-4f07-a59b-67c4235a308e');\n",
       "var x = new MutationObserver(function (mutations, observer) {{\n",
       "        var display = window.getComputedStyle(gd).display;\n",
       "        if (!display || display === 'none') {{\n",
       "            console.log([gd, 'removed!']);\n",
       "            Plotly.purge(gd);\n",
       "            observer.disconnect();\n",
       "        }}\n",
       "}});\n",
       "\n",
       "// Listen for the removal of the full notebook cells\n",
       "var notebookContainer = gd.closest('#notebook-container');\n",
       "if (notebookContainer) {{\n",
       "    x.observe(notebookContainer, {childList: true});\n",
       "}}\n",
       "\n",
       "// Listen for the clearing of the current output cell\n",
       "var outputEl = gd.closest('.output');\n",
       "if (outputEl) {{\n",
       "    x.observe(outputEl, {childList: true});\n",
       "}}\n",
       "\n",
       "                        })                };                });            </script>        </div>"
      ]
     },
     "metadata": {},
     "output_type": "display_data"
    }
   ],
   "source": [
    "plot_Global_press_index(2021,\"north america\",\"North American Countries Press Index-\")"
   ]
  },
  {
   "cell_type": "code",
   "execution_count": 13,
   "id": "romance-playing",
   "metadata": {
    "execution": {
     "iopub.execute_input": "2021-06-22T09:02:21.472399Z",
     "iopub.status.busy": "2021-06-22T09:02:21.471616Z",
     "iopub.status.idle": "2021-06-22T09:02:21.537103Z",
     "shell.execute_reply": "2021-06-22T09:02:21.536580Z",
     "shell.execute_reply.started": "2021-06-22T08:11:20.580306Z"
    },
    "papermill": {
     "duration": 0.103941,
     "end_time": "2021-06-22T09:02:21.537245",
     "exception": false,
     "start_time": "2021-06-22T09:02:21.433304",
     "status": "completed"
    },
    "tags": []
   },
   "outputs": [
    {
     "data": {
      "text/html": [
       "<div>                            <div id=\"b15a5e9b-ff5a-4e66-90b5-af13d69eb96f\" class=\"plotly-graph-div\" style=\"height:350px; width:750px;\"></div>            <script type=\"text/javascript\">                require([\"plotly\"], function(Plotly) {                    window.PLOTLYENV=window.PLOTLYENV || {};                                    if (document.getElementById(\"b15a5e9b-ff5a-4e66-90b5-af13d69eb96f\")) {                    Plotly.newPlot(                        \"b15a5e9b-ff5a-4e66-90b5-af13d69eb96f\",                        [{\"coloraxis\": \"coloraxis\", \"geo\": \"geo\", \"hovertemplate\": \"<b>%{hovertext}</b><br><br>iso_alpha=%{location}<br>Global Score 2021=%{z}<extra></extra>\", \"hovertext\": [\"Norway\", \"Finland\", \"Sweden\", \"Denmark\", \"Costa Rica\", \"Netherlands\", \"Jamaica\", \"New Zealand\", \"Portugal\", \"Switzerland\", \"Belgium\", \"Ireland\", \"Germany\", \"Canada\", \"Estonia\", \"Iceland\", \"Austria\", \"Uruguay\", \"Suriname\", \"Luxembourg\", \"Samoa\", \"Latvia\", \"Liechtenstein\", \"Namibia\", \"Australia\", \"Cyprus\", \"Cabo Verde\", \"Lithuania\", \"Spain\", \"Ghana\", \"Trinidad and Tobago\", \"South Africa\", \"United Kingdom\", \"France\", \"Slovakia\", \"Slovenia\", \"Burkina Faso\", \"Botswana\", \"Andorra\", \"Czech Republic\", \"Italy\", \"South Korea\", \"Taiwan\", \"United States\", \"OECS\", \"Tonga\", \"Papua New Guinea\", \"Romania\", \"Senegal\", \"Dominican Republic\", \"Guyana\", \"Seychelles\", \"Belize\", \"Chile\", \"Fiji\", \"Croatia\", \"Madagascar\", \"Bosnia-Herzegovina\", \"Niger\", \"Georgia\", \"Mauritius\", \"Malawi\", \"Armenia\", \"Poland\", \"Bhutan\", \"C\\u00f4te d\\u2019Ivoire\", \"Japan\", \"Mongolia\", \"Argentina\", \"Greece\", \"Timor-Leste\", \"Maldives\", \"Tunisia\", \"Togo\", \"Sierra Leone\", \"Northern Cyprus\", \"Panama\", \"Kosovo\", \"Kyrgyzstan\", \"Hong Kong\", \"Malta\", \"El Salvador\", \"Albania\", \"Comoros\", \"Gambia\", \"Israel\", \"Ha\\u00efti\", \"Lesotho\", \"Moldova\", \"North Macedonia\", \"Peru\", \"Hungary\", \"Serbia\", \"Mauritania\", \"Guinea Bissau\", \"Ecuador\", \"Ukraine\", \"Liberia\", \"Mali\", \"Paraguay\", \"Ethiopia\", \"Kenya\", \"Angola\", \"Montenegro\", \"Kuwait\", \"Nepal\", \"Lebanon\", \"Mozambique\", \"Guinea\", \"Bolivia\", \"Brazil\", \"Bulgaria\", \"Indonesia\", \"Benin\", \"Zambia\", \"Guatemala\", \"Gabon\", \"Congo-Brazzaville\", \"Malaysia\", \"Nigeria\", \"Nicaragua\", \"Afghanistan\", \"Chad\", \"Tanzania\", \"Uganda\", \"Central African Republic\", \"Sri Lanka\", \"Qatar\", \"Jordan\", \"Zimbabwe\", \"United Arab Emirates\", \"Palestine\", \"Oman\", \"Colombia\", \"Cameroon\", \"Morocco / Western Sahara\", \"Thailand\", \"Philippines\", \"South Sudan\", \"Myanmar\", \"Eswatini\", \"India\", \"Mexico\", \"Cambodia\", \"Pakistan\", \"Algeria\", \"Burundi\", \"Venezuela\", \"Democratic Republic of Congo\", \"Russia\", \"Honduras\", \"Bangladesh\", \"Turkey\", \"Brunei\", \"Kazakhstan\", \"Rwanda\", \"Uzbekistan\", \"Belarus\", \"Sudan\", \"Singapore\", \"Somalia\", \"Tajikistan\", \"Iraq\", \"Equatorial Guinea\", \"Libya\", \"Egypt\", \"Azerbaijan\", \"Bahrain\", \"Yemen\", \"Saudi Arabia\", \"Cuba\", \"Laos\", \"Syria\", \"Iran\", \"Vietnam\", \"Djibouti\", \"China\", \"Turkmenistan\", \"North Korea\", \"Eritrea\"], \"locations\": [\"NOR\", \"FIN\", \"SWE\", \"DNK\", \"CRI\", \"NLD\", \"JAM\", \"NZL\", \"PRT\", \"CHE\", \"BEL\", \"IRL\", \"DEU\", \"CAN\", \"EST\", \"ISL\", \"AUT\", \"URY\", \"SUR\", \"LUX\", \"WSM\", \"LVA\", \"LIE\", \"NAM\", \"AUS\", \"CYP\", \"CPV\", \"LTU\", \"ESP\", \"GHA\", \"TTO\", \"ZAF\", \"GBR\", \"FRA\", \"SVK\", \"SVN\", \"BFA\", \"BWA\", \"AND\", null, \"ITA\", null, null, \"USA\", null, \"TON\", \"PNG\", \"ROU\", \"SEN\", \"DOM\", \"GUY\", \"SYC\", \"BLZ\", \"CHL\", \"FJI\", \"HRV\", \"MDG\", null, \"NER\", \"GEO\", \"MUS\", \"MWI\", \"ARM\", \"POL\", \"BTN\", null, \"JPN\", \"MNG\", \"ARG\", \"GRC\", \"TLS\", \"MDV\", \"TUN\", \"TGO\", \"SLE\", null, \"PAN\", null, \"KGZ\", \"HKG\", \"MLT\", \"SLV\", \"ALB\", \"COM\", \"GMB\", \"ISR\", null, \"LSO\", null, \"MKD\", \"PER\", \"HUN\", \"SRB\", \"MRT\", null, \"ECU\", \"UKR\", \"LBR\", \"MLI\", \"PRY\", \"ETH\", \"KEN\", \"AGO\", \"MNE\", \"KWT\", \"NPL\", \"LBN\", \"MOZ\", \"GIN\", null, \"BRA\", \"BGR\", \"IDN\", \"BEN\", \"ZMB\", \"GTM\", \"GAB\", null, \"MYS\", \"NGA\", \"NIC\", \"AFG\", \"TCD\", null, \"UGA\", \"CAF\", \"LKA\", \"QAT\", \"JOR\", \"ZWE\", \"ARE\", null, \"OMN\", \"COL\", \"CMR\", null, \"THA\", \"PHL\", \"SSD\", \"MMR\", \"SWZ\", \"IND\", \"MEX\", \"KHM\", \"PAK\", \"DZA\", \"BDI\", null, null, null, \"HND\", \"BGD\", \"TUR\", null, \"KAZ\", \"RWA\", \"UZB\", \"BLR\", \"SDN\", \"SGP\", \"SOM\", \"TJK\", \"IRQ\", \"GNQ\", \"LBY\", \"EGY\", \"AZE\", \"BHR\", \"YEM\", \"SAU\", \"CUB\", null, null, null, null, \"DJI\", \"CHN\", \"TKM\", null, \"ERI\"], \"name\": \"\", \"type\": \"choropleth\", \"z\": [6.72, 6.99, 7.24, 8.57, 8.76, 9.67, 9.96, 10.04, 10.11, 10.55, 11.69, 11.91, 15.24, 15.25, 15.25, 15.37, 16.34, 16.38, 16.95, 17.56, 19.24, 19.26, 19.49, 19.72, 19.79, 19.85, 20.09, 20.15, 20.44, 21.33, 21.55, 21.59, 21.59, 22.6, 23.02, 23.1, 23.17, 23.25, 23.32, 23.38, 23.39, 23.43, 23.86, 23.93, 23.98, 24.59, 24.88, 24.91, 25.22, 25.6, 25.61, 25.66, 27.61, 27.89, 27.92, 27.95, 28.24, 28.34, 28.44, 28.64, 28.74, 28.8, 28.83, 28.84, 28.86, 28.87, 28.88, 28.97, 28.99, 29.01, 29.11, 29.13, 29.53, 29.59, 29.61, 29.82, 29.94, 30.32, 30.37, 30.44, 30.46, 30.49, 30.59, 30.65, 30.76, 30.9, 31.12, 31.61, 31.61, 31.67, 31.71, 31.76, 32.03, 32.25, 32.68, 32.83, 32.96, 33.36, 33.5, 33.52, 33.63, 33.65, 34.06, 34.33, 34.36, 34.62, 34.93, 35.39, 35.42, 35.47, 36.25, 37.29, 37.4, 38.18, 38.21, 38.45, 38.6, 38.83, 39.47, 39.69, 39.98, 40.19, 40.2, 40.69, 41.19, 41.92, 42.2, 42.6, 42.89, 43.12, 43.13, 43.18, 43.37, 43.74, 43.78, 43.94, 45.22, 45.64, 45.78, 46.14, 46.34, 46.56, 46.71, 46.84, 46.86, 47.26, 47.57, 47.6, 48.59, 48.71, 49.35, 49.71, 49.79, 49.91, 50.28, 50.66, 50.74, 50.82, 52.93, 55.2, 55.47, 55.52, 55.57, 55.67, 55.73, 56.17, 58.77, 61.1, 62.35, 62.73, 63.94, 70.56, 70.63, 72.7, 78.46, 78.62, 78.72, 80.03, 81.28, 81.45]}],                        {\"coloraxis\": {\"colorbar\": {\"title\": {\"text\": \"Global Score 2021\"}}, \"colorscale\": [[0.0, \"#440154\"], [0.1111111111111111, \"#482878\"], [0.2222222222222222, \"#3e4989\"], [0.3333333333333333, \"#31688e\"], [0.4444444444444444, \"#26828e\"], [0.5555555555555556, \"#1f9e89\"], [0.6666666666666666, \"#35b779\"], [0.7777777777777778, \"#6ece58\"], [0.8888888888888888, \"#b5de2b\"], [1.0, \"#fde725\"]]}, \"font\": {\"size\": 14}, \"geo\": {\"center\": {}, \"domain\": {\"x\": [0.0, 1.0], \"y\": [0.0, 1.0]}, \"scope\": \"south america\"}, \"height\": 350, \"legend\": {\"tracegroupgap\": 0}, \"margin\": {\"b\": 0, \"l\": 0, \"r\": 0, \"t\": 30}, \"showlegend\": false, \"template\": {\"data\": {\"bar\": [{\"error_x\": {\"color\": \"#2a3f5f\"}, \"error_y\": {\"color\": \"#2a3f5f\"}, \"marker\": {\"line\": {\"color\": \"#E5ECF6\", \"width\": 0.5}}, \"type\": \"bar\"}], \"barpolar\": [{\"marker\": {\"line\": {\"color\": \"#E5ECF6\", \"width\": 0.5}}, \"type\": \"barpolar\"}], \"carpet\": [{\"aaxis\": {\"endlinecolor\": \"#2a3f5f\", \"gridcolor\": \"white\", \"linecolor\": \"white\", \"minorgridcolor\": \"white\", \"startlinecolor\": \"#2a3f5f\"}, \"baxis\": {\"endlinecolor\": \"#2a3f5f\", \"gridcolor\": \"white\", \"linecolor\": \"white\", \"minorgridcolor\": \"white\", \"startlinecolor\": \"#2a3f5f\"}, \"type\": \"carpet\"}], \"choropleth\": [{\"colorbar\": {\"outlinewidth\": 0, \"ticks\": \"\"}, \"type\": \"choropleth\"}], \"contour\": [{\"colorbar\": {\"outlinewidth\": 0, \"ticks\": \"\"}, \"colorscale\": [[0.0, \"#0d0887\"], [0.1111111111111111, \"#46039f\"], [0.2222222222222222, \"#7201a8\"], [0.3333333333333333, \"#9c179e\"], [0.4444444444444444, \"#bd3786\"], [0.5555555555555556, \"#d8576b\"], [0.6666666666666666, \"#ed7953\"], [0.7777777777777778, \"#fb9f3a\"], [0.8888888888888888, \"#fdca26\"], [1.0, \"#f0f921\"]], \"type\": \"contour\"}], \"contourcarpet\": [{\"colorbar\": {\"outlinewidth\": 0, \"ticks\": \"\"}, \"type\": \"contourcarpet\"}], \"heatmap\": [{\"colorbar\": {\"outlinewidth\": 0, \"ticks\": \"\"}, \"colorscale\": [[0.0, \"#0d0887\"], [0.1111111111111111, \"#46039f\"], [0.2222222222222222, \"#7201a8\"], [0.3333333333333333, \"#9c179e\"], [0.4444444444444444, \"#bd3786\"], [0.5555555555555556, \"#d8576b\"], [0.6666666666666666, \"#ed7953\"], [0.7777777777777778, \"#fb9f3a\"], [0.8888888888888888, \"#fdca26\"], [1.0, \"#f0f921\"]], \"type\": \"heatmap\"}], \"heatmapgl\": [{\"colorbar\": {\"outlinewidth\": 0, \"ticks\": \"\"}, \"colorscale\": [[0.0, \"#0d0887\"], [0.1111111111111111, \"#46039f\"], [0.2222222222222222, \"#7201a8\"], [0.3333333333333333, \"#9c179e\"], [0.4444444444444444, \"#bd3786\"], [0.5555555555555556, \"#d8576b\"], [0.6666666666666666, \"#ed7953\"], [0.7777777777777778, \"#fb9f3a\"], [0.8888888888888888, \"#fdca26\"], [1.0, \"#f0f921\"]], \"type\": \"heatmapgl\"}], \"histogram\": [{\"marker\": {\"colorbar\": {\"outlinewidth\": 0, \"ticks\": \"\"}}, \"type\": \"histogram\"}], \"histogram2d\": [{\"colorbar\": {\"outlinewidth\": 0, \"ticks\": \"\"}, \"colorscale\": [[0.0, \"#0d0887\"], [0.1111111111111111, \"#46039f\"], [0.2222222222222222, \"#7201a8\"], [0.3333333333333333, \"#9c179e\"], [0.4444444444444444, \"#bd3786\"], [0.5555555555555556, \"#d8576b\"], [0.6666666666666666, \"#ed7953\"], [0.7777777777777778, \"#fb9f3a\"], [0.8888888888888888, \"#fdca26\"], [1.0, \"#f0f921\"]], \"type\": \"histogram2d\"}], \"histogram2dcontour\": [{\"colorbar\": {\"outlinewidth\": 0, \"ticks\": \"\"}, \"colorscale\": [[0.0, \"#0d0887\"], [0.1111111111111111, \"#46039f\"], [0.2222222222222222, \"#7201a8\"], [0.3333333333333333, \"#9c179e\"], [0.4444444444444444, \"#bd3786\"], [0.5555555555555556, \"#d8576b\"], [0.6666666666666666, \"#ed7953\"], [0.7777777777777778, \"#fb9f3a\"], [0.8888888888888888, \"#fdca26\"], [1.0, \"#f0f921\"]], \"type\": \"histogram2dcontour\"}], \"mesh3d\": [{\"colorbar\": {\"outlinewidth\": 0, \"ticks\": \"\"}, \"type\": \"mesh3d\"}], \"parcoords\": [{\"line\": {\"colorbar\": {\"outlinewidth\": 0, \"ticks\": \"\"}}, \"type\": \"parcoords\"}], \"pie\": [{\"automargin\": true, \"type\": \"pie\"}], \"scatter\": [{\"marker\": {\"colorbar\": {\"outlinewidth\": 0, \"ticks\": \"\"}}, \"type\": \"scatter\"}], \"scatter3d\": [{\"line\": {\"colorbar\": {\"outlinewidth\": 0, \"ticks\": \"\"}}, \"marker\": {\"colorbar\": {\"outlinewidth\": 0, \"ticks\": \"\"}}, \"type\": \"scatter3d\"}], \"scattercarpet\": [{\"marker\": {\"colorbar\": {\"outlinewidth\": 0, \"ticks\": \"\"}}, \"type\": \"scattercarpet\"}], \"scattergeo\": [{\"marker\": {\"colorbar\": {\"outlinewidth\": 0, \"ticks\": \"\"}}, \"type\": \"scattergeo\"}], \"scattergl\": [{\"marker\": {\"colorbar\": {\"outlinewidth\": 0, \"ticks\": \"\"}}, \"type\": \"scattergl\"}], \"scattermapbox\": [{\"marker\": {\"colorbar\": {\"outlinewidth\": 0, \"ticks\": \"\"}}, \"type\": \"scattermapbox\"}], \"scatterpolar\": [{\"marker\": {\"colorbar\": {\"outlinewidth\": 0, \"ticks\": \"\"}}, \"type\": \"scatterpolar\"}], \"scatterpolargl\": [{\"marker\": {\"colorbar\": {\"outlinewidth\": 0, \"ticks\": \"\"}}, \"type\": \"scatterpolargl\"}], \"scatterternary\": [{\"marker\": {\"colorbar\": {\"outlinewidth\": 0, \"ticks\": \"\"}}, \"type\": \"scatterternary\"}], \"surface\": [{\"colorbar\": {\"outlinewidth\": 0, \"ticks\": \"\"}, \"colorscale\": [[0.0, \"#0d0887\"], [0.1111111111111111, \"#46039f\"], [0.2222222222222222, \"#7201a8\"], [0.3333333333333333, \"#9c179e\"], [0.4444444444444444, \"#bd3786\"], [0.5555555555555556, \"#d8576b\"], [0.6666666666666666, \"#ed7953\"], [0.7777777777777778, \"#fb9f3a\"], [0.8888888888888888, \"#fdca26\"], [1.0, \"#f0f921\"]], \"type\": \"surface\"}], \"table\": [{\"cells\": {\"fill\": {\"color\": \"#EBF0F8\"}, \"line\": {\"color\": \"white\"}}, \"header\": {\"fill\": {\"color\": \"#C8D4E3\"}, \"line\": {\"color\": \"white\"}}, \"type\": \"table\"}]}, \"layout\": {\"annotationdefaults\": {\"arrowcolor\": \"#2a3f5f\", \"arrowhead\": 0, \"arrowwidth\": 1}, \"autotypenumbers\": \"strict\", \"coloraxis\": {\"colorbar\": {\"outlinewidth\": 0, \"ticks\": \"\"}}, \"colorscale\": {\"diverging\": [[0, \"#8e0152\"], [0.1, \"#c51b7d\"], [0.2, \"#de77ae\"], [0.3, \"#f1b6da\"], [0.4, \"#fde0ef\"], [0.5, \"#f7f7f7\"], [0.6, \"#e6f5d0\"], [0.7, \"#b8e186\"], [0.8, \"#7fbc41\"], [0.9, \"#4d9221\"], [1, \"#276419\"]], \"sequential\": [[0.0, \"#0d0887\"], [0.1111111111111111, \"#46039f\"], [0.2222222222222222, \"#7201a8\"], [0.3333333333333333, \"#9c179e\"], [0.4444444444444444, \"#bd3786\"], [0.5555555555555556, \"#d8576b\"], [0.6666666666666666, \"#ed7953\"], [0.7777777777777778, \"#fb9f3a\"], [0.8888888888888888, \"#fdca26\"], [1.0, \"#f0f921\"]], \"sequentialminus\": [[0.0, \"#0d0887\"], [0.1111111111111111, \"#46039f\"], [0.2222222222222222, \"#7201a8\"], [0.3333333333333333, \"#9c179e\"], [0.4444444444444444, \"#bd3786\"], [0.5555555555555556, \"#d8576b\"], [0.6666666666666666, \"#ed7953\"], [0.7777777777777778, \"#fb9f3a\"], [0.8888888888888888, \"#fdca26\"], [1.0, \"#f0f921\"]]}, \"colorway\": [\"#636efa\", \"#EF553B\", \"#00cc96\", \"#ab63fa\", \"#FFA15A\", \"#19d3f3\", \"#FF6692\", \"#B6E880\", \"#FF97FF\", \"#FECB52\"], \"font\": {\"color\": \"#2a3f5f\"}, \"geo\": {\"bgcolor\": \"white\", \"lakecolor\": \"white\", \"landcolor\": \"#E5ECF6\", \"showlakes\": true, \"showland\": true, \"subunitcolor\": \"white\"}, \"hoverlabel\": {\"align\": \"left\"}, \"hovermode\": \"closest\", \"mapbox\": {\"style\": \"light\"}, \"paper_bgcolor\": \"white\", \"plot_bgcolor\": \"#E5ECF6\", \"polar\": {\"angularaxis\": {\"gridcolor\": \"white\", \"linecolor\": \"white\", \"ticks\": \"\"}, \"bgcolor\": \"#E5ECF6\", \"radialaxis\": {\"gridcolor\": \"white\", \"linecolor\": \"white\", \"ticks\": \"\"}}, \"scene\": {\"xaxis\": {\"backgroundcolor\": \"#E5ECF6\", \"gridcolor\": \"white\", \"gridwidth\": 2, \"linecolor\": \"white\", \"showbackground\": true, \"ticks\": \"\", \"zerolinecolor\": \"white\"}, \"yaxis\": {\"backgroundcolor\": \"#E5ECF6\", \"gridcolor\": \"white\", \"gridwidth\": 2, \"linecolor\": \"white\", \"showbackground\": true, \"ticks\": \"\", \"zerolinecolor\": \"white\"}, \"zaxis\": {\"backgroundcolor\": \"#E5ECF6\", \"gridcolor\": \"white\", \"gridwidth\": 2, \"linecolor\": \"white\", \"showbackground\": true, \"ticks\": \"\", \"zerolinecolor\": \"white\"}}, \"shapedefaults\": {\"line\": {\"color\": \"#2a3f5f\"}}, \"ternary\": {\"aaxis\": {\"gridcolor\": \"white\", \"linecolor\": \"white\", \"ticks\": \"\"}, \"baxis\": {\"gridcolor\": \"white\", \"linecolor\": \"white\", \"ticks\": \"\"}, \"bgcolor\": \"#E5ECF6\", \"caxis\": {\"gridcolor\": \"white\", \"linecolor\": \"white\", \"ticks\": \"\"}}, \"title\": {\"x\": 0.05}, \"xaxis\": {\"automargin\": true, \"gridcolor\": \"white\", \"linecolor\": \"white\", \"ticks\": \"\", \"title\": {\"standoff\": 15}, \"zerolinecolor\": \"white\", \"zerolinewidth\": 2}, \"yaxis\": {\"automargin\": true, \"gridcolor\": \"white\", \"linecolor\": \"white\", \"ticks\": \"\", \"title\": {\"standoff\": 15}, \"zerolinecolor\": \"white\", \"zerolinewidth\": 2}}}, \"title\": {\"text\": \"<b>South American Countries Press Index-2021</b>\", \"x\": 0.5}, \"width\": 750},                        {\"responsive\": true}                    ).then(function(){\n",
       "                            \n",
       "var gd = document.getElementById('b15a5e9b-ff5a-4e66-90b5-af13d69eb96f');\n",
       "var x = new MutationObserver(function (mutations, observer) {{\n",
       "        var display = window.getComputedStyle(gd).display;\n",
       "        if (!display || display === 'none') {{\n",
       "            console.log([gd, 'removed!']);\n",
       "            Plotly.purge(gd);\n",
       "            observer.disconnect();\n",
       "        }}\n",
       "}});\n",
       "\n",
       "// Listen for the removal of the full notebook cells\n",
       "var notebookContainer = gd.closest('#notebook-container');\n",
       "if (notebookContainer) {{\n",
       "    x.observe(notebookContainer, {childList: true});\n",
       "}}\n",
       "\n",
       "// Listen for the clearing of the current output cell\n",
       "var outputEl = gd.closest('.output');\n",
       "if (outputEl) {{\n",
       "    x.observe(outputEl, {childList: true});\n",
       "}}\n",
       "\n",
       "                        })                };                });            </script>        </div>"
      ]
     },
     "metadata": {},
     "output_type": "display_data"
    }
   ],
   "source": [
    "plot_Global_press_index(2021,\"south america\",\"South American Countries Press Index-\")"
   ]
  },
  {
   "cell_type": "markdown",
   "id": "limited-judges",
   "metadata": {
    "papermill": {
     "duration": 0.026487,
     "end_time": "2021-06-22T09:02:21.590738",
     "exception": false,
     "start_time": "2021-06-22T09:02:21.564251",
     "status": "completed"
    },
    "tags": []
   },
   "source": [
    "\n",
    "<a id=\"section-four\"></a>\n",
    "# 4. World map by Global Press Index"
   ]
  },
  {
   "cell_type": "code",
   "execution_count": 14,
   "id": "listed-lotus",
   "metadata": {
    "execution": {
     "iopub.execute_input": "2021-06-22T09:02:21.684643Z",
     "iopub.status.busy": "2021-06-22T09:02:21.657510Z",
     "iopub.status.idle": "2021-06-22T09:02:21.722111Z",
     "shell.execute_reply": "2021-06-22T09:02:21.721530Z",
     "shell.execute_reply.started": "2021-06-22T08:05:51.910135Z"
    },
    "papermill": {
     "duration": 0.104568,
     "end_time": "2021-06-22T09:02:21.722243",
     "exception": false,
     "start_time": "2021-06-22T09:02:21.617675",
     "status": "completed"
    },
    "tags": []
   },
   "outputs": [
    {
     "data": {
      "text/html": [
       "<div>                            <div id=\"d4af21ed-9c5f-47d4-8379-263f7c1aa288\" class=\"plotly-graph-div\" style=\"height:350px; width:750px;\"></div>            <script type=\"text/javascript\">                require([\"plotly\"], function(Plotly) {                    window.PLOTLYENV=window.PLOTLYENV || {};                                    if (document.getElementById(\"d4af21ed-9c5f-47d4-8379-263f7c1aa288\")) {                    Plotly.newPlot(                        \"d4af21ed-9c5f-47d4-8379-263f7c1aa288\",                        [{\"coloraxis\": \"coloraxis\", \"geo\": \"geo\", \"hovertemplate\": \"<b>%{hovertext}</b><br><br>iso_alpha=%{location}<br>Global Score 2021=%{z}<extra></extra>\", \"hovertext\": [\"Norway\", \"Finland\", \"Sweden\", \"Denmark\", \"Costa Rica\", \"Netherlands\", \"Jamaica\", \"New Zealand\", \"Portugal\", \"Switzerland\", \"Belgium\", \"Ireland\", \"Germany\", \"Canada\", \"Estonia\", \"Iceland\", \"Austria\", \"Uruguay\", \"Suriname\", \"Luxembourg\", \"Samoa\", \"Latvia\", \"Liechtenstein\", \"Namibia\", \"Australia\", \"Cyprus\", \"Cabo Verde\", \"Lithuania\", \"Spain\", \"Ghana\", \"Trinidad and Tobago\", \"South Africa\", \"United Kingdom\", \"France\", \"Slovakia\", \"Slovenia\", \"Burkina Faso\", \"Botswana\", \"Andorra\", \"Czech Republic\", \"Italy\", \"South Korea\", \"Taiwan\", \"United States\", \"OECS\", \"Tonga\", \"Papua New Guinea\", \"Romania\", \"Senegal\", \"Dominican Republic\", \"Guyana\", \"Seychelles\", \"Belize\", \"Chile\", \"Fiji\", \"Croatia\", \"Madagascar\", \"Bosnia-Herzegovina\", \"Niger\", \"Georgia\", \"Mauritius\", \"Malawi\", \"Armenia\", \"Poland\", \"Bhutan\", \"C\\u00f4te d\\u2019Ivoire\", \"Japan\", \"Mongolia\", \"Argentina\", \"Greece\", \"Timor-Leste\", \"Maldives\", \"Tunisia\", \"Togo\", \"Sierra Leone\", \"Northern Cyprus\", \"Panama\", \"Kosovo\", \"Kyrgyzstan\", \"Hong Kong\", \"Malta\", \"El Salvador\", \"Albania\", \"Comoros\", \"Gambia\", \"Israel\", \"Ha\\u00efti\", \"Lesotho\", \"Moldova\", \"North Macedonia\", \"Peru\", \"Hungary\", \"Serbia\", \"Mauritania\", \"Guinea Bissau\", \"Ecuador\", \"Ukraine\", \"Liberia\", \"Mali\", \"Paraguay\", \"Ethiopia\", \"Kenya\", \"Angola\", \"Montenegro\", \"Kuwait\", \"Nepal\", \"Lebanon\", \"Mozambique\", \"Guinea\", \"Bolivia\", \"Brazil\", \"Bulgaria\", \"Indonesia\", \"Benin\", \"Zambia\", \"Guatemala\", \"Gabon\", \"Congo-Brazzaville\", \"Malaysia\", \"Nigeria\", \"Nicaragua\", \"Afghanistan\", \"Chad\", \"Tanzania\", \"Uganda\", \"Central African Republic\", \"Sri Lanka\", \"Qatar\", \"Jordan\", \"Zimbabwe\", \"United Arab Emirates\", \"Palestine\", \"Oman\", \"Colombia\", \"Cameroon\", \"Morocco / Western Sahara\", \"Thailand\", \"Philippines\", \"South Sudan\", \"Myanmar\", \"Eswatini\", \"India\", \"Mexico\", \"Cambodia\", \"Pakistan\", \"Algeria\", \"Burundi\", \"Venezuela\", \"Democratic Republic of Congo\", \"Russia\", \"Honduras\", \"Bangladesh\", \"Turkey\", \"Brunei\", \"Kazakhstan\", \"Rwanda\", \"Uzbekistan\", \"Belarus\", \"Sudan\", \"Singapore\", \"Somalia\", \"Tajikistan\", \"Iraq\", \"Equatorial Guinea\", \"Libya\", \"Egypt\", \"Azerbaijan\", \"Bahrain\", \"Yemen\", \"Saudi Arabia\", \"Cuba\", \"Laos\", \"Syria\", \"Iran\", \"Vietnam\", \"Djibouti\", \"China\", \"Turkmenistan\", \"North Korea\", \"Eritrea\"], \"locations\": [\"NOR\", \"FIN\", \"SWE\", \"DNK\", \"CRI\", \"NLD\", \"JAM\", \"NZL\", \"PRT\", \"CHE\", \"BEL\", \"IRL\", \"DEU\", \"CAN\", \"EST\", \"ISL\", \"AUT\", \"URY\", \"SUR\", \"LUX\", \"WSM\", \"LVA\", \"LIE\", \"NAM\", \"AUS\", \"CYP\", \"CPV\", \"LTU\", \"ESP\", \"GHA\", \"TTO\", \"ZAF\", \"GBR\", \"FRA\", \"SVK\", \"SVN\", \"BFA\", \"BWA\", \"AND\", null, \"ITA\", null, null, \"USA\", null, \"TON\", \"PNG\", \"ROU\", \"SEN\", \"DOM\", \"GUY\", \"SYC\", \"BLZ\", \"CHL\", \"FJI\", \"HRV\", \"MDG\", null, \"NER\", \"GEO\", \"MUS\", \"MWI\", \"ARM\", \"POL\", \"BTN\", null, \"JPN\", \"MNG\", \"ARG\", \"GRC\", \"TLS\", \"MDV\", \"TUN\", \"TGO\", \"SLE\", null, \"PAN\", null, \"KGZ\", \"HKG\", \"MLT\", \"SLV\", \"ALB\", \"COM\", \"GMB\", \"ISR\", null, \"LSO\", null, \"MKD\", \"PER\", \"HUN\", \"SRB\", \"MRT\", null, \"ECU\", \"UKR\", \"LBR\", \"MLI\", \"PRY\", \"ETH\", \"KEN\", \"AGO\", \"MNE\", \"KWT\", \"NPL\", \"LBN\", \"MOZ\", \"GIN\", null, \"BRA\", \"BGR\", \"IDN\", \"BEN\", \"ZMB\", \"GTM\", \"GAB\", null, \"MYS\", \"NGA\", \"NIC\", \"AFG\", \"TCD\", null, \"UGA\", \"CAF\", \"LKA\", \"QAT\", \"JOR\", \"ZWE\", \"ARE\", null, \"OMN\", \"COL\", \"CMR\", null, \"THA\", \"PHL\", \"SSD\", \"MMR\", \"SWZ\", \"IND\", \"MEX\", \"KHM\", \"PAK\", \"DZA\", \"BDI\", null, null, null, \"HND\", \"BGD\", \"TUR\", null, \"KAZ\", \"RWA\", \"UZB\", \"BLR\", \"SDN\", \"SGP\", \"SOM\", \"TJK\", \"IRQ\", \"GNQ\", \"LBY\", \"EGY\", \"AZE\", \"BHR\", \"YEM\", \"SAU\", \"CUB\", null, null, null, null, \"DJI\", \"CHN\", \"TKM\", null, \"ERI\"], \"name\": \"\", \"type\": \"choropleth\", \"z\": [6.72, 6.99, 7.24, 8.57, 8.76, 9.67, 9.96, 10.04, 10.11, 10.55, 11.69, 11.91, 15.24, 15.25, 15.25, 15.37, 16.34, 16.38, 16.95, 17.56, 19.24, 19.26, 19.49, 19.72, 19.79, 19.85, 20.09, 20.15, 20.44, 21.33, 21.55, 21.59, 21.59, 22.6, 23.02, 23.1, 23.17, 23.25, 23.32, 23.38, 23.39, 23.43, 23.86, 23.93, 23.98, 24.59, 24.88, 24.91, 25.22, 25.6, 25.61, 25.66, 27.61, 27.89, 27.92, 27.95, 28.24, 28.34, 28.44, 28.64, 28.74, 28.8, 28.83, 28.84, 28.86, 28.87, 28.88, 28.97, 28.99, 29.01, 29.11, 29.13, 29.53, 29.59, 29.61, 29.82, 29.94, 30.32, 30.37, 30.44, 30.46, 30.49, 30.59, 30.65, 30.76, 30.9, 31.12, 31.61, 31.61, 31.67, 31.71, 31.76, 32.03, 32.25, 32.68, 32.83, 32.96, 33.36, 33.5, 33.52, 33.63, 33.65, 34.06, 34.33, 34.36, 34.62, 34.93, 35.39, 35.42, 35.47, 36.25, 37.29, 37.4, 38.18, 38.21, 38.45, 38.6, 38.83, 39.47, 39.69, 39.98, 40.19, 40.2, 40.69, 41.19, 41.92, 42.2, 42.6, 42.89, 43.12, 43.13, 43.18, 43.37, 43.74, 43.78, 43.94, 45.22, 45.64, 45.78, 46.14, 46.34, 46.56, 46.71, 46.84, 46.86, 47.26, 47.57, 47.6, 48.59, 48.71, 49.35, 49.71, 49.79, 49.91, 50.28, 50.66, 50.74, 50.82, 52.93, 55.2, 55.47, 55.52, 55.57, 55.67, 55.73, 56.17, 58.77, 61.1, 62.35, 62.73, 63.94, 70.56, 70.63, 72.7, 78.46, 78.62, 78.72, 80.03, 81.28, 81.45]}],                        {\"coloraxis\": {\"colorbar\": {\"title\": {\"text\": \"Global Score 2021\"}}, \"colorscale\": [[0.0, \"#440154\"], [0.1111111111111111, \"#482878\"], [0.2222222222222222, \"#3e4989\"], [0.3333333333333333, \"#31688e\"], [0.4444444444444444, \"#26828e\"], [0.5555555555555556, \"#1f9e89\"], [0.6666666666666666, \"#35b779\"], [0.7777777777777778, \"#6ece58\"], [0.8888888888888888, \"#b5de2b\"], [1.0, \"#fde725\"]]}, \"font\": {\"size\": 14}, \"geo\": {\"center\": {}, \"domain\": {\"x\": [0.0, 1.0], \"y\": [0.0, 1.0]}, \"scope\": \"world\"}, \"height\": 350, \"legend\": {\"tracegroupgap\": 0}, \"margin\": {\"b\": 0, \"l\": 0, \"r\": 0, \"t\": 30}, \"showlegend\": false, \"template\": {\"data\": {\"bar\": [{\"error_x\": {\"color\": \"#2a3f5f\"}, \"error_y\": {\"color\": \"#2a3f5f\"}, \"marker\": {\"line\": {\"color\": \"#E5ECF6\", \"width\": 0.5}}, \"type\": \"bar\"}], \"barpolar\": [{\"marker\": {\"line\": {\"color\": \"#E5ECF6\", \"width\": 0.5}}, \"type\": \"barpolar\"}], \"carpet\": [{\"aaxis\": {\"endlinecolor\": \"#2a3f5f\", \"gridcolor\": \"white\", \"linecolor\": \"white\", \"minorgridcolor\": \"white\", \"startlinecolor\": \"#2a3f5f\"}, \"baxis\": {\"endlinecolor\": \"#2a3f5f\", \"gridcolor\": \"white\", \"linecolor\": \"white\", \"minorgridcolor\": \"white\", \"startlinecolor\": \"#2a3f5f\"}, \"type\": \"carpet\"}], \"choropleth\": [{\"colorbar\": {\"outlinewidth\": 0, \"ticks\": \"\"}, \"type\": \"choropleth\"}], \"contour\": [{\"colorbar\": {\"outlinewidth\": 0, \"ticks\": \"\"}, \"colorscale\": [[0.0, \"#0d0887\"], [0.1111111111111111, \"#46039f\"], [0.2222222222222222, \"#7201a8\"], [0.3333333333333333, \"#9c179e\"], [0.4444444444444444, \"#bd3786\"], [0.5555555555555556, \"#d8576b\"], [0.6666666666666666, \"#ed7953\"], [0.7777777777777778, \"#fb9f3a\"], [0.8888888888888888, \"#fdca26\"], [1.0, \"#f0f921\"]], \"type\": \"contour\"}], \"contourcarpet\": [{\"colorbar\": {\"outlinewidth\": 0, \"ticks\": \"\"}, \"type\": \"contourcarpet\"}], \"heatmap\": [{\"colorbar\": {\"outlinewidth\": 0, \"ticks\": \"\"}, \"colorscale\": [[0.0, \"#0d0887\"], [0.1111111111111111, \"#46039f\"], [0.2222222222222222, \"#7201a8\"], [0.3333333333333333, \"#9c179e\"], [0.4444444444444444, \"#bd3786\"], [0.5555555555555556, \"#d8576b\"], [0.6666666666666666, \"#ed7953\"], [0.7777777777777778, \"#fb9f3a\"], [0.8888888888888888, \"#fdca26\"], [1.0, \"#f0f921\"]], \"type\": \"heatmap\"}], \"heatmapgl\": [{\"colorbar\": {\"outlinewidth\": 0, \"ticks\": \"\"}, \"colorscale\": [[0.0, \"#0d0887\"], [0.1111111111111111, \"#46039f\"], [0.2222222222222222, \"#7201a8\"], [0.3333333333333333, \"#9c179e\"], [0.4444444444444444, \"#bd3786\"], [0.5555555555555556, \"#d8576b\"], [0.6666666666666666, \"#ed7953\"], [0.7777777777777778, \"#fb9f3a\"], [0.8888888888888888, \"#fdca26\"], [1.0, \"#f0f921\"]], \"type\": \"heatmapgl\"}], \"histogram\": [{\"marker\": {\"colorbar\": {\"outlinewidth\": 0, \"ticks\": \"\"}}, \"type\": \"histogram\"}], \"histogram2d\": [{\"colorbar\": {\"outlinewidth\": 0, \"ticks\": \"\"}, \"colorscale\": [[0.0, \"#0d0887\"], [0.1111111111111111, \"#46039f\"], [0.2222222222222222, \"#7201a8\"], [0.3333333333333333, \"#9c179e\"], [0.4444444444444444, \"#bd3786\"], [0.5555555555555556, \"#d8576b\"], [0.6666666666666666, \"#ed7953\"], [0.7777777777777778, \"#fb9f3a\"], [0.8888888888888888, \"#fdca26\"], [1.0, \"#f0f921\"]], \"type\": \"histogram2d\"}], \"histogram2dcontour\": [{\"colorbar\": {\"outlinewidth\": 0, \"ticks\": \"\"}, \"colorscale\": [[0.0, \"#0d0887\"], [0.1111111111111111, \"#46039f\"], [0.2222222222222222, \"#7201a8\"], [0.3333333333333333, \"#9c179e\"], [0.4444444444444444, \"#bd3786\"], [0.5555555555555556, \"#d8576b\"], [0.6666666666666666, \"#ed7953\"], [0.7777777777777778, \"#fb9f3a\"], [0.8888888888888888, \"#fdca26\"], [1.0, \"#f0f921\"]], \"type\": \"histogram2dcontour\"}], \"mesh3d\": [{\"colorbar\": {\"outlinewidth\": 0, \"ticks\": \"\"}, \"type\": \"mesh3d\"}], \"parcoords\": [{\"line\": {\"colorbar\": {\"outlinewidth\": 0, \"ticks\": \"\"}}, \"type\": \"parcoords\"}], \"pie\": [{\"automargin\": true, \"type\": \"pie\"}], \"scatter\": [{\"marker\": {\"colorbar\": {\"outlinewidth\": 0, \"ticks\": \"\"}}, \"type\": \"scatter\"}], \"scatter3d\": [{\"line\": {\"colorbar\": {\"outlinewidth\": 0, \"ticks\": \"\"}}, \"marker\": {\"colorbar\": {\"outlinewidth\": 0, \"ticks\": \"\"}}, \"type\": \"scatter3d\"}], \"scattercarpet\": [{\"marker\": {\"colorbar\": {\"outlinewidth\": 0, \"ticks\": \"\"}}, \"type\": \"scattercarpet\"}], \"scattergeo\": [{\"marker\": {\"colorbar\": {\"outlinewidth\": 0, \"ticks\": \"\"}}, \"type\": \"scattergeo\"}], \"scattergl\": [{\"marker\": {\"colorbar\": {\"outlinewidth\": 0, \"ticks\": \"\"}}, \"type\": \"scattergl\"}], \"scattermapbox\": [{\"marker\": {\"colorbar\": {\"outlinewidth\": 0, \"ticks\": \"\"}}, \"type\": \"scattermapbox\"}], \"scatterpolar\": [{\"marker\": {\"colorbar\": {\"outlinewidth\": 0, \"ticks\": \"\"}}, \"type\": \"scatterpolar\"}], \"scatterpolargl\": [{\"marker\": {\"colorbar\": {\"outlinewidth\": 0, \"ticks\": \"\"}}, \"type\": \"scatterpolargl\"}], \"scatterternary\": [{\"marker\": {\"colorbar\": {\"outlinewidth\": 0, \"ticks\": \"\"}}, \"type\": \"scatterternary\"}], \"surface\": [{\"colorbar\": {\"outlinewidth\": 0, \"ticks\": \"\"}, \"colorscale\": [[0.0, \"#0d0887\"], [0.1111111111111111, \"#46039f\"], [0.2222222222222222, \"#7201a8\"], [0.3333333333333333, \"#9c179e\"], [0.4444444444444444, \"#bd3786\"], [0.5555555555555556, \"#d8576b\"], [0.6666666666666666, \"#ed7953\"], [0.7777777777777778, \"#fb9f3a\"], [0.8888888888888888, \"#fdca26\"], [1.0, \"#f0f921\"]], \"type\": \"surface\"}], \"table\": [{\"cells\": {\"fill\": {\"color\": \"#EBF0F8\"}, \"line\": {\"color\": \"white\"}}, \"header\": {\"fill\": {\"color\": \"#C8D4E3\"}, \"line\": {\"color\": \"white\"}}, \"type\": \"table\"}]}, \"layout\": {\"annotationdefaults\": {\"arrowcolor\": \"#2a3f5f\", \"arrowhead\": 0, \"arrowwidth\": 1}, \"autotypenumbers\": \"strict\", \"coloraxis\": {\"colorbar\": {\"outlinewidth\": 0, \"ticks\": \"\"}}, \"colorscale\": {\"diverging\": [[0, \"#8e0152\"], [0.1, \"#c51b7d\"], [0.2, \"#de77ae\"], [0.3, \"#f1b6da\"], [0.4, \"#fde0ef\"], [0.5, \"#f7f7f7\"], [0.6, \"#e6f5d0\"], [0.7, \"#b8e186\"], [0.8, \"#7fbc41\"], [0.9, \"#4d9221\"], [1, \"#276419\"]], \"sequential\": [[0.0, \"#0d0887\"], [0.1111111111111111, \"#46039f\"], [0.2222222222222222, \"#7201a8\"], [0.3333333333333333, \"#9c179e\"], [0.4444444444444444, \"#bd3786\"], [0.5555555555555556, \"#d8576b\"], [0.6666666666666666, \"#ed7953\"], [0.7777777777777778, \"#fb9f3a\"], [0.8888888888888888, \"#fdca26\"], [1.0, \"#f0f921\"]], \"sequentialminus\": [[0.0, \"#0d0887\"], [0.1111111111111111, \"#46039f\"], [0.2222222222222222, \"#7201a8\"], [0.3333333333333333, \"#9c179e\"], [0.4444444444444444, \"#bd3786\"], [0.5555555555555556, \"#d8576b\"], [0.6666666666666666, \"#ed7953\"], [0.7777777777777778, \"#fb9f3a\"], [0.8888888888888888, \"#fdca26\"], [1.0, \"#f0f921\"]]}, \"colorway\": [\"#636efa\", \"#EF553B\", \"#00cc96\", \"#ab63fa\", \"#FFA15A\", \"#19d3f3\", \"#FF6692\", \"#B6E880\", \"#FF97FF\", \"#FECB52\"], \"font\": {\"color\": \"#2a3f5f\"}, \"geo\": {\"bgcolor\": \"white\", \"lakecolor\": \"white\", \"landcolor\": \"#E5ECF6\", \"showlakes\": true, \"showland\": true, \"subunitcolor\": \"white\"}, \"hoverlabel\": {\"align\": \"left\"}, \"hovermode\": \"closest\", \"mapbox\": {\"style\": \"light\"}, \"paper_bgcolor\": \"white\", \"plot_bgcolor\": \"#E5ECF6\", \"polar\": {\"angularaxis\": {\"gridcolor\": \"white\", \"linecolor\": \"white\", \"ticks\": \"\"}, \"bgcolor\": \"#E5ECF6\", \"radialaxis\": {\"gridcolor\": \"white\", \"linecolor\": \"white\", \"ticks\": \"\"}}, \"scene\": {\"xaxis\": {\"backgroundcolor\": \"#E5ECF6\", \"gridcolor\": \"white\", \"gridwidth\": 2, \"linecolor\": \"white\", \"showbackground\": true, \"ticks\": \"\", \"zerolinecolor\": \"white\"}, \"yaxis\": {\"backgroundcolor\": \"#E5ECF6\", \"gridcolor\": \"white\", \"gridwidth\": 2, \"linecolor\": \"white\", \"showbackground\": true, \"ticks\": \"\", \"zerolinecolor\": \"white\"}, \"zaxis\": {\"backgroundcolor\": \"#E5ECF6\", \"gridcolor\": \"white\", \"gridwidth\": 2, \"linecolor\": \"white\", \"showbackground\": true, \"ticks\": \"\", \"zerolinecolor\": \"white\"}}, \"shapedefaults\": {\"line\": {\"color\": \"#2a3f5f\"}}, \"ternary\": {\"aaxis\": {\"gridcolor\": \"white\", \"linecolor\": \"white\", \"ticks\": \"\"}, \"baxis\": {\"gridcolor\": \"white\", \"linecolor\": \"white\", \"ticks\": \"\"}, \"bgcolor\": \"#E5ECF6\", \"caxis\": {\"gridcolor\": \"white\", \"linecolor\": \"white\", \"ticks\": \"\"}}, \"title\": {\"x\": 0.05}, \"xaxis\": {\"automargin\": true, \"gridcolor\": \"white\", \"linecolor\": \"white\", \"ticks\": \"\", \"title\": {\"standoff\": 15}, \"zerolinecolor\": \"white\", \"zerolinewidth\": 2}, \"yaxis\": {\"automargin\": true, \"gridcolor\": \"white\", \"linecolor\": \"white\", \"ticks\": \"\", \"title\": {\"standoff\": 15}, \"zerolinecolor\": \"white\", \"zerolinewidth\": 2}}}, \"title\": {\"text\": \"<b>Countries using Press Index-2021</b>\", \"x\": 0.5}, \"width\": 750},                        {\"responsive\": true}                    ).then(function(){\n",
       "                            \n",
       "var gd = document.getElementById('d4af21ed-9c5f-47d4-8379-263f7c1aa288');\n",
       "var x = new MutationObserver(function (mutations, observer) {{\n",
       "        var display = window.getComputedStyle(gd).display;\n",
       "        if (!display || display === 'none') {{\n",
       "            console.log([gd, 'removed!']);\n",
       "            Plotly.purge(gd);\n",
       "            observer.disconnect();\n",
       "        }}\n",
       "}});\n",
       "\n",
       "// Listen for the removal of the full notebook cells\n",
       "var notebookContainer = gd.closest('#notebook-container');\n",
       "if (notebookContainer) {{\n",
       "    x.observe(notebookContainer, {childList: true});\n",
       "}}\n",
       "\n",
       "// Listen for the clearing of the current output cell\n",
       "var outputEl = gd.closest('.output');\n",
       "if (outputEl) {{\n",
       "    x.observe(outputEl, {childList: true});\n",
       "}}\n",
       "\n",
       "                        })                };                });            </script>        </div>"
      ]
     },
     "metadata": {},
     "output_type": "display_data"
    }
   ],
   "source": [
    "plot_Global_press_index(2021)"
   ]
  },
  {
   "cell_type": "code",
   "execution_count": 15,
   "id": "earned-decade",
   "metadata": {
    "execution": {
     "iopub.execute_input": "2021-06-22T09:02:21.783307Z",
     "iopub.status.busy": "2021-06-22T09:02:21.782646Z",
     "iopub.status.idle": "2021-06-22T09:02:21.850371Z",
     "shell.execute_reply": "2021-06-22T09:02:21.849675Z",
     "shell.execute_reply.started": "2021-06-22T08:05:51.980739Z"
    },
    "papermill": {
     "duration": 0.100906,
     "end_time": "2021-06-22T09:02:21.850527",
     "exception": false,
     "start_time": "2021-06-22T09:02:21.749621",
     "status": "completed"
    },
    "tags": []
   },
   "outputs": [
    {
     "data": {
      "text/html": [
       "<div>                            <div id=\"f337d422-2dac-4c02-a67e-2955ac40b93f\" class=\"plotly-graph-div\" style=\"height:350px; width:750px;\"></div>            <script type=\"text/javascript\">                require([\"plotly\"], function(Plotly) {                    window.PLOTLYENV=window.PLOTLYENV || {};                                    if (document.getElementById(\"f337d422-2dac-4c02-a67e-2955ac40b93f\")) {                    Plotly.newPlot(                        \"f337d422-2dac-4c02-a67e-2955ac40b93f\",                        [{\"coloraxis\": \"coloraxis\", \"geo\": \"geo\", \"hovertemplate\": \"<b>%{hovertext}</b><br><br>iso_alpha=%{location}<br>Global Score 2020=%{z}<extra></extra>\", \"hovertext\": [\"Norway\", \"Finland\", \"Sweden\", \"Denmark\", \"Costa Rica\", \"Netherlands\", \"Jamaica\", \"New Zealand\", \"Portugal\", \"Switzerland\", \"Belgium\", \"Ireland\", \"Germany\", \"Canada\", \"Estonia\", \"Iceland\", \"Austria\", \"Uruguay\", \"Suriname\", \"Luxembourg\", \"Samoa\", \"Latvia\", \"Liechtenstein\", \"Namibia\", \"Australia\", \"Cyprus\", \"Cabo Verde\", \"Lithuania\", \"Spain\", \"Ghana\", \"Trinidad and Tobago\", \"South Africa\", \"United Kingdom\", \"France\", \"Slovakia\", \"Slovenia\", \"Burkina Faso\", \"Botswana\", \"Andorra\", \"Czech Republic\", \"Italy\", \"South Korea\", \"Taiwan\", \"United States\", \"OECS\", \"Tonga\", \"Papua New Guinea\", \"Romania\", \"Senegal\", \"Dominican Republic\", \"Guyana\", \"Seychelles\", \"Belize\", \"Chile\", \"Fiji\", \"Croatia\", \"Madagascar\", \"Bosnia-Herzegovina\", \"Niger\", \"Georgia\", \"Mauritius\", \"Malawi\", \"Armenia\", \"Poland\", \"Bhutan\", \"C\\u00f4te d\\u2019Ivoire\", \"Japan\", \"Mongolia\", \"Argentina\", \"Greece\", \"Timor-Leste\", \"Maldives\", \"Tunisia\", \"Togo\", \"Sierra Leone\", \"Northern Cyprus\", \"Panama\", \"Kosovo\", \"Kyrgyzstan\", \"Hong Kong\", \"Malta\", \"El Salvador\", \"Albania\", \"Comoros\", \"Gambia\", \"Israel\", \"Ha\\u00efti\", \"Lesotho\", \"Moldova\", \"North Macedonia\", \"Peru\", \"Hungary\", \"Serbia\", \"Mauritania\", \"Guinea Bissau\", \"Ecuador\", \"Ukraine\", \"Liberia\", \"Mali\", \"Paraguay\", \"Ethiopia\", \"Kenya\", \"Angola\", \"Montenegro\", \"Kuwait\", \"Nepal\", \"Lebanon\", \"Mozambique\", \"Guinea\", \"Bolivia\", \"Brazil\", \"Bulgaria\", \"Indonesia\", \"Benin\", \"Zambia\", \"Guatemala\", \"Gabon\", \"Congo-Brazzaville\", \"Malaysia\", \"Nigeria\", \"Nicaragua\", \"Afghanistan\", \"Chad\", \"Tanzania\", \"Uganda\", \"Central African Republic\", \"Sri Lanka\", \"Qatar\", \"Jordan\", \"Zimbabwe\", \"United Arab Emirates\", \"Palestine\", \"Oman\", \"Colombia\", \"Cameroon\", \"Morocco / Western Sahara\", \"Thailand\", \"Philippines\", \"South Sudan\", \"Myanmar\", \"Eswatini\", \"India\", \"Mexico\", \"Cambodia\", \"Pakistan\", \"Algeria\", \"Burundi\", \"Venezuela\", \"Democratic Republic of Congo\", \"Russia\", \"Honduras\", \"Bangladesh\", \"Turkey\", \"Brunei\", \"Kazakhstan\", \"Rwanda\", \"Uzbekistan\", \"Belarus\", \"Sudan\", \"Singapore\", \"Somalia\", \"Tajikistan\", \"Iraq\", \"Equatorial Guinea\", \"Libya\", \"Egypt\", \"Azerbaijan\", \"Bahrain\", \"Yemen\", \"Saudi Arabia\", \"Cuba\", \"Laos\", \"Syria\", \"Iran\", \"Vietnam\", \"Djibouti\", \"China\", \"Turkmenistan\", \"North Korea\", \"Eritrea\"], \"locations\": [\"NOR\", \"FIN\", \"SWE\", \"DNK\", \"CRI\", \"NLD\", \"JAM\", \"NZL\", \"PRT\", \"CHE\", \"BEL\", \"IRL\", \"DEU\", \"CAN\", \"EST\", \"ISL\", \"AUT\", \"URY\", \"SUR\", \"LUX\", \"WSM\", \"LVA\", \"LIE\", \"NAM\", \"AUS\", \"CYP\", \"CPV\", \"LTU\", \"ESP\", \"GHA\", \"TTO\", \"ZAF\", \"GBR\", \"FRA\", \"SVK\", \"SVN\", \"BFA\", \"BWA\", \"AND\", null, \"ITA\", null, null, \"USA\", null, \"TON\", \"PNG\", \"ROU\", \"SEN\", \"DOM\", \"GUY\", \"SYC\", \"BLZ\", \"CHL\", \"FJI\", \"HRV\", \"MDG\", null, \"NER\", \"GEO\", \"MUS\", \"MWI\", \"ARM\", \"POL\", \"BTN\", null, \"JPN\", \"MNG\", \"ARG\", \"GRC\", \"TLS\", \"MDV\", \"TUN\", \"TGO\", \"SLE\", null, \"PAN\", null, \"KGZ\", \"HKG\", \"MLT\", \"SLV\", \"ALB\", \"COM\", \"GMB\", \"ISR\", null, \"LSO\", null, \"MKD\", \"PER\", \"HUN\", \"SRB\", \"MRT\", null, \"ECU\", \"UKR\", \"LBR\", \"MLI\", \"PRY\", \"ETH\", \"KEN\", \"AGO\", \"MNE\", \"KWT\", \"NPL\", \"LBN\", \"MOZ\", \"GIN\", null, \"BRA\", \"BGR\", \"IDN\", \"BEN\", \"ZMB\", \"GTM\", \"GAB\", null, \"MYS\", \"NGA\", \"NIC\", \"AFG\", \"TCD\", null, \"UGA\", \"CAF\", \"LKA\", \"QAT\", \"JOR\", \"ZWE\", \"ARE\", null, \"OMN\", \"COL\", \"CMR\", null, \"THA\", \"PHL\", \"SSD\", \"MMR\", \"SWZ\", \"IND\", \"MEX\", \"KHM\", \"PAK\", \"DZA\", \"BDI\", null, null, null, \"HND\", \"BGD\", \"TUR\", null, \"KAZ\", \"RWA\", \"UZB\", \"BLR\", \"SDN\", \"SGP\", \"SOM\", \"TJK\", \"IRQ\", \"GNQ\", \"LBY\", \"EGY\", \"AZE\", \"BHR\", \"YEM\", \"SAU\", \"CUB\", null, null, null, null, \"DJI\", \"CHN\", \"TKM\", null, \"ERI\"], \"name\": \"\", \"type\": \"choropleth\", \"z\": [7.84, 7.93, 9.25, 8.13, 10.53, 9.96, 10.51, 10.69, 11.83, 10.62, 12.57, 12.6, 12.16, 15.29, 12.61, 15.12, 15.78, 15.79, 17.5, 15.46, 18.25, 18.56, 19.52, 19.25, 20.21, 20.45, 20.15, 21.19, 22.16, 22.26, 23.22, 22.41, 22.93, 22.92, 22.67, 22.64, 23.47, 23.56, 23.23, 23.57, 23.69, 23.7, 23.76, 23.85, 23.78, 27.27, 23.93, 25.91, 23.99, 27.9, 26.63, 28.66, 27.5, 27.31, 27.41, 28.51, 27.68, 28.51, 28.25, 28.59, 28.0, 29.32, 28.6, 28.65, 28.9, 28.94, 28.86, 29.61, 28.78, 28.8, 29.9, 29.93, 29.45, 29.33, 30.28, 29.79, 29.78, 29.33, 30.19, 30.01, 30.16, 29.7, 30.25, 29.77, 30.62, 30.84, 30.2, 30.45, 31.16, 31.28, 30.94, 30.84, 31.62, 32.54, 32.06, 32.62, 32.52, 32.25, 34.12, 32.97, 32.82, 33.72, 33.92, 33.83, 34.3, 35.1, 33.19, 33.79, 34.34, 35.37, 34.05, 35.06, 36.82, 35.11, 37.0, 35.74, 37.2, 36.56, 33.12, 35.63, 35.81, 37.7, 39.7, 40.25, 40.95, 42.87, 41.94, 42.51, 42.08, 40.95, 42.69, 44.09, 43.42, 42.66, 43.28, 42.88, 44.94, 43.54, 44.49, 44.77, 45.15, 45.33, 45.45, 45.46, 45.52, 45.52, 55.33, 45.66, 49.09, 48.92, 48.2, 49.37, 50.02, 49.65, 54.11, 50.34, 53.07, 49.75, 55.33, 55.23, 55.45, 55.34, 55.37, 56.38, 55.77, 56.82, 58.48, 60.13, 58.25, 62.14, 63.81, 64.28, 72.57, 64.81, 74.71, 76.73, 78.48, 85.44, 85.82, 83.5]}],                        {\"coloraxis\": {\"colorbar\": {\"title\": {\"text\": \"Global Score 2020\"}}, \"colorscale\": [[0.0, \"#440154\"], [0.1111111111111111, \"#482878\"], [0.2222222222222222, \"#3e4989\"], [0.3333333333333333, \"#31688e\"], [0.4444444444444444, \"#26828e\"], [0.5555555555555556, \"#1f9e89\"], [0.6666666666666666, \"#35b779\"], [0.7777777777777778, \"#6ece58\"], [0.8888888888888888, \"#b5de2b\"], [1.0, \"#fde725\"]]}, \"font\": {\"size\": 14}, \"geo\": {\"center\": {}, \"domain\": {\"x\": [0.0, 1.0], \"y\": [0.0, 1.0]}, \"scope\": \"world\"}, \"height\": 350, \"legend\": {\"tracegroupgap\": 0}, \"margin\": {\"b\": 0, \"l\": 0, \"r\": 0, \"t\": 30}, \"showlegend\": false, \"template\": {\"data\": {\"bar\": [{\"error_x\": {\"color\": \"#2a3f5f\"}, \"error_y\": {\"color\": \"#2a3f5f\"}, \"marker\": {\"line\": {\"color\": \"#E5ECF6\", \"width\": 0.5}}, \"type\": \"bar\"}], \"barpolar\": [{\"marker\": {\"line\": {\"color\": \"#E5ECF6\", \"width\": 0.5}}, \"type\": \"barpolar\"}], \"carpet\": [{\"aaxis\": {\"endlinecolor\": \"#2a3f5f\", \"gridcolor\": \"white\", \"linecolor\": \"white\", \"minorgridcolor\": \"white\", \"startlinecolor\": \"#2a3f5f\"}, \"baxis\": {\"endlinecolor\": \"#2a3f5f\", \"gridcolor\": \"white\", \"linecolor\": \"white\", \"minorgridcolor\": \"white\", \"startlinecolor\": \"#2a3f5f\"}, \"type\": \"carpet\"}], \"choropleth\": [{\"colorbar\": {\"outlinewidth\": 0, \"ticks\": \"\"}, \"type\": \"choropleth\"}], \"contour\": [{\"colorbar\": {\"outlinewidth\": 0, \"ticks\": \"\"}, \"colorscale\": [[0.0, \"#0d0887\"], [0.1111111111111111, \"#46039f\"], [0.2222222222222222, \"#7201a8\"], [0.3333333333333333, \"#9c179e\"], [0.4444444444444444, \"#bd3786\"], [0.5555555555555556, \"#d8576b\"], [0.6666666666666666, \"#ed7953\"], [0.7777777777777778, \"#fb9f3a\"], [0.8888888888888888, \"#fdca26\"], [1.0, \"#f0f921\"]], \"type\": \"contour\"}], \"contourcarpet\": [{\"colorbar\": {\"outlinewidth\": 0, \"ticks\": \"\"}, \"type\": \"contourcarpet\"}], \"heatmap\": [{\"colorbar\": {\"outlinewidth\": 0, \"ticks\": \"\"}, \"colorscale\": [[0.0, \"#0d0887\"], [0.1111111111111111, \"#46039f\"], [0.2222222222222222, \"#7201a8\"], [0.3333333333333333, \"#9c179e\"], [0.4444444444444444, \"#bd3786\"], [0.5555555555555556, \"#d8576b\"], [0.6666666666666666, \"#ed7953\"], [0.7777777777777778, \"#fb9f3a\"], [0.8888888888888888, \"#fdca26\"], [1.0, \"#f0f921\"]], \"type\": \"heatmap\"}], \"heatmapgl\": [{\"colorbar\": {\"outlinewidth\": 0, \"ticks\": \"\"}, \"colorscale\": [[0.0, \"#0d0887\"], [0.1111111111111111, \"#46039f\"], [0.2222222222222222, \"#7201a8\"], [0.3333333333333333, \"#9c179e\"], [0.4444444444444444, \"#bd3786\"], [0.5555555555555556, \"#d8576b\"], [0.6666666666666666, \"#ed7953\"], [0.7777777777777778, \"#fb9f3a\"], [0.8888888888888888, \"#fdca26\"], [1.0, \"#f0f921\"]], \"type\": \"heatmapgl\"}], \"histogram\": [{\"marker\": {\"colorbar\": {\"outlinewidth\": 0, \"ticks\": \"\"}}, \"type\": \"histogram\"}], \"histogram2d\": [{\"colorbar\": {\"outlinewidth\": 0, \"ticks\": \"\"}, \"colorscale\": [[0.0, \"#0d0887\"], [0.1111111111111111, \"#46039f\"], [0.2222222222222222, \"#7201a8\"], [0.3333333333333333, \"#9c179e\"], [0.4444444444444444, \"#bd3786\"], [0.5555555555555556, \"#d8576b\"], [0.6666666666666666, \"#ed7953\"], [0.7777777777777778, \"#fb9f3a\"], [0.8888888888888888, \"#fdca26\"], [1.0, \"#f0f921\"]], \"type\": \"histogram2d\"}], \"histogram2dcontour\": [{\"colorbar\": {\"outlinewidth\": 0, \"ticks\": \"\"}, \"colorscale\": [[0.0, \"#0d0887\"], [0.1111111111111111, \"#46039f\"], [0.2222222222222222, \"#7201a8\"], [0.3333333333333333, \"#9c179e\"], [0.4444444444444444, \"#bd3786\"], [0.5555555555555556, \"#d8576b\"], [0.6666666666666666, \"#ed7953\"], [0.7777777777777778, \"#fb9f3a\"], [0.8888888888888888, \"#fdca26\"], [1.0, \"#f0f921\"]], \"type\": \"histogram2dcontour\"}], \"mesh3d\": [{\"colorbar\": {\"outlinewidth\": 0, \"ticks\": \"\"}, \"type\": \"mesh3d\"}], \"parcoords\": [{\"line\": {\"colorbar\": {\"outlinewidth\": 0, \"ticks\": \"\"}}, \"type\": \"parcoords\"}], \"pie\": [{\"automargin\": true, \"type\": \"pie\"}], \"scatter\": [{\"marker\": {\"colorbar\": {\"outlinewidth\": 0, \"ticks\": \"\"}}, \"type\": \"scatter\"}], \"scatter3d\": [{\"line\": {\"colorbar\": {\"outlinewidth\": 0, \"ticks\": \"\"}}, \"marker\": {\"colorbar\": {\"outlinewidth\": 0, \"ticks\": \"\"}}, \"type\": \"scatter3d\"}], \"scattercarpet\": [{\"marker\": {\"colorbar\": {\"outlinewidth\": 0, \"ticks\": \"\"}}, \"type\": \"scattercarpet\"}], \"scattergeo\": [{\"marker\": {\"colorbar\": {\"outlinewidth\": 0, \"ticks\": \"\"}}, \"type\": \"scattergeo\"}], \"scattergl\": [{\"marker\": {\"colorbar\": {\"outlinewidth\": 0, \"ticks\": \"\"}}, \"type\": \"scattergl\"}], \"scattermapbox\": [{\"marker\": {\"colorbar\": {\"outlinewidth\": 0, \"ticks\": \"\"}}, \"type\": \"scattermapbox\"}], \"scatterpolar\": [{\"marker\": {\"colorbar\": {\"outlinewidth\": 0, \"ticks\": \"\"}}, \"type\": \"scatterpolar\"}], \"scatterpolargl\": [{\"marker\": {\"colorbar\": {\"outlinewidth\": 0, \"ticks\": \"\"}}, \"type\": \"scatterpolargl\"}], \"scatterternary\": [{\"marker\": {\"colorbar\": {\"outlinewidth\": 0, \"ticks\": \"\"}}, \"type\": \"scatterternary\"}], \"surface\": [{\"colorbar\": {\"outlinewidth\": 0, \"ticks\": \"\"}, \"colorscale\": [[0.0, \"#0d0887\"], [0.1111111111111111, \"#46039f\"], [0.2222222222222222, \"#7201a8\"], [0.3333333333333333, \"#9c179e\"], [0.4444444444444444, \"#bd3786\"], [0.5555555555555556, \"#d8576b\"], [0.6666666666666666, \"#ed7953\"], [0.7777777777777778, \"#fb9f3a\"], [0.8888888888888888, \"#fdca26\"], [1.0, \"#f0f921\"]], \"type\": \"surface\"}], \"table\": [{\"cells\": {\"fill\": {\"color\": \"#EBF0F8\"}, \"line\": {\"color\": \"white\"}}, \"header\": {\"fill\": {\"color\": \"#C8D4E3\"}, \"line\": {\"color\": \"white\"}}, \"type\": \"table\"}]}, \"layout\": {\"annotationdefaults\": {\"arrowcolor\": \"#2a3f5f\", \"arrowhead\": 0, \"arrowwidth\": 1}, \"autotypenumbers\": \"strict\", \"coloraxis\": {\"colorbar\": {\"outlinewidth\": 0, \"ticks\": \"\"}}, \"colorscale\": {\"diverging\": [[0, \"#8e0152\"], [0.1, \"#c51b7d\"], [0.2, \"#de77ae\"], [0.3, \"#f1b6da\"], [0.4, \"#fde0ef\"], [0.5, \"#f7f7f7\"], [0.6, \"#e6f5d0\"], [0.7, \"#b8e186\"], [0.8, \"#7fbc41\"], [0.9, \"#4d9221\"], [1, \"#276419\"]], \"sequential\": [[0.0, \"#0d0887\"], [0.1111111111111111, \"#46039f\"], [0.2222222222222222, \"#7201a8\"], [0.3333333333333333, \"#9c179e\"], [0.4444444444444444, \"#bd3786\"], [0.5555555555555556, \"#d8576b\"], [0.6666666666666666, \"#ed7953\"], [0.7777777777777778, \"#fb9f3a\"], [0.8888888888888888, \"#fdca26\"], [1.0, \"#f0f921\"]], \"sequentialminus\": [[0.0, \"#0d0887\"], [0.1111111111111111, \"#46039f\"], [0.2222222222222222, \"#7201a8\"], [0.3333333333333333, \"#9c179e\"], [0.4444444444444444, \"#bd3786\"], [0.5555555555555556, \"#d8576b\"], [0.6666666666666666, \"#ed7953\"], [0.7777777777777778, \"#fb9f3a\"], [0.8888888888888888, \"#fdca26\"], [1.0, \"#f0f921\"]]}, \"colorway\": [\"#636efa\", \"#EF553B\", \"#00cc96\", \"#ab63fa\", \"#FFA15A\", \"#19d3f3\", \"#FF6692\", \"#B6E880\", \"#FF97FF\", \"#FECB52\"], \"font\": {\"color\": \"#2a3f5f\"}, \"geo\": {\"bgcolor\": \"white\", \"lakecolor\": \"white\", \"landcolor\": \"#E5ECF6\", \"showlakes\": true, \"showland\": true, \"subunitcolor\": \"white\"}, \"hoverlabel\": {\"align\": \"left\"}, \"hovermode\": \"closest\", \"mapbox\": {\"style\": \"light\"}, \"paper_bgcolor\": \"white\", \"plot_bgcolor\": \"#E5ECF6\", \"polar\": {\"angularaxis\": {\"gridcolor\": \"white\", \"linecolor\": \"white\", \"ticks\": \"\"}, \"bgcolor\": \"#E5ECF6\", \"radialaxis\": {\"gridcolor\": \"white\", \"linecolor\": \"white\", \"ticks\": \"\"}}, \"scene\": {\"xaxis\": {\"backgroundcolor\": \"#E5ECF6\", \"gridcolor\": \"white\", \"gridwidth\": 2, \"linecolor\": \"white\", \"showbackground\": true, \"ticks\": \"\", \"zerolinecolor\": \"white\"}, \"yaxis\": {\"backgroundcolor\": \"#E5ECF6\", \"gridcolor\": \"white\", \"gridwidth\": 2, \"linecolor\": \"white\", \"showbackground\": true, \"ticks\": \"\", \"zerolinecolor\": \"white\"}, \"zaxis\": {\"backgroundcolor\": \"#E5ECF6\", \"gridcolor\": \"white\", \"gridwidth\": 2, \"linecolor\": \"white\", \"showbackground\": true, \"ticks\": \"\", \"zerolinecolor\": \"white\"}}, \"shapedefaults\": {\"line\": {\"color\": \"#2a3f5f\"}}, \"ternary\": {\"aaxis\": {\"gridcolor\": \"white\", \"linecolor\": \"white\", \"ticks\": \"\"}, \"baxis\": {\"gridcolor\": \"white\", \"linecolor\": \"white\", \"ticks\": \"\"}, \"bgcolor\": \"#E5ECF6\", \"caxis\": {\"gridcolor\": \"white\", \"linecolor\": \"white\", \"ticks\": \"\"}}, \"title\": {\"x\": 0.05}, \"xaxis\": {\"automargin\": true, \"gridcolor\": \"white\", \"linecolor\": \"white\", \"ticks\": \"\", \"title\": {\"standoff\": 15}, \"zerolinecolor\": \"white\", \"zerolinewidth\": 2}, \"yaxis\": {\"automargin\": true, \"gridcolor\": \"white\", \"linecolor\": \"white\", \"ticks\": \"\", \"title\": {\"standoff\": 15}, \"zerolinecolor\": \"white\", \"zerolinewidth\": 2}}}, \"title\": {\"text\": \"<b>Countries using Press Index-2020</b>\", \"x\": 0.5}, \"width\": 750},                        {\"responsive\": true}                    ).then(function(){\n",
       "                            \n",
       "var gd = document.getElementById('f337d422-2dac-4c02-a67e-2955ac40b93f');\n",
       "var x = new MutationObserver(function (mutations, observer) {{\n",
       "        var display = window.getComputedStyle(gd).display;\n",
       "        if (!display || display === 'none') {{\n",
       "            console.log([gd, 'removed!']);\n",
       "            Plotly.purge(gd);\n",
       "            observer.disconnect();\n",
       "        }}\n",
       "}});\n",
       "\n",
       "// Listen for the removal of the full notebook cells\n",
       "var notebookContainer = gd.closest('#notebook-container');\n",
       "if (notebookContainer) {{\n",
       "    x.observe(notebookContainer, {childList: true});\n",
       "}}\n",
       "\n",
       "// Listen for the clearing of the current output cell\n",
       "var outputEl = gd.closest('.output');\n",
       "if (outputEl) {{\n",
       "    x.observe(outputEl, {childList: true});\n",
       "}}\n",
       "\n",
       "                        })                };                });            </script>        </div>"
      ]
     },
     "metadata": {},
     "output_type": "display_data"
    }
   ],
   "source": [
    "plot_Global_press_index(2020)"
   ]
  },
  {
   "cell_type": "code",
   "execution_count": 16,
   "id": "hydraulic-strain",
   "metadata": {
    "execution": {
     "iopub.execute_input": "2021-06-22T09:02:21.969356Z",
     "iopub.status.busy": "2021-06-22T09:02:21.964074Z",
     "iopub.status.idle": "2021-06-22T09:02:21.986853Z",
     "shell.execute_reply": "2021-06-22T09:02:21.987284Z",
     "shell.execute_reply.started": "2021-06-22T08:05:52.054414Z"
    },
    "papermill": {
     "duration": 0.105171,
     "end_time": "2021-06-22T09:02:21.987476",
     "exception": false,
     "start_time": "2021-06-22T09:02:21.882305",
     "status": "completed"
    },
    "tags": []
   },
   "outputs": [
    {
     "data": {
      "text/html": [
       "<div>                            <div id=\"a6d35b94-e6c1-4302-b413-43a26f759217\" class=\"plotly-graph-div\" style=\"height:350px; width:750px;\"></div>            <script type=\"text/javascript\">                require([\"plotly\"], function(Plotly) {                    window.PLOTLYENV=window.PLOTLYENV || {};                                    if (document.getElementById(\"a6d35b94-e6c1-4302-b413-43a26f759217\")) {                    Plotly.newPlot(                        \"a6d35b94-e6c1-4302-b413-43a26f759217\",                        [{\"coloraxis\": \"coloraxis\", \"geo\": \"geo\", \"hovertemplate\": \"<b>%{hovertext}</b><br><br>iso_alpha=%{location}<br>Global Score 2019=%{z}<extra></extra>\", \"hovertext\": [\"Norway\", \"Finland\", \"Sweden\", \"Denmark\", \"Costa Rica\", \"Netherlands\", \"Jamaica\", \"New Zealand\", \"Portugal\", \"Switzerland\", \"Belgium\", \"Ireland\", \"Germany\", \"Canada\", \"Estonia\", \"Iceland\", \"Austria\", \"Uruguay\", \"Suriname\", \"Luxembourg\", \"Samoa\", \"Latvia\", \"Liechtenstein\", \"Namibia\", \"Australia\", \"Cyprus\", \"Cabo Verde\", \"Lithuania\", \"Spain\", \"Ghana\", \"Trinidad and Tobago\", \"South Africa\", \"United Kingdom\", \"France\", \"Slovakia\", \"Slovenia\", \"Burkina Faso\", \"Botswana\", \"Andorra\", \"Czech Republic\", \"Italy\", \"South Korea\", \"Taiwan\", \"United States\", \"OECS\", \"Tonga\", \"Papua New Guinea\", \"Romania\", \"Senegal\", \"Dominican Republic\", \"Guyana\", \"Seychelles\", \"Belize\", \"Chile\", \"Fiji\", \"Croatia\", \"Madagascar\", \"Bosnia-Herzegovina\", \"Niger\", \"Georgia\", \"Mauritius\", \"Malawi\", \"Armenia\", \"Poland\", \"Bhutan\", \"C\\u00f4te d\\u2019Ivoire\", \"Japan\", \"Mongolia\", \"Argentina\", \"Greece\", \"Timor-Leste\", \"Maldives\", \"Tunisia\", \"Togo\", \"Sierra Leone\", \"Northern Cyprus\", \"Panama\", \"Kosovo\", \"Kyrgyzstan\", \"Hong Kong\", \"Malta\", \"El Salvador\", \"Albania\", \"Comoros\", \"Gambia\", \"Israel\", \"Ha\\u00efti\", \"Lesotho\", \"Moldova\", \"North Macedonia\", \"Peru\", \"Hungary\", \"Serbia\", \"Mauritania\", \"Guinea Bissau\", \"Ecuador\", \"Ukraine\", \"Liberia\", \"Mali\", \"Paraguay\", \"Ethiopia\", \"Kenya\", \"Angola\", \"Montenegro\", \"Kuwait\", \"Nepal\", \"Lebanon\", \"Mozambique\", \"Guinea\", \"Bolivia\", \"Brazil\", \"Bulgaria\", \"Indonesia\", \"Benin\", \"Zambia\", \"Guatemala\", \"Gabon\", \"Congo-Brazzaville\", \"Malaysia\", \"Nigeria\", \"Nicaragua\", \"Afghanistan\", \"Chad\", \"Tanzania\", \"Uganda\", \"Central African Republic\", \"Sri Lanka\", \"Qatar\", \"Jordan\", \"Zimbabwe\", \"United Arab Emirates\", \"Palestine\", \"Oman\", \"Colombia\", \"Cameroon\", \"Morocco / Western Sahara\", \"Thailand\", \"Philippines\", \"South Sudan\", \"Myanmar\", \"Eswatini\", \"India\", \"Mexico\", \"Cambodia\", \"Pakistan\", \"Algeria\", \"Burundi\", \"Venezuela\", \"Democratic Republic of Congo\", \"Russia\", \"Honduras\", \"Bangladesh\", \"Turkey\", \"Brunei\", \"Kazakhstan\", \"Rwanda\", \"Uzbekistan\", \"Belarus\", \"Sudan\", \"Singapore\", \"Somalia\", \"Tajikistan\", \"Iraq\", \"Equatorial Guinea\", \"Libya\", \"Egypt\", \"Azerbaijan\", \"Bahrain\", \"Yemen\", \"Saudi Arabia\", \"Cuba\", \"Laos\", \"Syria\", \"Iran\", \"Vietnam\", \"Djibouti\", \"China\", \"Turkmenistan\", \"North Korea\", \"Eritrea\"], \"locations\": [\"NOR\", \"FIN\", \"SWE\", \"DNK\", \"CRI\", \"NLD\", \"JAM\", \"NZL\", \"PRT\", \"CHE\", \"BEL\", \"IRL\", \"DEU\", \"CAN\", \"EST\", \"ISL\", \"AUT\", \"URY\", \"SUR\", \"LUX\", \"WSM\", \"LVA\", \"LIE\", \"NAM\", \"AUS\", \"CYP\", \"CPV\", \"LTU\", \"ESP\", \"GHA\", \"TTO\", \"ZAF\", \"GBR\", \"FRA\", \"SVK\", \"SVN\", \"BFA\", \"BWA\", \"AND\", null, \"ITA\", null, null, \"USA\", null, \"TON\", \"PNG\", \"ROU\", \"SEN\", \"DOM\", \"GUY\", \"SYC\", \"BLZ\", \"CHL\", \"FJI\", \"HRV\", \"MDG\", null, \"NER\", \"GEO\", \"MUS\", \"MWI\", \"ARM\", \"POL\", \"BTN\", null, \"JPN\", \"MNG\", \"ARG\", \"GRC\", \"TLS\", \"MDV\", \"TUN\", \"TGO\", \"SLE\", null, \"PAN\", null, \"KGZ\", \"HKG\", \"MLT\", \"SLV\", \"ALB\", \"COM\", \"GMB\", \"ISR\", null, \"LSO\", null, \"MKD\", \"PER\", \"HUN\", \"SRB\", \"MRT\", null, \"ECU\", \"UKR\", \"LBR\", \"MLI\", \"PRY\", \"ETH\", \"KEN\", \"AGO\", \"MNE\", \"KWT\", \"NPL\", \"LBN\", \"MOZ\", \"GIN\", null, \"BRA\", \"BGR\", \"IDN\", \"BEN\", \"ZMB\", \"GTM\", \"GAB\", null, \"MYS\", \"NGA\", \"NIC\", \"AFG\", \"TCD\", null, \"UGA\", \"CAF\", \"LKA\", \"QAT\", \"JOR\", \"ZWE\", \"ARE\", null, \"OMN\", \"COL\", \"CMR\", null, \"THA\", \"PHL\", \"SSD\", \"MMR\", \"SWZ\", \"IND\", \"MEX\", \"KHM\", \"PAK\", \"DZA\", \"BDI\", null, null, null, \"HND\", \"BGD\", \"TUR\", null, \"KAZ\", \"RWA\", \"UZB\", \"BLR\", \"SDN\", \"SGP\", \"SOM\", \"TJK\", \"IRQ\", \"GNQ\", \"LBY\", \"EGY\", \"AZE\", \"BHR\", \"YEM\", \"SAU\", \"CUB\", null, null, null, null, \"DJI\", \"CHN\", \"TKM\", null, \"ERI\"], \"name\": \"\", \"type\": \"choropleth\", \"z\": [7.82, 7.9, 8.31, 9.87, 12.24, 8.63, 11.13, 10.75, 12.63, 10.52, 12.07, 15.0, 14.6, 15.69, 12.27, 14.71, 15.33, 16.06, 16.38, 15.66, 18.25, 19.53, 20.49, 18.95, 16.55, 21.74, 19.81, 22.06, 21.99, 20.81, 24.74, 22.19, 22.23, 22.21, 23.58, 22.31, 24.53, 25.09, 24.63, 24.89, 24.98, 24.94, 24.98, 25.69, 26.04, 25.41, 24.7, 25.67, 25.81, 27.9, 26.63, 29.41, 27.5, 25.65, 27.18, 29.03, 27.76, 29.02, 29.26, 28.98, 28.46, 29.36, 28.98, 28.89, 29.81, 29.52, 29.36, 29.51, 28.3, 29.08, 29.93, 32.16, 29.61, 29.69, 30.36, 29.67, 29.78, 29.68, 29.92, 29.65, 29.74, 29.81, 29.84, 27.91, 31.35, 30.8, 29.0, 29.74, 31.21, 31.66, 30.22, 30.44, 31.18, 31.65, 30.95, 31.88, 32.46, 31.49, 35.23, 32.4, 35.11, 32.44, 34.96, 32.74, 33.86, 33.4, 32.44, 32.66, 33.49, 35.38, 32.79, 35.11, 36.77, 31.74, 36.38, 35.94, 35.6, 36.04, 36.74, 36.5, 35.53, 36.55, 36.71, 36.28, 39.42, 47.27, 39.61, 42.51, 43.11, 42.23, 43.63, 44.68, 43.42, 42.82, 43.32, 43.98, 44.1, 43.91, 45.65, 44.92, 49.09, 45.67, 46.78, 45.9, 45.83, 45.75, 52.89, 49.1, 51.71, 50.31, 48.53, 50.74, 52.81, 51.48, 52.82, 52.43, 53.52, 51.66, 72.45, 51.41, 57.24, 54.02, 52.6, 58.35, 55.77, 56.47, 59.13, 61.31, 61.66, 65.88, 63.81, 64.49, 71.78, 64.41, 74.93, 71.36, 78.92, 85.44, 83.4, 80.26]}],                        {\"coloraxis\": {\"colorbar\": {\"title\": {\"text\": \"Global Score 2019\"}}, \"colorscale\": [[0.0, \"#440154\"], [0.1111111111111111, \"#482878\"], [0.2222222222222222, \"#3e4989\"], [0.3333333333333333, \"#31688e\"], [0.4444444444444444, \"#26828e\"], [0.5555555555555556, \"#1f9e89\"], [0.6666666666666666, \"#35b779\"], [0.7777777777777778, \"#6ece58\"], [0.8888888888888888, \"#b5de2b\"], [1.0, \"#fde725\"]]}, \"font\": {\"size\": 14}, \"geo\": {\"center\": {}, \"domain\": {\"x\": [0.0, 1.0], \"y\": [0.0, 1.0]}, \"scope\": \"world\"}, \"height\": 350, \"legend\": {\"tracegroupgap\": 0}, \"margin\": {\"b\": 0, \"l\": 0, \"r\": 0, \"t\": 30}, \"showlegend\": false, \"template\": {\"data\": {\"bar\": [{\"error_x\": {\"color\": \"#2a3f5f\"}, \"error_y\": {\"color\": \"#2a3f5f\"}, \"marker\": {\"line\": {\"color\": \"#E5ECF6\", \"width\": 0.5}}, \"type\": \"bar\"}], \"barpolar\": [{\"marker\": {\"line\": {\"color\": \"#E5ECF6\", \"width\": 0.5}}, \"type\": \"barpolar\"}], \"carpet\": [{\"aaxis\": {\"endlinecolor\": \"#2a3f5f\", \"gridcolor\": \"white\", \"linecolor\": \"white\", \"minorgridcolor\": \"white\", \"startlinecolor\": \"#2a3f5f\"}, \"baxis\": {\"endlinecolor\": \"#2a3f5f\", \"gridcolor\": \"white\", \"linecolor\": \"white\", \"minorgridcolor\": \"white\", \"startlinecolor\": \"#2a3f5f\"}, \"type\": \"carpet\"}], \"choropleth\": [{\"colorbar\": {\"outlinewidth\": 0, \"ticks\": \"\"}, \"type\": \"choropleth\"}], \"contour\": [{\"colorbar\": {\"outlinewidth\": 0, \"ticks\": \"\"}, \"colorscale\": [[0.0, \"#0d0887\"], [0.1111111111111111, \"#46039f\"], [0.2222222222222222, \"#7201a8\"], [0.3333333333333333, \"#9c179e\"], [0.4444444444444444, \"#bd3786\"], [0.5555555555555556, \"#d8576b\"], [0.6666666666666666, \"#ed7953\"], [0.7777777777777778, \"#fb9f3a\"], [0.8888888888888888, \"#fdca26\"], [1.0, \"#f0f921\"]], \"type\": \"contour\"}], \"contourcarpet\": [{\"colorbar\": {\"outlinewidth\": 0, \"ticks\": \"\"}, \"type\": \"contourcarpet\"}], \"heatmap\": [{\"colorbar\": {\"outlinewidth\": 0, \"ticks\": \"\"}, \"colorscale\": [[0.0, \"#0d0887\"], [0.1111111111111111, \"#46039f\"], [0.2222222222222222, \"#7201a8\"], [0.3333333333333333, \"#9c179e\"], [0.4444444444444444, \"#bd3786\"], [0.5555555555555556, \"#d8576b\"], [0.6666666666666666, \"#ed7953\"], [0.7777777777777778, \"#fb9f3a\"], [0.8888888888888888, \"#fdca26\"], [1.0, \"#f0f921\"]], \"type\": \"heatmap\"}], \"heatmapgl\": [{\"colorbar\": {\"outlinewidth\": 0, \"ticks\": \"\"}, \"colorscale\": [[0.0, \"#0d0887\"], [0.1111111111111111, \"#46039f\"], [0.2222222222222222, \"#7201a8\"], [0.3333333333333333, \"#9c179e\"], [0.4444444444444444, \"#bd3786\"], [0.5555555555555556, \"#d8576b\"], [0.6666666666666666, \"#ed7953\"], [0.7777777777777778, \"#fb9f3a\"], [0.8888888888888888, \"#fdca26\"], [1.0, \"#f0f921\"]], \"type\": \"heatmapgl\"}], \"histogram\": [{\"marker\": {\"colorbar\": {\"outlinewidth\": 0, \"ticks\": \"\"}}, \"type\": \"histogram\"}], \"histogram2d\": [{\"colorbar\": {\"outlinewidth\": 0, \"ticks\": \"\"}, \"colorscale\": [[0.0, \"#0d0887\"], [0.1111111111111111, \"#46039f\"], [0.2222222222222222, \"#7201a8\"], [0.3333333333333333, \"#9c179e\"], [0.4444444444444444, \"#bd3786\"], [0.5555555555555556, \"#d8576b\"], [0.6666666666666666, \"#ed7953\"], [0.7777777777777778, \"#fb9f3a\"], [0.8888888888888888, \"#fdca26\"], [1.0, \"#f0f921\"]], \"type\": \"histogram2d\"}], \"histogram2dcontour\": [{\"colorbar\": {\"outlinewidth\": 0, \"ticks\": \"\"}, \"colorscale\": [[0.0, \"#0d0887\"], [0.1111111111111111, \"#46039f\"], [0.2222222222222222, \"#7201a8\"], [0.3333333333333333, \"#9c179e\"], [0.4444444444444444, \"#bd3786\"], [0.5555555555555556, \"#d8576b\"], [0.6666666666666666, \"#ed7953\"], [0.7777777777777778, \"#fb9f3a\"], [0.8888888888888888, \"#fdca26\"], [1.0, \"#f0f921\"]], \"type\": \"histogram2dcontour\"}], \"mesh3d\": [{\"colorbar\": {\"outlinewidth\": 0, \"ticks\": \"\"}, \"type\": \"mesh3d\"}], \"parcoords\": [{\"line\": {\"colorbar\": {\"outlinewidth\": 0, \"ticks\": \"\"}}, \"type\": \"parcoords\"}], \"pie\": [{\"automargin\": true, \"type\": \"pie\"}], \"scatter\": [{\"marker\": {\"colorbar\": {\"outlinewidth\": 0, \"ticks\": \"\"}}, \"type\": \"scatter\"}], \"scatter3d\": [{\"line\": {\"colorbar\": {\"outlinewidth\": 0, \"ticks\": \"\"}}, \"marker\": {\"colorbar\": {\"outlinewidth\": 0, \"ticks\": \"\"}}, \"type\": \"scatter3d\"}], \"scattercarpet\": [{\"marker\": {\"colorbar\": {\"outlinewidth\": 0, \"ticks\": \"\"}}, \"type\": \"scattercarpet\"}], \"scattergeo\": [{\"marker\": {\"colorbar\": {\"outlinewidth\": 0, \"ticks\": \"\"}}, \"type\": \"scattergeo\"}], \"scattergl\": [{\"marker\": {\"colorbar\": {\"outlinewidth\": 0, \"ticks\": \"\"}}, \"type\": \"scattergl\"}], \"scattermapbox\": [{\"marker\": {\"colorbar\": {\"outlinewidth\": 0, \"ticks\": \"\"}}, \"type\": \"scattermapbox\"}], \"scatterpolar\": [{\"marker\": {\"colorbar\": {\"outlinewidth\": 0, \"ticks\": \"\"}}, \"type\": \"scatterpolar\"}], \"scatterpolargl\": [{\"marker\": {\"colorbar\": {\"outlinewidth\": 0, \"ticks\": \"\"}}, \"type\": \"scatterpolargl\"}], \"scatterternary\": [{\"marker\": {\"colorbar\": {\"outlinewidth\": 0, \"ticks\": \"\"}}, \"type\": \"scatterternary\"}], \"surface\": [{\"colorbar\": {\"outlinewidth\": 0, \"ticks\": \"\"}, \"colorscale\": [[0.0, \"#0d0887\"], [0.1111111111111111, \"#46039f\"], [0.2222222222222222, \"#7201a8\"], [0.3333333333333333, \"#9c179e\"], [0.4444444444444444, \"#bd3786\"], [0.5555555555555556, \"#d8576b\"], [0.6666666666666666, \"#ed7953\"], [0.7777777777777778, \"#fb9f3a\"], [0.8888888888888888, \"#fdca26\"], [1.0, \"#f0f921\"]], \"type\": \"surface\"}], \"table\": [{\"cells\": {\"fill\": {\"color\": \"#EBF0F8\"}, \"line\": {\"color\": \"white\"}}, \"header\": {\"fill\": {\"color\": \"#C8D4E3\"}, \"line\": {\"color\": \"white\"}}, \"type\": \"table\"}]}, \"layout\": {\"annotationdefaults\": {\"arrowcolor\": \"#2a3f5f\", \"arrowhead\": 0, \"arrowwidth\": 1}, \"autotypenumbers\": \"strict\", \"coloraxis\": {\"colorbar\": {\"outlinewidth\": 0, \"ticks\": \"\"}}, \"colorscale\": {\"diverging\": [[0, \"#8e0152\"], [0.1, \"#c51b7d\"], [0.2, \"#de77ae\"], [0.3, \"#f1b6da\"], [0.4, \"#fde0ef\"], [0.5, \"#f7f7f7\"], [0.6, \"#e6f5d0\"], [0.7, \"#b8e186\"], [0.8, \"#7fbc41\"], [0.9, \"#4d9221\"], [1, \"#276419\"]], \"sequential\": [[0.0, \"#0d0887\"], [0.1111111111111111, \"#46039f\"], [0.2222222222222222, \"#7201a8\"], [0.3333333333333333, \"#9c179e\"], [0.4444444444444444, \"#bd3786\"], [0.5555555555555556, \"#d8576b\"], [0.6666666666666666, \"#ed7953\"], [0.7777777777777778, \"#fb9f3a\"], [0.8888888888888888, \"#fdca26\"], [1.0, \"#f0f921\"]], \"sequentialminus\": [[0.0, \"#0d0887\"], [0.1111111111111111, \"#46039f\"], [0.2222222222222222, \"#7201a8\"], [0.3333333333333333, \"#9c179e\"], [0.4444444444444444, \"#bd3786\"], [0.5555555555555556, \"#d8576b\"], [0.6666666666666666, \"#ed7953\"], [0.7777777777777778, \"#fb9f3a\"], [0.8888888888888888, \"#fdca26\"], [1.0, \"#f0f921\"]]}, \"colorway\": [\"#636efa\", \"#EF553B\", \"#00cc96\", \"#ab63fa\", \"#FFA15A\", \"#19d3f3\", \"#FF6692\", \"#B6E880\", \"#FF97FF\", \"#FECB52\"], \"font\": {\"color\": \"#2a3f5f\"}, \"geo\": {\"bgcolor\": \"white\", \"lakecolor\": \"white\", \"landcolor\": \"#E5ECF6\", \"showlakes\": true, \"showland\": true, \"subunitcolor\": \"white\"}, \"hoverlabel\": {\"align\": \"left\"}, \"hovermode\": \"closest\", \"mapbox\": {\"style\": \"light\"}, \"paper_bgcolor\": \"white\", \"plot_bgcolor\": \"#E5ECF6\", \"polar\": {\"angularaxis\": {\"gridcolor\": \"white\", \"linecolor\": \"white\", \"ticks\": \"\"}, \"bgcolor\": \"#E5ECF6\", \"radialaxis\": {\"gridcolor\": \"white\", \"linecolor\": \"white\", \"ticks\": \"\"}}, \"scene\": {\"xaxis\": {\"backgroundcolor\": \"#E5ECF6\", \"gridcolor\": \"white\", \"gridwidth\": 2, \"linecolor\": \"white\", \"showbackground\": true, \"ticks\": \"\", \"zerolinecolor\": \"white\"}, \"yaxis\": {\"backgroundcolor\": \"#E5ECF6\", \"gridcolor\": \"white\", \"gridwidth\": 2, \"linecolor\": \"white\", \"showbackground\": true, \"ticks\": \"\", \"zerolinecolor\": \"white\"}, \"zaxis\": {\"backgroundcolor\": \"#E5ECF6\", \"gridcolor\": \"white\", \"gridwidth\": 2, \"linecolor\": \"white\", \"showbackground\": true, \"ticks\": \"\", \"zerolinecolor\": \"white\"}}, \"shapedefaults\": {\"line\": {\"color\": \"#2a3f5f\"}}, \"ternary\": {\"aaxis\": {\"gridcolor\": \"white\", \"linecolor\": \"white\", \"ticks\": \"\"}, \"baxis\": {\"gridcolor\": \"white\", \"linecolor\": \"white\", \"ticks\": \"\"}, \"bgcolor\": \"#E5ECF6\", \"caxis\": {\"gridcolor\": \"white\", \"linecolor\": \"white\", \"ticks\": \"\"}}, \"title\": {\"x\": 0.05}, \"xaxis\": {\"automargin\": true, \"gridcolor\": \"white\", \"linecolor\": \"white\", \"ticks\": \"\", \"title\": {\"standoff\": 15}, \"zerolinecolor\": \"white\", \"zerolinewidth\": 2}, \"yaxis\": {\"automargin\": true, \"gridcolor\": \"white\", \"linecolor\": \"white\", \"ticks\": \"\", \"title\": {\"standoff\": 15}, \"zerolinecolor\": \"white\", \"zerolinewidth\": 2}}}, \"title\": {\"text\": \"<b>Countries using Press Index-2019</b>\", \"x\": 0.5}, \"width\": 750},                        {\"responsive\": true}                    ).then(function(){\n",
       "                            \n",
       "var gd = document.getElementById('a6d35b94-e6c1-4302-b413-43a26f759217');\n",
       "var x = new MutationObserver(function (mutations, observer) {{\n",
       "        var display = window.getComputedStyle(gd).display;\n",
       "        if (!display || display === 'none') {{\n",
       "            console.log([gd, 'removed!']);\n",
       "            Plotly.purge(gd);\n",
       "            observer.disconnect();\n",
       "        }}\n",
       "}});\n",
       "\n",
       "// Listen for the removal of the full notebook cells\n",
       "var notebookContainer = gd.closest('#notebook-container');\n",
       "if (notebookContainer) {{\n",
       "    x.observe(notebookContainer, {childList: true});\n",
       "}}\n",
       "\n",
       "// Listen for the clearing of the current output cell\n",
       "var outputEl = gd.closest('.output');\n",
       "if (outputEl) {{\n",
       "    x.observe(outputEl, {childList: true});\n",
       "}}\n",
       "\n",
       "                        })                };                });            </script>        </div>"
      ]
     },
     "metadata": {},
     "output_type": "display_data"
    }
   ],
   "source": [
    "plot_Global_press_index(2019)"
   ]
  }
 ],
 "metadata": {
  "kernelspec": {
   "display_name": "Python 3",
   "language": "python",
   "name": "python3"
  },
  "language_info": {
   "codemirror_mode": {
    "name": "ipython",
    "version": 3
   },
   "file_extension": ".py",
   "mimetype": "text/x-python",
   "name": "python",
   "nbconvert_exporter": "python",
   "pygments_lexer": "ipython3",
   "version": "3.7.10"
  },
  "papermill": {
   "default_parameters": {},
   "duration": 14.854127,
   "end_time": "2021-06-22T09:02:23.341658",
   "environment_variables": {},
   "exception": null,
   "input_path": "__notebook__.ipynb",
   "output_path": "__notebook__.ipynb",
   "parameters": {},
   "start_time": "2021-06-22T09:02:08.487531",
   "version": "2.3.3"
  }
 },
 "nbformat": 4,
 "nbformat_minor": 5
}
